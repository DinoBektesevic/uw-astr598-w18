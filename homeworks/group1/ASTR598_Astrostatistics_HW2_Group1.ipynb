{
 "cells": [
  {
   "cell_type": "markdown",
   "metadata": {},
   "source": [
    "### ASTR 598 - Astrostatistics - Class Project - Group 1\n",
    "\n",
    "- Tyler Gordon\n",
    "- Meredith Durbin \n",
    "- Brianna Thomas\n",
    "- Joachim Moeyens\n",
    "- Dino Bektesevic"
   ]
  },
  {
   "cell_type": "code",
   "execution_count": 1,
   "metadata": {},
   "outputs": [],
   "source": [
    "import os\n",
    "import glob\n",
    "import numpy as np\n",
    "import pandas as pd\n",
    "import matplotlib.pyplot as plt\n",
    "\n",
    "from astropy.io import fits\n",
    "from astropy.coordinates import SkyCoord\n",
    "\n",
    "% matplotlib inline"
   ]
  },
  {
   "cell_type": "markdown",
   "metadata": {},
   "source": [
    "[Google Drive for NSC files](https://drive.google.com/drive/folders/1r0LgsJ4LjUgcxUIYwPUZl-YcwxqO0z5c?usp=sharing)"
   ]
  },
  {
   "cell_type": "code",
   "execution_count": 2,
   "metadata": {},
   "outputs": [],
   "source": [
    "# Assumes there is a directory called data \n",
    "# in the same level as this notebook\n",
    "DATA_DIR = \"data/\"\n",
    "HLC_FILES = glob.glob(os.path.join(DATA_DIR, \"HLC*.fits\"))\n",
    "NSC_FILES = glob.glob(os.path.join(DATA_DIR, \"stripe82*.txt\"))"
   ]
  },
  {
   "cell_type": "code",
   "execution_count": 3,
   "metadata": {},
   "outputs": [
    {
     "data": {
      "text/plain": [
       "['data/HLC.RA_00_to_01.fits',\n",
       " 'data/HLC.RA_01_to_02.fits',\n",
       " 'data/HLC.RA_22_to_23.fits',\n",
       " 'data/HLC.RA_03_to_04.fits',\n",
       " 'data/HLC.RA_23_to_24.fits',\n",
       " 'data/HLC.RA_02_to_03.fits',\n",
       " 'data/HLC.RA_21_to_22.fits',\n",
       " 'data/HLC.RA_20_to_21.fits']"
      ]
     },
     "execution_count": 3,
     "metadata": {},
     "output_type": "execute_result"
    }
   ],
   "source": [
    "HLC_FILES"
   ]
  },
  {
   "cell_type": "code",
   "execution_count": 4,
   "metadata": {},
   "outputs": [
    {
     "data": {
      "text/plain": [
       "['data/stripe82_315_ra_45_0_dec_1_3.txt',\n",
       " 'data/stripe82_315_ra_45_-1_3_dec_0.txt']"
      ]
     },
     "execution_count": 4,
     "metadata": {},
     "output_type": "execute_result"
    }
   ],
   "source": [
    "NSC_FILES"
   ]
  },
  {
   "cell_type": "code",
   "execution_count": 5,
   "metadata": {},
   "outputs": [],
   "source": [
    "# Simple function to read in HLC and NSC files into a single dataframe\n",
    "\n",
    "def buildHLCDataFrame(datafiles,\n",
    "                      filters=[\"u\", \"g\", \"r\", \"i\", \"z\"],\n",
    "                      columns=[\"MEAN_PSFMAG\", \"MEAN_OBJECT_TYPE\", \"RA_PM_CLIP\", \"DEC_PM_CLIP\"],\n",
    "                      makeColors=True,\n",
    "                      magColumnName=\"MEAN_PSFMAG\",\n",
    "                      colors=[\"g-i\"]):\n",
    "    \n",
    "    dfs = []\n",
    "    for datafile in datafiles:\n",
    "        hdul = fits.open(datafile)\n",
    "        data = hdul[1].data\n",
    "        df = pd.DataFrame()\n",
    "\n",
    "        for column in columns:\n",
    "            # Assume multi-dimensional fits columns are keyed on filters\n",
    "            if data[column][0].shape == (len(filters),):\n",
    "                for i, filt in enumerate(filters):\n",
    "                    df[\"{}_{}\".format(column, filt)] = data[column][:, i]\n",
    "            # If not multi-dimensional just add to dataframe as normal\n",
    "            elif data[column][0].shape == ():\n",
    "                df[column] = data[column]\n",
    "            # If it isn't singular in dimension, or fits the expected number of filters\n",
    "            # raise a hopefully useful error\n",
    "            else:\n",
    "                raise ValueError(\"Shape of multi-dimensional column data does not match number of filters!\")\n",
    "\n",
    "        if makeColors is True:\n",
    "            for color in colors:\n",
    "                # color = filt2 - filt1\n",
    "                filt1 = color.split(\"-\")[1]\n",
    "                filt2 = color.split(\"-\")[0]\n",
    "                df[color] = df[\"{}_{}\".format(magColumnName, filt2)] - df[\"{}_{}\".format(magColumnName, filt1)]\n",
    "        dfs.append(df)\n",
    "    final = pd.concat(dfs)\n",
    "    final.reset_index(inplace=True, drop=True)\n",
    "    return final\n",
    "\n",
    "def buildNSCDataFrame(datafiles):\n",
    "\n",
    "    dfs = []\n",
    "    for datafile in datafiles:\n",
    "        df = pd.read_csv(NSC_FILES[0], sep=\" \")\n",
    "        dfs.append(df)\n",
    "    \n",
    "    final = pd.concat(dfs)\n",
    "    final.reset_index(inplace=True, drop=True)\n",
    "    return final"
   ]
  },
  {
   "cell_type": "code",
   "execution_count": 6,
   "metadata": {},
   "outputs": [],
   "source": [
    "hlc = buildHLCDataFrame(HLC_FILES)"
   ]
  },
  {
   "cell_type": "code",
   "execution_count": 7,
   "metadata": {},
   "outputs": [],
   "source": [
    "nsc = buildNSCDataFrame(NSC_FILES)"
   ]
  },
  {
   "cell_type": "code",
   "execution_count": null,
   "metadata": {},
   "outputs": [],
   "source": []
  }
 ],
 "metadata": {
  "kernelspec": {
   "display_name": "Python [conda env:py27]",
   "language": "python",
   "name": "conda-env-py27-py"
  },
  "language_info": {
   "codemirror_mode": {
    "name": "ipython",
    "version": 2
   },
   "file_extension": ".py",
   "mimetype": "text/x-python",
   "name": "python",
   "nbconvert_exporter": "python",
   "pygments_lexer": "ipython2",
   "version": "2.7.14"
  }
 },
 "nbformat": 4,
 "nbformat_minor": 2
}
