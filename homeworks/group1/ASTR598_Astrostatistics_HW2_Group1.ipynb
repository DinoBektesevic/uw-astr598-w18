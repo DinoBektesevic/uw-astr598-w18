{
 "cells": [
  {
   "cell_type": "markdown",
   "metadata": {},
   "source": [
    "### ASTR 598 - Astrostatistics - Class Project - Group 1\n",
    "\n",
    "- Tyler Gordon\n",
    "- Meredith Durbin \n",
    "- Brianna Thomas\n",
    "- Joachim Moeyens\n",
    "- Dino Bektesevic"
   ]
  },
  {
   "cell_type": "code",
   "execution_count": 16,
   "metadata": {
    "collapsed": true
   },
   "outputs": [],
   "source": [
    "import os\n",
    "import glob\n",
    "import numpy as np\n",
    "import pandas as pd\n",
    "import matplotlib.pyplot as plt\n",
    "\n",
    "from crossmatch import xmatch\n",
    "\n",
    "from astropy import units as u\n",
    "from astropy.io import fits\n",
    "from astropy.coordinates import SkyCoord\n",
    "\n",
    "% matplotlib inline"
   ]
  },
  {
   "cell_type": "markdown",
   "metadata": {},
   "source": [
    "### Data Acquisition"
   ]
  },
  {
   "cell_type": "markdown",
   "metadata": {},
   "source": [
    "[Google Drive for NSC files and xmatch arrays](https://drive.google.com/drive/folders/1r0LgsJ4LjUgcxUIYwPUZl-YcwxqO0z5c?usp=sharing)\n",
    "\n",
    "[Website for HLC files](http://das.sdss.org/va/stripe_82_variability/SDSS_82_public/)"
   ]
  },
  {
   "cell_type": "code",
   "execution_count": 17,
   "metadata": {
    "collapsed": true
   },
   "outputs": [],
   "source": [
    "# Assumes there is a directory called data \n",
    "# in the same level as this notebook\n",
    "DATA_DIR = \"data/\"\n",
    "HLC_FILES = sorted(glob.glob(os.path.join(DATA_DIR, \"HLC*.fits\")))\n",
    "NSC_FILES = sorted(glob.glob(os.path.join(DATA_DIR, \"stripe82*.txt\")))\n",
    "# Sorting insures cross OS compatibility for list ordering"
   ]
  },
  {
   "cell_type": "code",
   "execution_count": 18,
   "metadata": {},
   "outputs": [
    {
     "data": {
      "text/plain": [
       "['HLC.RA_00_to_01.fits',\n",
       " 'HLC.RA_01_to_02.fits',\n",
       " 'HLC.RA_02_to_03.fits',\n",
       " 'HLC.RA_03_to_04.fits',\n",
       " 'HLC.RA_20_to_21.fits',\n",
       " 'HLC.RA_21_to_22.fits',\n",
       " 'HLC.RA_22_to_23.fits',\n",
       " 'HLC.RA_23_to_24.fits',\n",
       " 'stripe82_315_ra_45_-1_3_dec_0.txt',\n",
       " 'stripe82_315_ra_45_0_dec_1_3.txt',\n",
       " 'xmatch_hlc_nsc_1arcsec_dist.txt',\n",
       " 'xmatch_hlc_nsc_1arcsec_idx.txt',\n",
       " 'xmatch_nsc_hlc_1arcsec_dist.txt',\n",
       " 'xmatch_nsc_hlc_1arcsec_idx.txt']"
      ]
     },
     "execution_count": 18,
     "metadata": {},
     "output_type": "execute_result"
    }
   ],
   "source": [
    "sorted(os.listdir(DATA_DIR))"
   ]
  },
  {
   "cell_type": "code",
   "execution_count": 19,
   "metadata": {},
   "outputs": [
    {
     "data": {
      "text/plain": [
       "['data/HLC.RA_00_to_01.fits',\n",
       " 'data/HLC.RA_01_to_02.fits',\n",
       " 'data/HLC.RA_02_to_03.fits',\n",
       " 'data/HLC.RA_03_to_04.fits',\n",
       " 'data/HLC.RA_20_to_21.fits',\n",
       " 'data/HLC.RA_21_to_22.fits',\n",
       " 'data/HLC.RA_22_to_23.fits',\n",
       " 'data/HLC.RA_23_to_24.fits']"
      ]
     },
     "execution_count": 19,
     "metadata": {},
     "output_type": "execute_result"
    }
   ],
   "source": [
    "HLC_FILES"
   ]
  },
  {
   "cell_type": "code",
   "execution_count": 20,
   "metadata": {},
   "outputs": [
    {
     "data": {
      "text/plain": [
       "['data/stripe82_315_ra_45_-1_3_dec_0.txt',\n",
       " 'data/stripe82_315_ra_45_0_dec_1_3.txt']"
      ]
     },
     "execution_count": 20,
     "metadata": {},
     "output_type": "execute_result"
    }
   ],
   "source": [
    "NSC_FILES"
   ]
  },
  {
   "cell_type": "code",
   "execution_count": 21,
   "metadata": {
    "collapsed": true
   },
   "outputs": [],
   "source": [
    "# Simple function to read in HLC and NSC files into a single dataframe\n",
    "\n",
    "def buildHLCDataFrame(datafiles,\n",
    "                      filters=[\"u\", \"g\", \"r\", \"i\", \"z\"],\n",
    "                      columns=[\"RA_MEAN\", \"DEC_MEAN\",\n",
    "                               \"MEAN_PSFMAG\", \"MEAN_PSFMAG_ERR\",\n",
    "                               \"MEAN_OBJECT_TYPE\", \"RA_PM_CLIP\", \n",
    "                               \"RA_PM_ERR_CLIP\", \"DEC_PM_CLIP\",\n",
    "                               \"DEC_PM_ERR_CLIP\"],\n",
    "                      makeColors=True,\n",
    "                      magColumnName=\"MEAN_PSFMAG\",\n",
    "                      colors=[\"g-i\"]):\n",
    "    \n",
    "    dfs = []\n",
    "    for datafile in datafiles:\n",
    "        hdul = fits.open(datafile)\n",
    "        data = hdul[1].data\n",
    "        df = pd.DataFrame()\n",
    "\n",
    "        for column in columns:\n",
    "            # Assume multi-dimensional fits columns are keyed on filters\n",
    "            if data[column][0].shape == (len(filters),):\n",
    "                for i, filt in enumerate(filters):\n",
    "                    df[\"{}_{}\".format(column, filt)] = data[column][:, i]\n",
    "            # If not multi-dimensional just add to dataframe as normal\n",
    "            elif data[column][0].shape == ():\n",
    "                df[column] = data[column]\n",
    "            # If it isn't singular in dimension, or fits the expected number of filters\n",
    "            # raise a hopefully useful error\n",
    "            else:\n",
    "                raise ValueError(\"Shape of multi-dimensional column data does not match number of filters!\")\n",
    "\n",
    "        if makeColors is True:\n",
    "            for color in colors:\n",
    "                # color = filt2 - filt1\n",
    "                filt1 = color.split(\"-\")[1]\n",
    "                filt2 = color.split(\"-\")[0]\n",
    "                df[color] = df[\"{}_{}\".format(magColumnName, filt2)] - df[\"{}_{}\".format(magColumnName, filt1)]\n",
    "        dfs.append(df)\n",
    "    final = pd.concat(dfs)\n",
    "    final.reset_index(inplace=True, drop=True)\n",
    "    return final\n",
    "\n",
    "def buildNSCDataFrame(datafiles):\n",
    "\n",
    "    dfs = []\n",
    "    for datafile in datafiles:\n",
    "        df = pd.read_csv(NSC_FILES[0], sep=\" \")\n",
    "        dfs.append(df)\n",
    "    \n",
    "    final = pd.concat(dfs)\n",
    "    final.reset_index(inplace=True, drop=True)\n",
    "    return final"
   ]
  },
  {
   "cell_type": "code",
   "execution_count": 22,
   "metadata": {},
   "outputs": [],
   "source": [
    "hlc = buildHLCDataFrame(HLC_FILES)"
   ]
  },
  {
   "cell_type": "code",
   "execution_count": 23,
   "metadata": {},
   "outputs": [
    {
     "data": {
      "text/html": [
       "<div>\n",
       "<style>\n",
       "    .dataframe thead tr:only-child th {\n",
       "        text-align: right;\n",
       "    }\n",
       "\n",
       "    .dataframe thead th {\n",
       "        text-align: left;\n",
       "    }\n",
       "\n",
       "    .dataframe tbody tr th {\n",
       "        vertical-align: top;\n",
       "    }\n",
       "</style>\n",
       "<table border=\"1\" class=\"dataframe\">\n",
       "  <thead>\n",
       "    <tr style=\"text-align: right;\">\n",
       "      <th></th>\n",
       "      <th>RA_MEAN</th>\n",
       "      <th>DEC_MEAN</th>\n",
       "      <th>MEAN_PSFMAG_u</th>\n",
       "      <th>MEAN_PSFMAG_g</th>\n",
       "      <th>MEAN_PSFMAG_r</th>\n",
       "      <th>MEAN_PSFMAG_i</th>\n",
       "      <th>MEAN_PSFMAG_z</th>\n",
       "      <th>MEAN_PSFMAG_ERR_u</th>\n",
       "      <th>MEAN_PSFMAG_ERR_g</th>\n",
       "      <th>MEAN_PSFMAG_ERR_r</th>\n",
       "      <th>MEAN_PSFMAG_ERR_i</th>\n",
       "      <th>MEAN_PSFMAG_ERR_z</th>\n",
       "      <th>MEAN_OBJECT_TYPE</th>\n",
       "      <th>RA_PM_CLIP</th>\n",
       "      <th>RA_PM_ERR_CLIP</th>\n",
       "      <th>DEC_PM_CLIP</th>\n",
       "      <th>DEC_PM_ERR_CLIP</th>\n",
       "      <th>g-i</th>\n",
       "    </tr>\n",
       "  </thead>\n",
       "  <tbody>\n",
       "    <tr>\n",
       "      <th>0</th>\n",
       "      <td>0.000012</td>\n",
       "      <td>-0.681220</td>\n",
       "      <td>0.0000</td>\n",
       "      <td>22.679943</td>\n",
       "      <td>21.688560</td>\n",
       "      <td>21.280607</td>\n",
       "      <td>20.960501</td>\n",
       "      <td>0.000000</td>\n",
       "      <td>0.070077</td>\n",
       "      <td>0.044086</td>\n",
       "      <td>0.038800</td>\n",
       "      <td>0.177185</td>\n",
       "      <td>3.2</td>\n",
       "      <td>0.014193</td>\n",
       "      <td>0.010227</td>\n",
       "      <td>0.037836</td>\n",
       "      <td>0.010227</td>\n",
       "      <td>1.399336</td>\n",
       "    </tr>\n",
       "    <tr>\n",
       "      <th>1</th>\n",
       "      <td>0.000035</td>\n",
       "      <td>0.475404</td>\n",
       "      <td>0.0000</td>\n",
       "      <td>22.494812</td>\n",
       "      <td>21.485416</td>\n",
       "      <td>21.199217</td>\n",
       "      <td>20.647459</td>\n",
       "      <td>0.000000</td>\n",
       "      <td>0.041831</td>\n",
       "      <td>0.025648</td>\n",
       "      <td>0.031936</td>\n",
       "      <td>0.111785</td>\n",
       "      <td>3.0</td>\n",
       "      <td>-0.016163</td>\n",
       "      <td>0.008770</td>\n",
       "      <td>0.030977</td>\n",
       "      <td>0.008770</td>\n",
       "      <td>1.295595</td>\n",
       "    </tr>\n",
       "    <tr>\n",
       "      <th>2</th>\n",
       "      <td>0.000151</td>\n",
       "      <td>1.059526</td>\n",
       "      <td>0.0000</td>\n",
       "      <td>21.816391</td>\n",
       "      <td>22.191387</td>\n",
       "      <td>20.808842</td>\n",
       "      <td>20.021967</td>\n",
       "      <td>0.000000</td>\n",
       "      <td>0.097663</td>\n",
       "      <td>0.028077</td>\n",
       "      <td>0.012231</td>\n",
       "      <td>0.020769</td>\n",
       "      <td>5.4</td>\n",
       "      <td>-0.012494</td>\n",
       "      <td>0.003727</td>\n",
       "      <td>-0.006675</td>\n",
       "      <td>0.003727</td>\n",
       "      <td>1.007549</td>\n",
       "    </tr>\n",
       "    <tr>\n",
       "      <th>3</th>\n",
       "      <td>0.000205</td>\n",
       "      <td>-0.838721</td>\n",
       "      <td>19.7705</td>\n",
       "      <td>18.835068</td>\n",
       "      <td>18.476278</td>\n",
       "      <td>18.329546</td>\n",
       "      <td>18.270407</td>\n",
       "      <td>0.041607</td>\n",
       "      <td>0.003259</td>\n",
       "      <td>0.002162</td>\n",
       "      <td>0.002186</td>\n",
       "      <td>0.003870</td>\n",
       "      <td>6.0</td>\n",
       "      <td>0.015038</td>\n",
       "      <td>0.002609</td>\n",
       "      <td>-0.001602</td>\n",
       "      <td>0.002609</td>\n",
       "      <td>0.505522</td>\n",
       "    </tr>\n",
       "    <tr>\n",
       "      <th>4</th>\n",
       "      <td>0.000228</td>\n",
       "      <td>0.077162</td>\n",
       "      <td>0.0000</td>\n",
       "      <td>20.968287</td>\n",
       "      <td>19.645609</td>\n",
       "      <td>18.767252</td>\n",
       "      <td>18.273226</td>\n",
       "      <td>0.000000</td>\n",
       "      <td>0.008626</td>\n",
       "      <td>0.004235</td>\n",
       "      <td>0.003535</td>\n",
       "      <td>0.006249</td>\n",
       "      <td>6.0</td>\n",
       "      <td>-0.012199</td>\n",
       "      <td>0.003451</td>\n",
       "      <td>-0.009051</td>\n",
       "      <td>0.003451</td>\n",
       "      <td>2.201035</td>\n",
       "    </tr>\n",
       "  </tbody>\n",
       "</table>\n",
       "</div>"
      ],
      "text/plain": [
       "    RA_MEAN  DEC_MEAN  MEAN_PSFMAG_u  MEAN_PSFMAG_g  MEAN_PSFMAG_r  \\\n",
       "0  0.000012 -0.681220         0.0000      22.679943      21.688560   \n",
       "1  0.000035  0.475404         0.0000      22.494812      21.485416   \n",
       "2  0.000151  1.059526         0.0000      21.816391      22.191387   \n",
       "3  0.000205 -0.838721        19.7705      18.835068      18.476278   \n",
       "4  0.000228  0.077162         0.0000      20.968287      19.645609   \n",
       "\n",
       "   MEAN_PSFMAG_i  MEAN_PSFMAG_z  MEAN_PSFMAG_ERR_u  MEAN_PSFMAG_ERR_g  \\\n",
       "0      21.280607      20.960501           0.000000           0.070077   \n",
       "1      21.199217      20.647459           0.000000           0.041831   \n",
       "2      20.808842      20.021967           0.000000           0.097663   \n",
       "3      18.329546      18.270407           0.041607           0.003259   \n",
       "4      18.767252      18.273226           0.000000           0.008626   \n",
       "\n",
       "   MEAN_PSFMAG_ERR_r  MEAN_PSFMAG_ERR_i  MEAN_PSFMAG_ERR_z  MEAN_OBJECT_TYPE  \\\n",
       "0           0.044086           0.038800           0.177185               3.2   \n",
       "1           0.025648           0.031936           0.111785               3.0   \n",
       "2           0.028077           0.012231           0.020769               5.4   \n",
       "3           0.002162           0.002186           0.003870               6.0   \n",
       "4           0.004235           0.003535           0.006249               6.0   \n",
       "\n",
       "   RA_PM_CLIP  RA_PM_ERR_CLIP  DEC_PM_CLIP  DEC_PM_ERR_CLIP       g-i  \n",
       "0    0.014193        0.010227     0.037836         0.010227  1.399336  \n",
       "1   -0.016163        0.008770     0.030977         0.008770  1.295595  \n",
       "2   -0.012494        0.003727    -0.006675         0.003727  1.007549  \n",
       "3    0.015038        0.002609    -0.001602         0.002609  0.505522  \n",
       "4   -0.012199        0.003451    -0.009051         0.003451  2.201035  "
      ]
     },
     "execution_count": 23,
     "metadata": {},
     "output_type": "execute_result"
    }
   ],
   "source": [
    "hlc.head()"
   ]
  },
  {
   "cell_type": "code",
   "execution_count": 24,
   "metadata": {
    "collapsed": true
   },
   "outputs": [],
   "source": [
    "nsc = buildNSCDataFrame(NSC_FILES)"
   ]
  },
  {
   "cell_type": "code",
   "execution_count": 25,
   "metadata": {},
   "outputs": [
    {
     "data": {
      "text/html": [
       "<div>\n",
       "<style>\n",
       "    .dataframe thead tr:only-child th {\n",
       "        text-align: right;\n",
       "    }\n",
       "\n",
       "    .dataframe thead th {\n",
       "        text-align: left;\n",
       "    }\n",
       "\n",
       "    .dataframe tbody tr th {\n",
       "        vertical-align: top;\n",
       "    }\n",
       "</style>\n",
       "<table border=\"1\" class=\"dataframe\">\n",
       "  <thead>\n",
       "    <tr style=\"text-align: right;\">\n",
       "      <th></th>\n",
       "      <th>ra</th>\n",
       "      <th>dec</th>\n",
       "      <th>pmra</th>\n",
       "      <th>pmraerr</th>\n",
       "      <th>pmdec</th>\n",
       "      <th>pmdecerr</th>\n",
       "      <th>mjd</th>\n",
       "      <th>deltamjd</th>\n",
       "      <th>gmag</th>\n",
       "      <th>grms</th>\n",
       "      <th>...</th>\n",
       "      <th>rmag</th>\n",
       "      <th>rrms</th>\n",
       "      <th>rerr</th>\n",
       "      <th>imag</th>\n",
       "      <th>irms</th>\n",
       "      <th>ierr</th>\n",
       "      <th>class_star</th>\n",
       "      <th>fwhm</th>\n",
       "      <th>ebv</th>\n",
       "      <th>nphot</th>\n",
       "    </tr>\n",
       "  </thead>\n",
       "  <tbody>\n",
       "    <tr>\n",
       "      <th>0</th>\n",
       "      <td>315.012148</td>\n",
       "      <td>-1.298594</td>\n",
       "      <td>1275.324779</td>\n",
       "      <td>1314.590162</td>\n",
       "      <td>-91.929458</td>\n",
       "      <td>1398.319357</td>\n",
       "      <td>57598.697285</td>\n",
       "      <td>10.879461</td>\n",
       "      <td>99.989998</td>\n",
       "      <td>999999.0</td>\n",
       "      <td>...</td>\n",
       "      <td>20.612076</td>\n",
       "      <td>999999.0</td>\n",
       "      <td>0.027147</td>\n",
       "      <td>99.989998</td>\n",
       "      <td>999999.0</td>\n",
       "      <td>9.99</td>\n",
       "      <td>0.978889</td>\n",
       "      <td>1.380337</td>\n",
       "      <td>0.087262</td>\n",
       "      <td>2</td>\n",
       "    </tr>\n",
       "    <tr>\n",
       "      <th>1</th>\n",
       "      <td>315.010754</td>\n",
       "      <td>-1.297880</td>\n",
       "      <td>-714.960501</td>\n",
       "      <td>3414.340885</td>\n",
       "      <td>-272.622409</td>\n",
       "      <td>3447.444185</td>\n",
       "      <td>57598.697285</td>\n",
       "      <td>10.879461</td>\n",
       "      <td>99.989998</td>\n",
       "      <td>999999.0</td>\n",
       "      <td>...</td>\n",
       "      <td>21.986279</td>\n",
       "      <td>999999.0</td>\n",
       "      <td>0.079821</td>\n",
       "      <td>99.989998</td>\n",
       "      <td>999999.0</td>\n",
       "      <td>9.99</td>\n",
       "      <td>0.899216</td>\n",
       "      <td>1.522221</td>\n",
       "      <td>0.087286</td>\n",
       "      <td>2</td>\n",
       "    </tr>\n",
       "    <tr>\n",
       "      <th>2</th>\n",
       "      <td>315.013867</td>\n",
       "      <td>-1.296287</td>\n",
       "      <td>-2339.889414</td>\n",
       "      <td>6293.682515</td>\n",
       "      <td>-2186.863370</td>\n",
       "      <td>6311.702668</td>\n",
       "      <td>57598.697285</td>\n",
       "      <td>10.879461</td>\n",
       "      <td>99.989998</td>\n",
       "      <td>999999.0</td>\n",
       "      <td>...</td>\n",
       "      <td>22.269653</td>\n",
       "      <td>999999.0</td>\n",
       "      <td>0.095987</td>\n",
       "      <td>99.989998</td>\n",
       "      <td>999999.0</td>\n",
       "      <td>9.99</td>\n",
       "      <td>0.340959</td>\n",
       "      <td>2.487719</td>\n",
       "      <td>0.087237</td>\n",
       "      <td>2</td>\n",
       "    </tr>\n",
       "    <tr>\n",
       "      <th>3</th>\n",
       "      <td>315.003075</td>\n",
       "      <td>-1.293646</td>\n",
       "      <td>106.992177</td>\n",
       "      <td>118.045727</td>\n",
       "      <td>18.378282</td>\n",
       "      <td>119.195841</td>\n",
       "      <td>57717.185732</td>\n",
       "      <td>360.905060</td>\n",
       "      <td>22.649281</td>\n",
       "      <td>999999.0</td>\n",
       "      <td>...</td>\n",
       "      <td>21.409351</td>\n",
       "      <td>999999.0</td>\n",
       "      <td>0.052671</td>\n",
       "      <td>99.989998</td>\n",
       "      <td>999999.0</td>\n",
       "      <td>9.99</td>\n",
       "      <td>0.866193</td>\n",
       "      <td>1.791050</td>\n",
       "      <td>0.087430</td>\n",
       "      <td>3</td>\n",
       "    </tr>\n",
       "    <tr>\n",
       "      <th>4</th>\n",
       "      <td>315.003150</td>\n",
       "      <td>-1.291179</td>\n",
       "      <td>-1.564847</td>\n",
       "      <td>24.141297</td>\n",
       "      <td>-6.216486</td>\n",
       "      <td>29.390321</td>\n",
       "      <td>57717.185732</td>\n",
       "      <td>360.905060</td>\n",
       "      <td>18.699413</td>\n",
       "      <td>999999.0</td>\n",
       "      <td>...</td>\n",
       "      <td>18.291037</td>\n",
       "      <td>999999.0</td>\n",
       "      <td>0.006475</td>\n",
       "      <td>99.989998</td>\n",
       "      <td>999999.0</td>\n",
       "      <td>9.99</td>\n",
       "      <td>0.984123</td>\n",
       "      <td>1.374196</td>\n",
       "      <td>0.087436</td>\n",
       "      <td>3</td>\n",
       "    </tr>\n",
       "  </tbody>\n",
       "</table>\n",
       "<p>5 rows × 21 columns</p>\n",
       "</div>"
      ],
      "text/plain": [
       "           ra       dec         pmra      pmraerr        pmdec     pmdecerr  \\\n",
       "0  315.012148 -1.298594  1275.324779  1314.590162   -91.929458  1398.319357   \n",
       "1  315.010754 -1.297880  -714.960501  3414.340885  -272.622409  3447.444185   \n",
       "2  315.013867 -1.296287 -2339.889414  6293.682515 -2186.863370  6311.702668   \n",
       "3  315.003075 -1.293646   106.992177   118.045727    18.378282   119.195841   \n",
       "4  315.003150 -1.291179    -1.564847    24.141297    -6.216486    29.390321   \n",
       "\n",
       "            mjd    deltamjd       gmag      grms  ...         rmag      rrms  \\\n",
       "0  57598.697285   10.879461  99.989998  999999.0  ...    20.612076  999999.0   \n",
       "1  57598.697285   10.879461  99.989998  999999.0  ...    21.986279  999999.0   \n",
       "2  57598.697285   10.879461  99.989998  999999.0  ...    22.269653  999999.0   \n",
       "3  57717.185732  360.905060  22.649281  999999.0  ...    21.409351  999999.0   \n",
       "4  57717.185732  360.905060  18.699413  999999.0  ...    18.291037  999999.0   \n",
       "\n",
       "       rerr       imag      irms  ierr  class_star      fwhm       ebv  nphot  \n",
       "0  0.027147  99.989998  999999.0  9.99    0.978889  1.380337  0.087262      2  \n",
       "1  0.079821  99.989998  999999.0  9.99    0.899216  1.522221  0.087286      2  \n",
       "2  0.095987  99.989998  999999.0  9.99    0.340959  2.487719  0.087237      2  \n",
       "3  0.052671  99.989998  999999.0  9.99    0.866193  1.791050  0.087430      3  \n",
       "4  0.006475  99.989998  999999.0  9.99    0.984123  1.374196  0.087436      3  \n",
       "\n",
       "[5 rows x 21 columns]"
      ]
     },
     "execution_count": 25,
     "metadata": {},
     "output_type": "execute_result"
    }
   ],
   "source": [
    "nsc.head()"
   ]
  },
  {
   "cell_type": "code",
   "execution_count": null,
   "metadata": {
    "collapsed": true
   },
   "outputs": [],
   "source": [
    "nsc.columns"
   ]
  },
  {
   "cell_type": "markdown",
   "metadata": {},
   "source": [
    "### Crossmatching (using DataLab crossmatch.py)"
   ]
  },
  {
   "cell_type": "code",
   "execution_count": 26,
   "metadata": {
    "collapsed": true
   },
   "outputs": [],
   "source": [
    "### 1 arcsecond in degrees\n",
    "arcsecond = 0.000277778\n",
    "DO_CROSSMATCH = False"
   ]
  },
  {
   "cell_type": "code",
   "execution_count": 28,
   "metadata": {},
   "outputs": [
    {
     "name": "stdout",
     "output_type": "stream",
     "text": [
      "1 arcsecond max distance crossmatch found 1481111 matched sources\n",
      "1 arcsecond max distance reverse crossmatch found 3218120 matched sources\n"
     ]
    }
   ],
   "source": [
    "if DO_CROSSMATCH:\n",
    "    matched_1arcsec = xmatch(hlc[\"RA_MEAN\"].values,\n",
    "                             hlc[\"DEC_MEAN\"].values,\n",
    "                             nsc[\"ra\"].values,\n",
    "                             nsc[\"dec\"].values,\n",
    "                             maxdist=arcsecond)\n",
    "    reverse_matched_1arcsec = xmatch(nsc[\"ra\"].values,\n",
    "                                     nsc[\"dec\"].values,\n",
    "                                     hlc[\"RA_MEAN\"].values,\n",
    "                                     hlc[\"DEC_MEAN\"].values,\n",
    "                                     maxdist=arcsecond)\n",
    "    \n",
    "    np.savetxt(\"xmatch_hlc_nsc_1arcsec_idx.txt\",  matched_1arcsec[0], fmt=\"%i\")\n",
    "    np.savetxt(\"xmatch_hlc_nsc_1arcsec_dist.txt\", matched_1arcsec[1])\n",
    "    \n",
    "    np.savetxt(\"xmatch_nsc_hlc_1arcsec_idx.txt\",  reverse_matched_1arcsec[0], fmt=\"%i\")\n",
    "    np.savetxt(\"xmatch_nsc_hlc_1arcsec_dist.txt\", reverse_matched_1arcsec[1])\n",
    "else:\n",
    "    nsc2hlc_mask_1arcsec = np.loadtxt(os.path.join(DATA_DIR,\"xmatch_hlc_nsc_1arcsec_idx.txt\"), unpack=True)\n",
    "    nsc2hlc_mask_dist_1arcsec = np.loadtxt(os.path.join(DATA_DIR,\"xmatch_hlc_nsc_1arcsec_dist.txt\"), unpack=True)\n",
    "    \n",
    "    hlc2nsc_mask_1arcsec = np.loadtxt(os.path.join(DATA_DIR,\"xmatch_nsc_hlc_1arcsec_idx.txt\"), unpack=True)\n",
    "    hlc2nsc_mask_dist_1arcsec = np.loadtxt(os.path.join(DATA_DIR,\"xmatch_nsc_hlc_1arcsec_dist.txt\"), unpack=True)\n",
    "    \n",
    "    print(\"1 arcsecond max distance crossmatch found {} matched sources\".format(len(nsc2hlc_mask_1arcsec)))\n",
    "    print(\"1 arcsecond max distance reverse crossmatch found {} matched sources\".format(len(hlc2nsc_mask_1arcsec)))"
   ]
  },
  {
   "cell_type": "code",
   "execution_count": null,
   "metadata": {
    "scrolled": true
   },
   "outputs": [],
   "source": [
    "if DO_CROSSMATCH:\n",
    "    matched_2arcsec = xmatch(hlc[\"RA_MEAN\"].values,\n",
    "                             hlc[\"DEC_MEAN\"].values,\n",
    "                             nsc[\"ra\"].values,\n",
    "                             nsc[\"dec\"].values,\n",
    "                             maxdist=2*arcsecond)\n",
    "    reverse_matched_2arcsec = xmatch(nsc[\"ra\"].values,\n",
    "                                     nsc[\"dec\"].values,\n",
    "                                     hlc[\"RA_MEAN\"].values,\n",
    "                                     hlc[\"DEC_MEAN\"].values,\n",
    "                                     maxdist=2*arcsecond)\n",
    "    \n",
    "    np.savetxt(\"xmatch_hlc_nsc_1arcsec_idx.txt\",  matched_2arcsec[0], fmt=\"%i\")\n",
    "    np.savetxt(\"xmatch_hlc_nsc_1arcsec_dist.txt\", matched_2arcsec[1])\n",
    "    \n",
    "    np.savetxt(\"xmatch_nsc_hlc_1arcsec_idx.txt\",  reverse_matched_2arcsec[0], fmt=\"%i\")\n",
    "    np.savetxt(\"xmatch_nsc_hlc_1arcsec_dist.txt\", reverse_matched_2arcsec[1])\n",
    "else:\n",
    "    nsc2hlc_mask_1arcsec = np.loadtxt(os.path.join(DATA_DIR,\"xmatch_hlc_nsc_2arcsec_idx.txt\"), unpack=True)\n",
    "    nsc2hlc_mask_dist_1arcsec = np.loadtxt(os.path.join(DATA_DIR,\"xmatch_hlc_nsc_2arcsec_dist.txt\"), unpack=True)\n",
    "    \n",
    "    hlc2nsc_mask_1arcsec = np.loadtxt(os.path.join(DATA_DIR,\"xmatch_nsc_hlc_2arcsec_idx.txt\"), unpack=True)\n",
    "    hlc2nsc_mask_dist_1arcsec = np.loadtxt(os.path.join(DATA_DIR,\"xmatch_nsc_hlc_2arcsec_dist.txt\"), unpack=True)\n",
    "    \n",
    "    print(\"1 arcsecond max distance crossmatch found {} matched sources\".format(len(nsc2hlc_mask_2arcsec)))\n",
    "    print(\"1 arcsecond max distance reverse crossmatch found {} matched sources\".format(len(hlc2nsc_mask_2arcsec)))"
   ]
  },
  {
   "cell_type": "markdown",
   "metadata": {},
   "source": [
    "### Data Cleaning and Proper Motion Selection"
   ]
  },
  {
   "cell_type": "markdown",
   "metadata": {},
   "source": [
    "### Chi-Squared Calculation"
   ]
  },
  {
   "cell_type": "markdown",
   "metadata": {},
   "source": [
    "### Plotting\n",
    "\n",
    "- Chi-squared distribution as a function of Ra and Dec\n",
    "- Proper motion as a function of RA and Dec\n",
    "- Others..."
   ]
  },
  {
   "cell_type": "code",
   "execution_count": 46,
   "metadata": {},
   "outputs": [
    {
     "name": "stdout",
     "output_type": "stream",
     "text": [
      "Number of objects in HLC data: 3700548 and NSC data: 7433090\n",
      "Number of matched objects in HLC data: 3218120 and NSC data: 1481111\n"
     ]
    }
   ],
   "source": [
    "hlcmasked = hlc[\"RA_MEAN\"][hlc2nsc_mask_1arcsec]\n",
    "nscmasked = nsc[\"ra\"][nsc2hlc_mask_1arcsec]\n",
    "print \"Number of objects in HLC data: {0} and NSC data: {1}\".format(len(hlc), len(nsc))\n",
    "print \"Number of matched objects in HLC data: {0} and NSC data: {1}\".format(len(hlcmasked), len(nscmasked))"
   ]
  },
  {
   "cell_type": "code",
   "execution_count": null,
   "metadata": {
    "collapsed": true
   },
   "outputs": [],
   "source": []
  }
 ],
 "metadata": {
  "kernelspec": {
   "display_name": "Python 2",
   "language": "python",
   "name": "python2"
  },
  "language_info": {
   "codemirror_mode": {
    "name": "ipython",
    "version": 2
   },
   "file_extension": ".py",
   "mimetype": "text/x-python",
   "name": "python",
   "nbconvert_exporter": "python",
   "pygments_lexer": "ipython2",
   "version": "2.7.13"
  }
 },
 "nbformat": 4,
 "nbformat_minor": 2
}
