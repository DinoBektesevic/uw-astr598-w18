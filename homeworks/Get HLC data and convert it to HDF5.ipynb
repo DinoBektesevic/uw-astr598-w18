{
 "cells": [
  {
   "cell_type": "code",
   "execution_count": 1,
   "metadata": {},
   "outputs": [],
   "source": [
    "import glob\n",
    "from astropy.table import Table"
   ]
  },
  {
   "cell_type": "code",
   "execution_count": 2,
   "metadata": {},
   "outputs": [
    {
     "name": "stdout",
     "output_type": "stream",
     "text": [
      "--2018-01-08 11:09:09--  http://das.sdss.org/va/stripe_82_variability/SDSS_82_public/\n",
      "Resolving das.sdss.org... 128.220.233.141\n",
      "Connecting to das.sdss.org|128.220.233.141|:80... connected.\n",
      "HTTP request sent, awaiting response... 200 OK\n",
      "Length: 3336 (3.3K) [text/html]\n",
      "Saving to: 'index.html.tmp.html'\n",
      "\n",
      "index.html.tmp.html 100%[===================>]   3.26K  --.-KB/s    in 0.001s  \n",
      "\n",
      "2018-01-08 11:09:09 (4.62 MB/s) - 'index.html.tmp.html' saved [3336/3336]\n",
      "\n",
      "Loading robots.txt; please ignore errors.\n",
      "--2018-01-08 11:09:09--  http://das.sdss.org/robots.txt\n",
      "Reusing existing connection to das.sdss.org:80.\n",
      "HTTP request sent, awaiting response... 200 OK\n",
      "Length: 120 [text/plain]\n",
      "Saving to: 'robots.txt.tmp'\n",
      "\n",
      "robots.txt.tmp      100%[===================>]     120  --.-KB/s    in 0s      \n",
      "\n",
      "2018-01-08 11:09:09 (10.4 MB/s) - 'robots.txt.tmp' saved [120/120]\n",
      "\n",
      "Removing index.html.tmp.html since it should be rejected.\n",
      "\n",
      "--2018-01-08 11:09:09--  http://das.sdss.org/va/stripe_82_variability/SDSS_82_public/HLC.RA_20_to_21.fits.gz\n",
      "Reusing existing connection to das.sdss.org:80.\n",
      "HTTP request sent, awaiting response... 200 OK\n",
      "Length: 205511245 (196M) [application/x-gzip]\n",
      "Saving to: 'HLC.RA_20_to_21.fits.gz'\n",
      "\n",
      "HLC.RA_20_to_21.fit 100%[===================>] 195.99M  12.8MB/s    in 18s     \n",
      "\n",
      "2018-01-08 11:09:27 (11.2 MB/s) - 'HLC.RA_20_to_21.fits.gz' saved [205511245/205511245]\n",
      "\n",
      "--2018-01-08 11:09:27--  http://das.sdss.org/va/stripe_82_variability/SDSS_82_public/HLC.RA_21_to_22.fits.gz\n",
      "Reusing existing connection to das.sdss.org:80.\n",
      "HTTP request sent, awaiting response... 200 OK\n",
      "Length: 443256589 (423M) [application/x-gzip]\n",
      "Saving to: 'HLC.RA_21_to_22.fits.gz'\n",
      "\n",
      "HLC.RA_21_to_22.fit 100%[===================>] 422.72M  13.3MB/s    in 36s     \n",
      "\n",
      "2018-01-08 11:10:03 (11.9 MB/s) - 'HLC.RA_21_to_22.fits.gz' saved [443256589/443256589]\n",
      "\n",
      "--2018-01-08 11:10:03--  http://das.sdss.org/va/stripe_82_variability/SDSS_82_public/HLC.RA_22_to_23.fits.gz\n",
      "Reusing existing connection to das.sdss.org:80.\n",
      "HTTP request sent, awaiting response... 200 OK\n",
      "Length: 280376277 (267M) [application/x-gzip]\n",
      "Saving to: 'HLC.RA_22_to_23.fits.gz'\n",
      "\n",
      "HLC.RA_22_to_23.fit 100%[===================>] 267.39M  13.0MB/s    in 22s     \n",
      "\n",
      "2018-01-08 11:10:25 (12.3 MB/s) - 'HLC.RA_22_to_23.fits.gz' saved [280376277/280376277]\n",
      "\n",
      "--2018-01-08 11:10:25--  http://das.sdss.org/va/stripe_82_variability/SDSS_82_public/HLC.RA_23_to_24.fits.gz\n",
      "Reusing existing connection to das.sdss.org:80.\n",
      "HTTP request sent, awaiting response... 200 OK\n",
      "Length: 234794662 (224M) [application/x-gzip]\n",
      "Saving to: 'HLC.RA_23_to_24.fits.gz'\n",
      "\n",
      "HLC.RA_23_to_24.fit 100%[===================>] 223.92M  13.4MB/s    in 17s     \n",
      "\n",
      "2018-01-08 11:10:41 (13.4 MB/s) - 'HLC.RA_23_to_24.fits.gz' saved [234794662/234794662]\n",
      "\n",
      "--2018-01-08 11:10:41--  http://das.sdss.org/va/stripe_82_variability/SDSS_82_public/HLC.RA_00_to_01.fits.gz\n",
      "Reusing existing connection to das.sdss.org:80.\n",
      "HTTP request sent, awaiting response... 200 OK\n",
      "Length: 223334176 (213M) [application/x-gzip]\n",
      "Saving to: 'HLC.RA_00_to_01.fits.gz'\n",
      "\n",
      "HLC.RA_00_to_01.fit 100%[===================>] 212.99M  12.7MB/s    in 16s     \n",
      "\n",
      "2018-01-08 11:10:58 (13.2 MB/s) - 'HLC.RA_00_to_01.fits.gz' saved [223334176/223334176]\n",
      "\n",
      "--2018-01-08 11:10:58--  http://das.sdss.org/va/stripe_82_variability/SDSS_82_public/HLC.RA_01_to_02.fits.gz\n",
      "Reusing existing connection to das.sdss.org:80.\n",
      "HTTP request sent, awaiting response... 200 OK\n",
      "Length: 214606518 (205M) [application/x-gzip]\n",
      "Saving to: 'HLC.RA_01_to_02.fits.gz'\n",
      "\n",
      "HLC.RA_01_to_02.fit 100%[===================>] 204.66M  13.0MB/s    in 17s     \n",
      "\n",
      "2018-01-08 11:11:15 (11.9 MB/s) - 'HLC.RA_01_to_02.fits.gz' saved [214606518/214606518]\n",
      "\n",
      "--2018-01-08 11:11:15--  http://das.sdss.org/va/stripe_82_variability/SDSS_82_public/HLC.RA_02_to_03.fits.gz\n",
      "Reusing existing connection to das.sdss.org:80.\n",
      "HTTP request sent, awaiting response... 200 OK\n",
      "Length: 223253694 (213M) [application/x-gzip]\n",
      "Saving to: 'HLC.RA_02_to_03.fits.gz'\n",
      "\n",
      "HLC.RA_02_to_03.fit 100%[===================>] 212.91M  13.6MB/s    in 16s     \n",
      "\n",
      "2018-01-08 11:11:31 (13.2 MB/s) - 'HLC.RA_02_to_03.fits.gz' saved [223253694/223253694]\n",
      "\n",
      "--2018-01-08 11:11:31--  http://das.sdss.org/va/stripe_82_variability/SDSS_82_public/HLC.RA_03_to_04.fits.gz\n",
      "Reusing existing connection to das.sdss.org:80.\n",
      "HTTP request sent, awaiting response... 200 OK\n",
      "Length: 64250074 (61M) [application/x-gzip]\n",
      "Saving to: 'HLC.RA_03_to_04.fits.gz'\n",
      "\n",
      "HLC.RA_03_to_04.fit 100%[===================>]  61.27M  13.2MB/s    in 4.7s    \n",
      "\n",
      "2018-01-08 11:11:36 (13.2 MB/s) - 'HLC.RA_03_to_04.fits.gz' saved [64250074/64250074]\n",
      "\n",
      "FINISHED --2018-01-08 11:11:36--\n",
      "Total wall clock time: 2m 27s\n",
      "Downloaded: 10 files, 1.8G in 2m 26s (12.4 MB/s)\n",
      "Converted links in 0 files in 0 seconds.\n"
     ]
    }
   ],
   "source": [
    "# download the data\n",
    "!wget -A gz -m -p -E -k -K -np -nd http://das.sdss.org/va/stripe_82_variability/SDSS_82_public/"
   ]
  },
  {
   "cell_type": "code",
   "execution_count": 3,
   "metadata": {},
   "outputs": [],
   "source": [
    "filters = 'UGRIZ'\n",
    "\n",
    "def convert(table):\n",
    "    t = Table.read(table)\n",
    "    # loop over columns and extract data from each 5d column\n",
    "    for c in t.colnames:\n",
    "        if t[c].shape[-1] == 5:\n",
    "            for i,f in enumerate(filters):\n",
    "                # name each new column <FILTER>_<ORIGINAL COLNAME>\n",
    "                t['{}_{}'.format(f,c)] = t[c][:,i]\n",
    "            # delete 5d column\n",
    "            t.remove_column(c)\n",
    "    # convert to hdf5\n",
    "    t.to_pandas().to_hdf(table.replace('.fits.gz','.hdf5'), key='data', mode='w',\n",
    "                         complevel=9, complib='zlib', format='table')\n",
    "    print('Converted {}'.format(table))"
   ]
  },
  {
   "cell_type": "code",
   "execution_count": 4,
   "metadata": {},
   "outputs": [
    {
     "name": "stdout",
     "output_type": "stream",
     "text": [
      "Converted HLC.RA_21_to_22.fits.gz\n",
      "Converted HLC.RA_22_to_23.fits.gz\n",
      "Converted HLC.RA_23_to_24.fits.gz\n",
      "Converted HLC.RA_00_to_01.fits.gz\n",
      "Converted HLC.RA_03_to_04.fits.gz\n",
      "Converted HLC.RA_20_to_21.fits.gz\n",
      "Converted HLC.RA_01_to_02.fits.gz\n",
      "Converted HLC.RA_02_to_03.fits.gz\n"
     ]
    }
   ],
   "source": [
    "for i in glob.glob('*.fits.gz'):\n",
    "    convert(i)"
   ]
  },
  {
   "cell_type": "code",
   "execution_count": null,
   "metadata": {},
   "outputs": [],
   "source": []
  }
 ],
 "metadata": {
  "kernelspec": {
   "display_name": "Python [conda env:astroconda]",
   "language": "python",
   "name": "conda-env-astroconda-py"
  },
  "language_info": {
   "codemirror_mode": {
    "name": "ipython",
    "version": 3
   },
   "file_extension": ".py",
   "mimetype": "text/x-python",
   "name": "python",
   "nbconvert_exporter": "python",
   "pygments_lexer": "ipython3",
   "version": "3.5.4"
  }
 },
 "nbformat": 4,
 "nbformat_minor": 2
}
