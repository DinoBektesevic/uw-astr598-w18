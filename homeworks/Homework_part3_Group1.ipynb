{
 "cells": [
  {
   "cell_type": "markdown",
   "metadata": {},
   "source": [
    "# ASTR598 - Astrostatistics     \n",
    "## Homework 2, part 3\n",
    "### Group 1."
   ]
  },
  {
   "cell_type": "code",
   "execution_count": 6,
   "metadata": {
    "collapsed": true
   },
   "outputs": [],
   "source": [
    "import numpy as np\n",
    "import pandas as pd\n",
    "import astropy as apy\n",
    "import matplotlib as mpl\n",
    "import matplotlib.pyplot as plt\n",
    "\n",
    "from astropy import units as units\n",
    "from astropy.table import Table\n",
    "from astropy.io import fits\n",
    "from astropy.coordinates import SkyCoord\n",
    "\n",
    "from astroML.stats import binned_statistic_2d\n",
    "from astroML.plotting import setup_text_plots"
   ]
  },
  {
   "cell_type": "code",
   "execution_count": 7,
   "metadata": {
    "collapsed": true
   },
   "outputs": [],
   "source": [
    "% matplotlib inline\n",
    "setup_text_plots(fontsize=16, usetex=True)\n",
    "\n",
    "mpl.rcParams['figure.figsize'] = (10,10)\n",
    "mpl.rcParams[\"axes.labelsize\"] = 20\n",
    "mpl.rcParams[\"font.size\"] = 24\n",
    "mpl.rcParams['xtick.labelsize'] = 14\n",
    "mpl.rcParams['ytick.labelsize'] = 14"
   ]
  },
  {
   "cell_type": "markdown",
   "metadata": {},
   "source": [
    "### Read all GalFast simulated data"
   ]
  },
  {
   "cell_type": "code",
   "execution_count": 8,
   "metadata": {
    "collapsed": true
   },
   "outputs": [],
   "source": [
    "data = np.loadtxt('data/Galfast-Stripe82.txt')\n",
    "table = Table(rows=data, names=(\"ra\", \"dec\", \"glon\", \"glat\", \"pmra\", \"pmdec\", \"px\", \"rv\", \"Teff\", \"FeH\",\n",
    "                                \"log(g)\", \"u\", \"g\", \"r\", \"i\", \"z\", \"y\"))"
   ]
  },
  {
   "cell_type": "markdown",
   "metadata": {},
   "source": [
    "### Filter the data for objects of interest"
   ]
  },
  {
   "cell_type": "code",
   "execution_count": 9,
   "metadata": {
    "collapsed": true
   },
   "outputs": [],
   "source": [
    "def filter_rmag(table, rlim=(20.5, 21), **kwargs):\n",
    "    \"\"\"\n",
    "    Applies a r-band magnitude filter to the table, such that the returned dataset satisfies:\n",
    "        rlim[0] < table < rlim[1]\n",
    "    \"\"\"\n",
    "    rmask = (table['r']>rlim[0]) & (table['r']<rlim[1])\n",
    "    return table[rmask]\n",
    "\n",
    "def filter_color(table, gmilim=(0.3, 0.4), **kwargs):\n",
    "    \"\"\"\n",
    "    Applies a g-i color filter to the table, such that the returned dataset satisfies:\n",
    "        gmilim[0] < table < gmilim[1]\n",
    "    \"\"\"\n",
    "    gmi = table['g']-table['i']\n",
    "    gmimask = (gmi>gmilim[0]) & (gmi<gmilim[1])\n",
    "    return table[gmimask]\n",
    "\n",
    "def filter_ra(table, ralim=(25, 40), **kwargs):\n",
    "    \"\"\"\n",
    "    Applies a right ascension coordiante filter to the table, such that the returned dataset satisfies:\n",
    "        ralim[0] < table < ralim[1]\n",
    "    \"\"\"\n",
    "    ramask = (table['ra']>ralim[0]) & (table['ra']<ralim[1])\n",
    "    return table[ramask]\n",
    "\n",
    "def filter_abs_pm(table, pmlim = (-0.001, 100), **kwargs):\n",
    "    \"\"\"\n",
    "    Applies an absolute proper motion filter to the table, such that the returned dataset satisfies:\n",
    "        pmlim[0] < table < pmlim[1]\n",
    "    where abspm is taken to be np.sqrt(pmra**2 + pmdec**2)\n",
    "    \"\"\"\n",
    "    abspm = np.sqrt(table['pmra']**2 + table['pmdec']**2)\n",
    "    abspmmask = (abspm>pmlim[0]) & (abspm<pmlim[1])\n",
    "    return table[abspmmask]  \n",
    "\n",
    "filters = [filter_rmag, filter_color, filter_ra, filter_abs_pm]\n",
    "def apply_filters(table, filters=filters, **kwargs):\n",
    "    \"\"\"\n",
    "    Applies filters provided in the filters kwarg, in order in which they are given, to the table.\n",
    "    \n",
    "    table:   dataset (numpy.void, astropy.Table...)\n",
    "    filters: an iterable containing the filter functions in order in which they are to be applied \n",
    "             to the dataset\n",
    "    \"\"\"\n",
    "    for f in filters:\n",
    "        table = f(table, **kwargs)\n",
    "    return table\n"
   ]
  },
  {
   "cell_type": "markdown",
   "metadata": {},
   "source": [
    "### Plot function"
   ]
  },
  {
   "cell_type": "code",
   "execution_count": 10,
   "metadata": {
    "collapsed": true
   },
   "outputs": [],
   "source": [
    "def hess_gri_pm(table, title=\"\", colorby=\"abspm\", colorlabel=None, statistic=\"median\"):    \n",
    "    \"\"\"\n",
    "    For a given dataset constructs a Hess plot of Ra vs r-band magnitudes where the coloring represents\n",
    "    the median absolute proper motion of objects in that bin. \n",
    "    \n",
    "    table: dataset to be plotted, has to contain keywords \"pmra\", \"pmdec\", \"ra\" and \"r\"\n",
    "    title: title of the plot\n",
    "    \"\"\"\n",
    "    if colorby == \"abspm\":\n",
    "        stat = np.sqrt(table['pmra']**2 + table['pmdec']**2)\n",
    "        colorlabel = r'Proper Motion (mas/yr)'\n",
    "    else:\n",
    "        stat = table[colorby]\n",
    "        colorlabel = colorlabel\n",
    "    nbins = int(3*len(table)**(1.0 / 4.0))\n",
    "    \n",
    "    medpm, xedges, yedges = binned_statistic_2d(table['ra'], table['r'], stat, \n",
    "                                                statistic=statistic, bins=nbins)\n",
    "    \n",
    "    plt.imshow(medpm.T, origin='lower',\n",
    "                   extent=[xedges[0], xedges[-1], yedges[0], yedges[-1]],\n",
    "                   aspect='auto', interpolation='nearest')\n",
    "\n",
    "    cb = plt.colorbar(orientation='horizontal')\n",
    "    cb.set_label(colorlabel, fontsize=22)\n",
    "    #plt.clim(0, 30) # This was set by hand to draw out as much detail as possible\n",
    "\n",
    "    plt.xlabel(r'Ra', fontsize=22)\n",
    "    plt.ylabel(r'r', fontsize=22)\n",
    "    plt.gca().invert_yaxis()\n",
    "    plt.gca().invert_xaxis()\n",
    "    plt.title(title)\n",
    "    plt.show()"
   ]
  },
  {
   "cell_type": "markdown",
   "metadata": {},
   "source": [
    "### Plot data and analysis"
   ]
  },
  {
   "cell_type": "code",
   "execution_count": 11,
   "metadata": {},
   "outputs": [
    {
     "name": "stdout",
     "output_type": "stream",
     "text": [
      "There are 1945 objects with 20.5<r<21, 0.3<g-i<0.4 and 25<Ra<40\n"
     ]
    },
    {
     "data": {
      "image/png": "[encoded data removed]",
      "text/plain": [
       "<matplotlib.figure.Figure at 0x7f567cb8dbd0>"
      ]
     },
     "metadata": {},
     "output_type": "display_data"
    }
   ],
   "source": [
    "table1 = apply_filters(table, ralim=(25, 40), pmlim=(-0.00001, 30))\n",
    "print(r\"There are {0} objects with 20.5<r<21, 0.3<g-i<0.4 and 25<Ra<40\".format(len(table1)))\n",
    "\n",
    "hess_gri_pm(table1, r\"Hess plot of PM in 25$^\\circ<\\alpha<$40$^\\circ$\")"
   ]
  },
  {
   "cell_type": "code",
   "execution_count": 12,
   "metadata": {},
   "outputs": [
    {
     "name": "stdout",
     "output_type": "stream",
     "text": [
      "There are 2102 objects with 20.5<r<21, 0.3<g-i<0.4 and 0<Ra<15\n"
     ]
    },
    {
     "data": {
      "image/png": "[encoded data removed]",
      "text/plain": [
       "<matplotlib.figure.Figure at 0x7f5677c76510>"
      ]
     },
     "metadata": {},
     "output_type": "display_data"
    }
   ],
   "source": [
    "table2 = apply_filters(table, ralim=(0, 15))\n",
    "print(r\"There are {0} objects with 20.5<r<21, 0.3<g-i<0.4 and 0<Ra<15\".format(len(table2)))\n",
    "\n",
    "hess_gri_pm(table2, title=r\"Hess plot of PM in 0$^\\circ<\\alpha<$15$^\\circ$\")"
   ]
  }
 ],
 "metadata": {
  "kernelspec": {
   "display_name": "Python 2",
   "language": "python",
   "name": "python2"
  },
  "language_info": {
   "codemirror_mode": {
    "name": "ipython",
    "version": 3
   },
   "file_extension": ".py",
   "mimetype": "text/x-python",
   "name": "python",
   "nbconvert_exporter": "python",
   "pygments_lexer": "ipython3",
   "version": "3.6.2"
  }
 },
 "nbformat": 4,
 "nbformat_minor": 2
}
