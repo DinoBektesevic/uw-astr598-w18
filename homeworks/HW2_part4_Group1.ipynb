{
 "cells": [
  {
   "cell_type": "code",
   "execution_count": 1,
   "metadata": {
    "collapsed": true
   },
   "outputs": [],
   "source": [
    "import os\n",
    "import glob\n",
    "import numpy as np\n",
    "import pandas as pd\n",
    "import matplotlib as mpl\n",
    "import matplotlib.pyplot as plt\n",
    "\n",
    "#from crossmatch import xmatch\n",
    "import astropy as apy\n",
    "from astropy import units as units\n",
    "from astropy.io import fits\n",
    "from astropy.coordinates import SkyCoord\n",
    "from astropy.table import Table\n",
    "\n",
    "from astroML.stats import binned_statistic_2d\n",
    "\n",
    "% matplotlib inline"
   ]
  },
  {
   "cell_type": "markdown",
   "metadata": {},
   "source": [
    "## Setup data paths"
   ]
  },
  {
   "cell_type": "code",
   "execution_count": 2,
   "metadata": {},
   "outputs": [
    {
     "name": "stdout",
     "output_type": "stream",
     "text": [
      "\n",
      "Registered following NSC files: \n",
      "    data/stripe82_315_ra_45_-1_3_dec_0.txt\n",
      "    data/stripe82_315_ra_45_0_dec_1_3.txt\n",
      "\n",
      "Registered following HLC files: \n",
      "    data/HLC.RA_00_to_01.fits\n",
      "    data/HLC.RA_01_to_02.fits\n",
      "    data/HLC.RA_02_to_03.fits\n",
      "    data/HLC.RA_03_to_04.fits\n",
      "    data/HLC.RA_20_to_21.fits\n",
      "    data/HLC.RA_21_to_22.fits\n",
      "    data/HLC.RA_22_to_23.fits\n",
      "    data/HLC.RA_23_to_24.fits\n",
      "\n",
      "Registered following GALFAST files: \n",
      "    data/Galfast-Stripe82.txt\n"
     ]
    }
   ],
   "source": [
    "DATA_DIR = \"data/\"\n",
    "HLC_FILES = sorted(glob.glob(os.path.join(DATA_DIR, \"HLC*.fits\")))\n",
    "NSC_FILES = sorted(glob.glob(os.path.join(DATA_DIR, \"stripe82*.txt\")))\n",
    "GAL_FILES = 'data/Galfast-Stripe82.txt'\n",
    "print(\"\\nRegistered following NSC files: \")\n",
    "for pth in NSC_FILES:\n",
    "    print(\"    \"+pth)\n",
    "print(\"\\nRegistered following HLC files: \")\n",
    "for pth in HLC_FILES:\n",
    "    print(\"    \"+pth)\n",
    "print(\"\\nRegistered following GALFAST files: \")\n",
    "print(\"    \"+GAL_FILES)"
   ]
  },
  {
   "cell_type": "markdown",
   "metadata": {},
   "source": [
    "## Read in full catalogs, this can take a while and takes a lot of RAM\n",
    "\n",
    "Not a single one looks OK."
   ]
  },
  {
   "cell_type": "code",
   "execution_count": 3,
   "metadata": {},
   "outputs": [],
   "source": [
    "galdat = np.loadtxt('data/Galfast-Stripe82.txt')\n",
    "galfast = Table(rows=galdat, names=(\"ra\", \"dec\", \"glon\", \"glat\", \"pmra\", \"pmdec\", \"px\", \"rv\", \"Teff\", \"FeH\",\n",
    "                                    \"log(g)\", \"u\", \"g\", \"r\", \"i\", \"z\", \"y\"))"
   ]
  },
  {
   "cell_type": "code",
   "execution_count": 17,
   "metadata": {},
   "outputs": [
    {
     "data": {
      "image/png": "[encoded data removed]",
      "text/plain": [
       "<matplotlib.figure.Figure at 0x7f52c972c048>"
      ]
     },
     "metadata": {},
     "output_type": "display_data"
    }
   ],
   "source": [
    "a = plt.hist(galfast[\"ra\"], histtype=\"step\", bins=360)"
   ]
  },
  {
   "cell_type": "code",
   "execution_count": 7,
   "metadata": {
    "collapsed": true
   },
   "outputs": [],
   "source": [
    "nscdat_part = []\n",
    "for pth in NSC_FILES:\n",
    "    nscdat_part.append(Table.read(pth, format=\"ascii\"))\n",
    "nscdat = apy.table.vstack(nscdat_part)\n",
    "nsc = Table(nscdat)"
   ]
  },
  {
   "cell_type": "code",
   "execution_count": 16,
   "metadata": {},
   "outputs": [
    {
     "data": {
      "image/png": "[encoded data removed]",
      "text/plain": [
       "<matplotlib.figure.Figure at 0x7f52d45a5710>"
      ]
     },
     "metadata": {},
     "output_type": "display_data"
    }
   ],
   "source": [
    "a = plt.hist(nsc[\"ra\"], histtype=\"step\", bins=360)"
   ]
  },
  {
   "cell_type": "code",
   "execution_count": 9,
   "metadata": {
    "collapsed": true
   },
   "outputs": [],
   "source": [
    "hlcdat_part = []\n",
    "for pth in HLC_FILES:\n",
    "    fitsfile = fits.open(pth)\n",
    "    tmptable = Table(fitsfile[1].data)\n",
    "    hlcdat_part.append(tmptable)\n",
    "hlc = apy.table.vstack(hlcdat_part)"
   ]
  },
  {
   "cell_type": "code",
   "execution_count": 15,
   "metadata": {},
   "outputs": [
    {
     "data": {
      "image/png": "[encoded data removed]",
      "text/plain": [
       "<matplotlib.figure.Figure at 0x7f5079c3a8d0>"
      ]
     },
     "metadata": {},
     "output_type": "display_data"
    }
   ],
   "source": [
    "a = plt.hist(hlc[\"RA_MEAN_CLIP\"], histtype=\"step\", bins=360)"
   ]
  },
  {
   "cell_type": "markdown",
   "metadata": {},
   "source": [
    "## Get the matched data, this is about the same size as full cats\n",
    "\n",
    "This is just about pointless considering what my input data looks like."
   ]
  },
  {
   "cell_type": "code",
   "execution_count": 18,
   "metadata": {
    "collapsed": true
   },
   "outputs": [],
   "source": [
    "gal2nsc = Table.read(DATA_DIR+\"matched/galfast2nsc_cat\", format=\"ascii\")"
   ]
  },
  {
   "cell_type": "code",
   "execution_count": 19,
   "metadata": {},
   "outputs": [
    {
     "data": {
      "image/png": "[encoded data removed]",
      "text/plain": [
       "<matplotlib.figure.Figure at 0x7f52d48477f0>"
      ]
     },
     "metadata": {},
     "output_type": "display_data"
    }
   ],
   "source": [
    "a = plt.hist(gal2nsc[\"ra\"], histtype=\"step\", bins=360)"
   ]
  },
  {
   "cell_type": "code",
   "execution_count": 32,
   "metadata": {
    "collapsed": true
   },
   "outputs": [],
   "source": [
    "xmatchdat = []\n",
    "with open(DATA_DIR+\"matched/xmatch_galfast2nsc\", \"r\") as xmatch:\n",
    "    for line in xmatch.readlines():\n",
    "        xmatchdat.append(np.fromstring(line, sep=\" \",dtype=np.float64))\n",
    "idx, angsep, dist = xmatchdat[0], xmatchdat[1], xmatchdat[2]"
   ]
  },
  {
   "cell_type": "code",
   "execution_count": 12,
   "metadata": {},
   "outputs": [
    {
     "ename": "NameError",
     "evalue": "name 'angsep' is not defined",
     "output_type": "error",
     "traceback": [
      "\u001b[0;31m---------------------------------------------------------------------------\u001b[0m",
      "\u001b[0;31mNameError\u001b[0m                                 Traceback (most recent call last)",
      "\u001b[0;32m<ipython-input-12-d1127a247728>\u001b[0m in \u001b[0;36m<module>\u001b[0;34m()\u001b[0m\n\u001b[0;32m----> 1\u001b[0;31m \u001b[0ma\u001b[0m \u001b[0;34m=\u001b[0m \u001b[0mplt\u001b[0m\u001b[0;34m.\u001b[0m\u001b[0mhist\u001b[0m\u001b[0;34m(\u001b[0m\u001b[0mangsep\u001b[0m\u001b[0;34m[\u001b[0m\u001b[0mangsep\u001b[0m\u001b[0;34m<\u001b[0m\u001b[0;36m0.000277778\u001b[0m\u001b[0;34m]\u001b[0m\u001b[0;34m,\u001b[0m \u001b[0mhisttype\u001b[0m\u001b[0;34m=\u001b[0m\u001b[0;34m'step'\u001b[0m\u001b[0;34m,\u001b[0m \u001b[0mlw\u001b[0m\u001b[0;34m=\u001b[0m\u001b[0;36m2\u001b[0m \u001b[0;34m,\u001b[0m \u001b[0mbins\u001b[0m\u001b[0;34m=\u001b[0m\u001b[0;36m35\u001b[0m\u001b[0;34m)\u001b[0m\u001b[0;34m\u001b[0m\u001b[0m\n\u001b[0m",
      "\u001b[0;31mNameError\u001b[0m: name 'angsep' is not defined"
     ]
    }
   ],
   "source": [
    "a = plt.hist(angsep[angsep<0.000277778], histtype='step', lw=2 , bins=35)"
   ]
  },
  {
   "cell_type": "code",
   "execution_count": 13,
   "metadata": {
    "collapsed": true
   },
   "outputs": [],
   "source": [
    "hlc2nsc = Table.read(DATA_DIR+\"matched/hlc2nsc_cat\", format=\"ascii\")"
   ]
  },
  {
   "cell_type": "code",
   "execution_count": 14,
   "metadata": {},
   "outputs": [
    {
     "data": {
      "image/png": "[encoded data removed]",
      "text/plain": [
       "<matplotlib.figure.Figure at 0x7f52d48b4630>"
      ]
     },
     "metadata": {},
     "output_type": "display_data"
    }
   ],
   "source": [
    "a = plt.hist(hlc2nsc[\"ra\"], histtype=\"step\", bins=360)"
   ]
  },
  {
   "cell_type": "code",
   "execution_count": null,
   "metadata": {
    "collapsed": true
   },
   "outputs": [],
   "source": [
    "xmatchdat = []\n",
    "with open(DATA_DIR+\"matched/xmatch_hlc2nsc\", \"r\") as xmatch:\n",
    "    for line in xmatch.readlines():\n",
    "        xmatchdat.append(np.fromstring(line, sep=\" \",dtype=np.float64))\n",
    "idx, angsep, dist = xmatchdat[0], xmatchdat[1], xmatchdat[2]"
   ]
  },
  {
   "cell_type": "code",
   "execution_count": 58,
   "metadata": {},
   "outputs": [
    {
     "data": {
      "image/png": "[encoded data removed]",
      "text/plain": [
       "<matplotlib.figure.Figure at 0x7efffec5d2e8>"
      ]
     },
     "metadata": {},
     "output_type": "display_data"
    }
   ],
   "source": [
    "a = plt.hist(angsep[angsep<0.000277778], histtype='step', lw=2 , bins=35)"
   ]
  },
  {
   "cell_type": "code",
   "execution_count": null,
   "metadata": {
    "collapsed": true
   },
   "outputs": [],
   "source": []
  }
 ],
 "metadata": {
  "kernelspec": {
   "display_name": "Python 3",
   "language": "python",
   "name": "python3"
  },
  "language_info": {
   "codemirror_mode": {
    "name": "ipython",
    "version": 3
   },
   "file_extension": ".py",
   "mimetype": "text/x-python",
   "name": "python",
   "nbconvert_exporter": "python",
   "pygments_lexer": "ipython3",
   "version": "3.6.2"
  }
 },
 "nbformat": 4,
 "nbformat_minor": 2
}
