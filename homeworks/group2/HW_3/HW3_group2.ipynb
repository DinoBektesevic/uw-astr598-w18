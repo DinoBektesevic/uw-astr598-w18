{
 "cells": [
  {
   "cell_type": "code",
   "execution_count": 24,
   "metadata": {
    "collapsed": true
   },
   "outputs": [],
   "source": [
    "import numpy as np\n",
    "from matplotlib import pyplot as plt\n",
    "from scipy import stats\n",
    "from scipy.stats import norm\n",
    "from scipy.optimize import curve_fit\n",
    "from scipy.optimize import minimize\n",
    "from astroML.plotting import hist\n",
    "np.random.seed(42)\n",
    "from astroML.plotting.mcmc import plot_mcmc\n",
    "from astroML.plotting import setup_text_plots\n",
    "setup_text_plots(fontsize=8, usetex=True)\n",
    "import pymc\n",
    "%matplotlib inline"
   ]
  },
  {
   "cell_type": "code",
   "execution_count": 25,
   "metadata": {
    "collapsed": true
   },
   "outputs": [],
   "source": [
    " ### Modeled after AstroML book figure 10.25\n",
    "## burst model replaced by gaussian profile\n",
    "\n",
    "#----------------------------------------------------------------------\n",
    "# Set up toy dataset\n",
    "def GaussAndBkgd(t, b0, A, sigW, T):\n",
    "    \"\"\"Gaussian profile + flat background model\"\"\"\n",
    "    y = np.empty(t.shape)\n",
    "    y.fill(b0)\n",
    "    y += A * np.exp(-(t - T)**2/2/sigW**2)\n",
    "    return y\n",
    "\n",
    "#np.random.seed(42)\n",
    "N = 101\n",
    "b0_true = 10\n",
    "A_true = 3\n",
    "sigma_true = 3.0\n",
    "T_true = 40\n",
    "err0_y = 0.5\n",
    "\n",
    "t = 100 * np.random.random(N)\n",
    "y_true = GaussAndBkgd(t, b0_true, A_true, sigma_true, T_true)\n",
    "err_y = np.random.uniform(0, 2*err0_y) + 0.5*np.sqrt(y_true/10) \n",
    "y_obs = np.random.normal(y_true, err_y)\n",
    "#----------------------------------------------------------------------"
   ]
  },
  {
   "cell_type": "code",
   "execution_count": 31,
   "metadata": {},
   "outputs": [
    {
     "name": "stdout",
     "output_type": "stream",
     "text": [
      " [-----------------100%-----------------] 25000 of 25000 complete in 4.8 sec\n",
      "[  9.96953814   3.67054808   3.0921965   39.61845202]\n"
     ]
    },
    {
     "data": {
      "image/png": "[encoded data removed]",
      "text/plain": [
       "<matplotlib.figure.Figure at 0x7f4169956f28>"
      ]
     },
     "metadata": {},
     "output_type": "display_data"
    }
   ],
   "source": [
    "true = [b0_true, A_true, T_true, sigma_true]\n",
    "\n",
    "#----------------------------------------------------------------------\n",
    "# Set up MCMC sampling\n",
    "b0 = pymc.Uniform('b0', 0, 50, value=50 * np.random.random())\n",
    "A = pymc.Uniform('A', 0, 50, value=50 * np.random.random())\n",
    "T = pymc.Uniform('T', 0, 100, value=100 * np.random.random())\n",
    "log_sigma = pymc.Uniform('log_sigma', -2, 2, value=0.1)\n",
    "\n",
    "\n",
    "# uniform prior on log(alpha)\n",
    "@pymc.deterministic\n",
    "def sigma(log_sigma=log_sigma):\n",
    "    return np.exp(log_sigma)\n",
    "\n",
    "\n",
    "@pymc.deterministic\n",
    "def y_model(t=t, b0=b0, A=A, sigma=sigma, T=T):\n",
    "    return GaussAndBkgd(t, b0, A, sigma, T)\n",
    "\n",
    "y = pymc.Normal('y', mu=y_model, tau=err_y ** -2, observed=True, value=y_obs)\n",
    "\n",
    "model = dict(b0=b0, A=A, T=T, log_sigma=log_sigma, sigma=sigma, y_model=y_model, y=y)\n",
    "\n",
    "#----------------------------------------------------------------------\n",
    "# Run the MCMC sampling\n",
    "#@pickle_results('matchedfilt_gauss.pkl')\n",
    "def compute_MCMC_results(niter=25000, burn=4000):\n",
    "    S = pymc.MCMC(model)\n",
    "    S.sample(iter=niter, burn=burn)\n",
    "    traces = [S.trace(s)[:] for s in ['b0', 'A', 'T', 'sigma']]\n",
    "\n",
    "    M = pymc.MAP(model)\n",
    "    M.fit()\n",
    "    fit_vals = (M.b0.value, M.A.value, M.sigma.value, M.T.value)\n",
    "\n",
    "    return traces, fit_vals\n",
    "\n",
    "traces, fit_vals = compute_MCMC_results()\n",
    "\n",
    "#------------------------------------------------------------\n",
    "plt.plot(figsize=[9,9])\n",
    "t_fit = np.linspace(0, 100, 101)\n",
    "y_fit = GaussAndBkgd(t_fit, *fit_vals)\n",
    "y_true = GaussAndBkgd(t_fit, b0_true, A_true, sigma_true, T_true)\n",
    "\n",
    "plt.scatter(t, y_obs, s=9, lw=0, c='k')\n",
    "plt.errorbar(t, y_obs, err_y, fmt='.', lw=1, c='k')\n",
    "plt.plot(t_fit,y_fit)\n",
    "print()\n",
    "print(np.array(fit_vals))\n",
    "\n",
    "plt.show()"
   ]
  },
  {
   "cell_type": "code",
   "execution_count": null,
   "metadata": {
    "collapsed": true
   },
   "outputs": [],
   "source": []
  }
 ],
 "metadata": {
  "kernelspec": {
   "display_name": "Python 3",
   "language": "python",
   "name": "python3"
  },
  "language_info": {
   "codemirror_mode": {
    "name": "ipython",
    "version": 3
   },
   "file_extension": ".py",
   "mimetype": "text/x-python",
   "name": "python",
   "nbconvert_exporter": "python",
   "pygments_lexer": "ipython3",
   "version": "3.6.1"
  }
 },
 "nbformat": 4,
 "nbformat_minor": 2
}
