{
 "cells": [
  {
   "cell_type": "code",
   "execution_count": 1,
   "metadata": {
    "collapsed": true
   },
   "outputs": [],
   "source": [
    "import numpy as np\n",
    "from matplotlib import pyplot as plt\n",
    "from scipy import stats\n",
    "from scipy.stats import norm\n",
    "from scipy.optimize import curve_fit\n",
    "from scipy.optimize import minimize\n",
    "from astroML.plotting import hist\n",
    "from astroML.plotting.mcmc import plot_mcmc\n",
    "from astroML.plotting import setup_text_plots\n",
    "import pymc\n",
    "setup_text_plots(fontsize=8, usetex=True)\n",
    "\n",
    "%matplotlib inline"
   ]
  },
  {
   "cell_type": "markdown",
   "metadata": {},
   "source": [
    "### Generate the Burst Data with a Gaussian Profile"
   ]
  },
  {
   "cell_type": "code",
   "execution_count": 2,
   "metadata": {},
   "outputs": [],
   "source": [
    "### Modeled after AstroML book figure 10.25\n",
    "\n",
    "# Define the function from which to generate the data\n",
    "def GaussAndBkgd(t, b0, A, sigW, T):\n",
    "    \"\"\"Gaussian profile + flat background model\"\"\"\n",
    "    y = np.empty(t.shape)\n",
    "    y.fill(b0)\n",
    "    y += A * np.exp(-(t - T)**2/2/sigW**2)\n",
    "    return y\n",
    "\n",
    "# Set a fixed random seed\n",
    "np.random.seed(42)\n",
    "\n",
    "# Choose the number of data points\n",
    "N = 101\n",
    "\n",
    "# Choose the true initial parameters\n",
    "b0_true = 10\n",
    "A_true = 3\n",
    "sigma_true = 3.0\n",
    "T_true = 40\n",
    "err0_y = 0.5\n",
    "\n",
    "# Add noise and calculate the \"observed\" flux values\n",
    "t_obs = 100 * np.random.random(N)\n",
    "y_true = GaussAndBkgd(t_obs, b0_true, A_true, sigma_true, T_true)\n",
    "err_y = 0.5*np.sqrt(y_true/10) +np.random.uniform(0, 2*err0_y)\n",
    "y_obs = np.random.normal(y_true, err_y) # Observed flux values"
   ]
  },
  {
   "cell_type": "markdown",
   "metadata": {},
   "source": [
    "### Now run MCMC on the data assuming a Gaussian burst profile"
   ]
  },
  {
   "cell_type": "code",
   "execution_count": 4,
   "metadata": {},
   "outputs": [
    {
     "name": "stdout",
     "output_type": "stream",
     "text": [
      " [-----------------100%-----------------] 25000 of 25000 complete in 5.2 sec"
     ]
    }
   ],
   "source": [
    "# Set up MCMC sampling\n",
    "b0 = pymc.Uniform('b0', 0, 50, value=50 * np.random.random())\n",
    "A = pymc.Uniform('A', 0, 50, value=50 * np.random.random())\n",
    "T = pymc.Uniform('T', 0, 100, value=100 * np.random.random())\n",
    "log_sigma = pymc.Uniform('log_sigma', -2, 2, value=0.1)\n",
    "\n",
    "\n",
    "# uniform prior on log(alpha)\n",
    "@pymc.deterministic\n",
    "def sigma(log_sigma=log_sigma):\n",
    "    return np.exp(log_sigma)\n",
    "\n",
    "\n",
    "@pymc.deterministic\n",
    "def y_model(t=t_obs, b0=b0, A=A, sigma=sigma, T=T):\n",
    "    return GaussAndBkgd(t, b0, A, sigma, T)\n",
    "\n",
    "y = pymc.Normal('y', mu=y_model, tau=err_y ** -2, observed=True, value=y_obs)\n",
    "\n",
    "model = dict(b0=b0, A=A, T=T, log_sigma=log_sigma, sigma=sigma, y_model=y_model, y=y)\n",
    "\n",
    "#----------------------------------------------------------------------\n",
    "# Run the MCMC sampling\n",
    "#@pickle_results('matchedfilt_gauss.pkl')\n",
    "def compute_Gaussian_MCMC_results(niter=25000, burn=4000):\n",
    "    S = pymc.MCMC(model)\n",
    "    S.sample(iter=niter, burn=burn)\n",
    "    traces = [S.trace(s)[:] for s in ['b0', 'A', 'T', 'sigma']]\n",
    "\n",
    "    M = pymc.MAP(model)\n",
    "    M.fit()\n",
    "    fit_vals = (M.b0.value, M.A.value, M.sigma.value, M.T.value)\n",
    "\n",
    "    return traces, fit_vals\n",
    "\n",
    "# Save the traces and best-fit values for the Gaussian profile\n",
    "Gaussian_traces, Gaussian_fit_vals = compute_Gaussian_MCMC_results()"
   ]
  },
  {
   "cell_type": "markdown",
   "metadata": {},
   "source": [
    "### Run MCMC on the data assuming an exponential burst profile"
   ]
  },
  {
   "cell_type": "code",
   "execution_count": 25,
   "metadata": {},
   "outputs": [
    {
     "name": "stdout",
     "output_type": "stream",
     "text": [
      " [-----------------100%-----------------] 25000 of 25000 complete in 4.5 sec"
     ]
    }
   ],
   "source": [
    "# Define the exponential burst profile\n",
    "def burst(t, b0, A, alpha, T):\n",
    "    \"\"\"Burst model\"\"\"\n",
    "    y = np.empty(t.shape)\n",
    "    y.fill(b0)\n",
    "    mask = (t >= T)\n",
    "    y[mask] += A * np.exp(-alpha * (t[mask] - T))\n",
    "    return y\n",
    "\n",
    "\n",
    "# Set up MCMC sampling\n",
    "b0 = pymc.Uniform('b0', 0, 50, value=50 * np.random.random())\n",
    "A = pymc.Uniform('A', 0, 50, value=50 * np.random.random())\n",
    "T = pymc.Uniform('T', 0, 100, value=100 * np.random.random())\n",
    "log_alpha = pymc.Uniform('log_alpha', -10, 10, value=0)\n",
    "\n",
    "\n",
    "# uniform prior on log(alpha)\n",
    "@pymc.deterministic\n",
    "def alpha(log_alpha=log_alpha):\n",
    "    return np.exp(log_alpha)\n",
    "\n",
    "\n",
    "@pymc.deterministic\n",
    "def y_model(t=t_obs, b0=b0, A=A, alpha=alpha, T=T):\n",
    "    return burst(t, b0, A, alpha, T)\n",
    "\n",
    "y = pymc.Normal('y', mu=y_model, tau=sigma ** -2, observed=True, value=y_obs)\n",
    "\n",
    "model = dict(b0=b0, A=A, T=T, log_alpha=log_alpha,\n",
    "             alpha=alpha, y_model=y_model, y=y)\n",
    "\n",
    "# Run the MCMC sampling\n",
    "def compute_Exponential_MCMC_results(niter=25000, burn=4000):\n",
    "    S = pymc.MCMC(model)\n",
    "    S.sample(iter=niter, burn=burn)\n",
    "    traces = [S.trace(s)[:] for s in ['b0', 'A', 'T', 'alpha']]\n",
    "\n",
    "    M = pymc.MAP(model)\n",
    "    M.fit()\n",
    "    fit_vals = (M.b0.value, M.A.value, M.alpha.value, M.T.value)\n",
    "\n",
    "    return traces, fit_vals\n",
    "\n",
    "# Save the traces and best-fit values for the exponential profile\n",
    "Exponential_traces, Exponential_fit_vals = compute_Exponential_MCMC_results()"
   ]
  },
  {
   "cell_type": "markdown",
   "metadata": {},
   "source": [
    "### Plot the data and best-fit models"
   ]
  },
  {
   "cell_type": "code",
   "execution_count": 30,
   "metadata": {},
   "outputs": [
    {
     "data": {
      "text/plain": [
       "<matplotlib.legend.Legend at 0x7ff10122b828>"
      ]
     },
     "execution_count": 30,
     "metadata": {},
     "output_type": "execute_result"
    },
    {
     "data": {
      "image/png": "[encoded data removed]",
      "text/plain": [
       "<matplotlib.figure.Figure at 0x7ff101805048>"
      ]
     },
     "metadata": {},
     "output_type": "display_data"
    }
   ],
   "source": [
    "# Plot the initial data and two models\n",
    "plt.figure(figsize=[9,9])\n",
    "\n",
    "# We need a very fine grid in t for the models because the exponential profile can be very peaked\n",
    "t = np.linspace(0,100,10001)\n",
    "Gauss_y_fit = GaussAndBkgd(t, *Gaussian_fit_vals)\n",
    "Exp_y_fit = burst(t, *Exponential_fit_vals)\n",
    "\n",
    "# Plot the data with errors\n",
    "plt.scatter(t_obs, y_obs, s=9, lw=0, c='k')\n",
    "plt.errorbar(t_obs, y_obs, err_y, fmt='.', lw=1, c='k')\n",
    "\n",
    "# Plot the Gaussian fit\n",
    "plt.plot(t,Gauss_y_fit,lw=5)\n",
    "\n",
    "# Plot the exponential fit\n",
    "plt.plot(t,Exp_y_fit,lw=5)\n",
    "\n",
    "# Set limits, labels, and legend\n",
    "plt.ylim([5,15])\n",
    "plt.xlabel('Time',fontsize=16)\n",
    "plt.ylabel('Flux',fontsize=16)\n",
    "plt.legend(['Gaussian Fit','Exponential Fit','Observed Data'],fontsize=16)"
   ]
  },
  {
   "cell_type": "code",
   "execution_count": null,
   "metadata": {
    "collapsed": true
   },
   "outputs": [],
   "source": [
    "ChiSq = np.sum()"
   ]
  }
 ],
 "metadata": {
  "kernelspec": {
   "display_name": "Python 3",
   "language": "python",
   "name": "python3"
  },
  "language_info": {
   "codemirror_mode": {
    "name": "ipython",
    "version": 3
   },
   "file_extension": ".py",
   "mimetype": "text/x-python",
   "name": "python",
   "nbconvert_exporter": "python",
   "pygments_lexer": "ipython3",
   "version": "3.6.1"
  }
 },
 "nbformat": 4,
 "nbformat_minor": 2
}
