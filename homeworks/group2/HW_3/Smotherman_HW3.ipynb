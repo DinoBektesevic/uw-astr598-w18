{
 "cells": [
  {
   "cell_type": "code",
   "execution_count": 33,
   "metadata": {},
   "outputs": [],
   "source": [
    "import numpy as np\n",
    "from matplotlib import pyplot as plt\n",
    "from scipy import stats\n",
    "from scipy.stats import norm\n",
    "from scipy.optimize import curve_fit\n",
    "from scipy.optimize import minimize\n",
    "from astroML.plotting import hist\n",
    "np.random.seed(42)\n",
    "from astroML.plotting import setup_text_plots\n",
    "setup_text_plots(fontsize=8, usetex=True)\n",
    "%matplotlib inline"
   ]
  },
  {
   "cell_type": "code",
   "execution_count": 98,
   "metadata": {},
   "outputs": [],
   "source": [
    " ### Modeled after AstroML book figure 10.25\n",
    "## burst model replaced by gaussian profile\n",
    "\n",
    "#----------------------------------------------------------------------\n",
    "# Set up toy dataset\n",
    "def GaussAndBkgd(t, b0, A, sigW, T):\n",
    "    \"\"\"Gaussian profile + flat background model\"\"\"\n",
    "    y = np.empty(t.shape)\n",
    "    y.fill(b0)\n",
    "    y += A * np.exp(-(t - T)**2/2/sigW**2)\n",
    "    return y\n",
    "\n",
    "#np.random.seed(42)\n",
    "N = 101\n",
    "b0_true = 10\n",
    "A_true = 3\n",
    "sigma_true = 3.0\n",
    "T_true = 40\n",
    "err0_y = 0.5\n",
    "\n",
    "t = 100 * np.random.random(N)\n",
    "y_true = GaussAndBkgd(t, b0_true, A_true, sigma_true, T_true)\n",
    "err_y = np.random.uniform(0, 2*err0_y) + 0.5*np.sqrt(y_true/10) \n",
    "y_obs = np.random.normal(y_true, err_y)\n",
    "#----------------------------------------------------------------------"
   ]
  },
  {
   "cell_type": "code",
   "execution_count": 109,
   "metadata": {},
   "outputs": [
    {
     "name": "stdout",
     "output_type": "stream",
     "text": [
      "[ 10.01279234   3.           2.96439959  40.        ]\n"
     ]
    },
    {
     "data": {
      "text/plain": [
       "<matplotlib.text.Text at 0x7effe2510400>"
      ]
     },
     "execution_count": 109,
     "metadata": {},
     "output_type": "execute_result"
    },
    {
     "data": {
      "image/png": "[encoded data removed]",
      "text/plain": [
       "<matplotlib.figure.Figure at 0x7effe246a128>"
      ]
     },
     "metadata": {},
     "output_type": "display_data"
    }
   ],
   "source": [
    "Model = y_obs\n",
    "Err = err_y\n",
    "t_fit = np.linspace(1,100,101)\n",
    "\n",
    "def NegLogL(Params):\n",
    "    Data = GaussAndBkgd(t_fit, Params[0], Params[1], Params[2], Params[3])\n",
    "    return(np.sum((Model-Data/Er2**2)))\n",
    "\n",
    "InitialGuess = [10,3,3,40]\n",
    "Opt = minimize(LogL,InitialGuess,bounds=((0.1, None), (3, None),(1, 3), (40, None)))\n",
    "y_fit = GaussAndBkgd(t_fit, Opt.x[0], Opt.x[1], Opt.x[2], Opt.x[3])\n",
    "print(Opt.x)\n",
    "ChiSq = np.sum(((y_obs-y_fit)/err_y)**2)\n",
    "\n",
    "plt.figure(figsize=[9,9])\n",
    "plt.plot(t_fit,y_fit,lw=2,c='b')\n",
    "plt.scatter(t, y_obs, s=9, lw=0, c='k')\n",
    "plt.errorbar(t, y_obs, err_y, fmt='.', lw=1, c='k')\n",
    "plt.xlim(-10, 110)\n",
    "plt.ylim(8.5, 16.5)\n",
    "plt.xlabel('$t$',fontsize=24)\n",
    "plt.ylabel(r'$y_{\\rm obs}$',fontsize=24)"
   ]
  },
  {
   "cell_type": "code",
   "execution_count": null,
   "metadata": {
    "collapsed": true
   },
   "outputs": [],
   "source": []
  }
 ],
 "metadata": {
  "kernelspec": {
   "display_name": "Python 3",
   "language": "python",
   "name": "python3"
  },
  "language_info": {
   "codemirror_mode": {
    "name": "ipython",
    "version": 3
   },
   "file_extension": ".py",
   "mimetype": "text/x-python",
   "name": "python",
   "nbconvert_exporter": "python",
   "pygments_lexer": "ipython3",
   "version": "3.6.1"
  }
 },
 "nbformat": 4,
 "nbformat_minor": 2
}
