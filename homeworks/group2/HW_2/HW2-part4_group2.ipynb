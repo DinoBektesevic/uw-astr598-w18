{
 "cells": [
  {
   "cell_type": "code",
   "execution_count": null,
   "metadata": {
    "collapsed": true
   },
   "outputs": [],
   "source": []
  },
  {
   "cell_type": "markdown",
   "metadata": {},
   "source": [
    "### HW2 part 4  : Executive summary \n",
    "\n",
    "\"Match positionally the HLC and NSC catalogs; analyze whether the \n",
    "two sets of proper motions are statistically consistent. In particular,\n",
    "test whether accounting for proper motions decreases positional discrepancies, and whether HLC or NSC pm’s are better in this case.\n",
    "\n",
    "Hint: need to decide on matching radius, be careful about the faint limit, non-gaussianity, does chi2dof become ~1?…\"\"\n"
   ]
  },
  {
   "cell_type": "code",
   "execution_count": null,
   "metadata": {
    "collapsed": true
   },
   "outputs": [],
   "source": [
    "# Imports \n",
    "from astropy.table import Table\n",
    "from astropy.coordinates import SkyCoord\n",
    "from astropy import units as u\n",
    "from astropy.table import hstack\n",
    "from astropy.table import vstack\n",
    "import matplotlib.pyplot as plt\n",
    "import matplotlib.pyplot as plt\n",
    "from matplotlib.patches import Circle\n",
    "import os\n",
    "import numpy as np\n",
    "from astropy.io import fits\n",
    "import pandas as pd"
   ]
  },
  {
   "cell_type": "markdown",
   "metadata": {},
   "source": [
    "If you already have cross-matched NSC, HLC catalogs, go to [step 2](#step2) . Check if we did : "
   ]
  },
  {
   "cell_type": "code",
   "execution_count": null,
   "metadata": {},
   "outputs": [],
   "source": [
    "test_for_catalogs = [s for s in os.listdir() if s.startswith('hlc_nsc_')]\n",
    "if len(test_for_catalogs) > 0 : \n",
    "    print('There are following files that look like cross-matched HLC-NSC catalogs:')\n",
    "    print(test_for_catalogs)\n",
    "    print('You may go to step 2')\n",
    "else : \n",
    "    print('I do not see any files that start with \"hlc_nsc*\" that could be \\\n",
    "cross-matched HLC-NSC catalogs ... ')\n",
    "    print('Need to run step 1')"
   ]
  },
  {
   "cell_type": "markdown",
   "metadata": {},
   "source": [
    "[ Hyperlink to step 2 : click to go ](#step2)\n",
    "\n",
    "[ Hyperlink to step 3 ](#step3)"
   ]
  },
  {
   "cell_type": "markdown",
   "metadata": {},
   "source": [
    "## 1) Load NSC,  HLC, and crossmatch <a id='toc'></a>"
   ]
  },
  {
   "cell_type": "code",
   "execution_count": null,
   "metadata": {
    "collapsed": true
   },
   "outputs": [],
   "source": [
    "# Load the NSC data ... \n",
    "table_neg = Table.read('NSC_stripe82_Dec_negative.csv')\n",
    "table_pos = Table.read('NSC_stripe82_Dec_positive.csv')"
   ]
  },
  {
   "cell_type": "code",
   "execution_count": null,
   "metadata": {
    "collapsed": true
   },
   "outputs": [],
   "source": [
    "# Stack the two tables vertically \n",
    "nsc = vstack([table_neg, table_pos])\n",
    "print('Done')"
   ]
  },
  {
   "cell_type": "code",
   "execution_count": null,
   "metadata": {
    "collapsed": true
   },
   "outputs": [],
   "source": [
    "# Read in the HLC data : \n",
    "catalogs = ['HLC.RA_20_to_21.fits.gz',\n",
    "'HLC.RA_21_to_22.fits.gz',\n",
    "'HLC.RA_22_to_23.fits.gz',\n",
    "'HLC.RA_23_to_24.fits.gz',\n",
    "'HLC.RA_00_to_01.fits.gz',\n",
    "'HLC.RA_01_to_02.fits.gz',\n",
    "'HLC.RA_02_to_03.fits.gz',\n",
    "'HLC.RA_03_to_04.fits.gz']\n",
    "\n",
    "\n",
    "def ReadTable(name):\n",
    "    dir_hlc = '../HW_1/'\n",
    "    hlc_fits = fits.open(dir_hlc+name)\n",
    "    hlc_table = Table(hlc_fits[1].data)\n",
    "    return hlc_table\n",
    "\n",
    "hlc = ReadTable(catalogs[0])\n",
    "for catalog in catalogs[1:] : \n",
    "    print('Reading ', catalog)\n",
    "    hlc_cat = ReadTable(catalog)\n",
    "    hlc = vstack([hlc, hlc_cat])\n",
    "\n"
   ]
  },
  {
   "cell_type": "code",
   "execution_count": null,
   "metadata": {
    "collapsed": true
   },
   "outputs": [],
   "source": [
    "# Since S82 is centered on RA=0 , stretchin roughly +/- 50 degrees away\n",
    "# it makes sense to change 0-360 to -180 / +180 .. \n",
    "\n",
    "coord = 'RA'\n",
    "for col_type in  ['_MEAN','_MEAN_CLIP']:    \n",
    "    c =coord+col_type\n",
    "    hlc[c +'_W'] = np.where(hlc[c]>180, hlc[c]-360, hlc[c])"
   ]
  },
  {
   "cell_type": "code",
   "execution_count": null,
   "metadata": {
    "collapsed": true
   },
   "outputs": [],
   "source": [
    "# Do the same for the   NSC catalog \n",
    "nsc['raW'] = np.where(nsc['ra']>180, nsc['ra']-360, nsc['ra'])"
   ]
  },
  {
   "cell_type": "code",
   "execution_count": null,
   "metadata": {
    "collapsed": true
   },
   "outputs": [],
   "source": [
    "# Show the ra coverage of nsc vs hlc ....\n",
    "%matplotlib inline\n",
    "plt.hist(nsc['raW'], histtype='step', lw=2)\n",
    "plt.hist(hlc['RA_MEAN_CLIP_W'], histtype='step', lw=2)"
   ]
  },
  {
   "cell_type": "code",
   "execution_count": null,
   "metadata": {
    "collapsed": true
   },
   "outputs": [],
   "source": [
    "# To make things faster, we split this range \n",
    "# into bins of RA \n",
    "\n",
    "ra_col  = 'RA_MEAN_CLIP_W' # choose which ra type to use for HLC \n",
    "hlc_nsc = Table()\n",
    "ra = np.arange(-50,60,10)\n",
    "for i in range(len(ra)-1):\n",
    "    print('Matching ra in range ',ra[i], ra[i+1])\n",
    "    mask_hlc = (ra[i]<hlc[ra_col])*(hlc[ra_col] < ra[i+1])\n",
    "    mask_nsc = (ra[i]<nsc['raW'])*(nsc['raW'] < ra[i+1])\n",
    "    \n",
    "    hlc_sel = hlc[mask_hlc]\n",
    "    nsc_sel = nsc[mask_nsc]\n",
    "    \n",
    "    hlc_coords = SkyCoord(ra=hlc_sel[ra_col]*u.degree, \n",
    "                          dec=hlc_sel['DEC_MEAN']*u.degree\n",
    "                         )\n",
    "    nsc_coords = SkyCoord(ra = nsc_sel['raW']*u.degree,  \n",
    "                          dec = nsc_sel['dec']*u.degree\n",
    "                         )\n",
    "    \n",
    "    idx, d2d, d3d = hlc_coords.match_to_catalog_sky(nsc_coords)  \n",
    "    \n",
    "    hlc_nsc_sel = hstack([hlc_sel, nsc_sel[idx]], table_names = ['hlc', 'nsc'])\n",
    "    hlc_nsc_sel['sep_2d_arcsec'] = d2d.arcsec\n",
    "    \n",
    "    hlc_nsc = vstack([hlc_nsc_sel, hlc_nsc])\n",
    "    \n",
    "print('Finished crossmatching')    "
   ]
  },
  {
   "cell_type": "code",
   "execution_count": null,
   "metadata": {
    "collapsed": true
   },
   "outputs": [],
   "source": []
  },
  {
   "cell_type": "code",
   "execution_count": null,
   "metadata": {
    "collapsed": true
   },
   "outputs": [],
   "source": [
    "# plot the separation histogram ....\n",
    "# there is a clean peak close to zero : \n",
    "# these are the matched sources \n",
    "x = hlc_nsc['sep_2d_arcsec']\n",
    "plt.hist(x[x<1], histtype='step', lw=2 )\n",
    "\n",
    "#  select matched sources \n",
    "x = hlc_nsc['sep_2d_arcsec']\n",
    "matched = x < 1 \n",
    "selected =  hlc_nsc[matched]\n",
    "\n",
    "# How many of the hlc sources had a good match ? \n",
    "print(len(hlc), len(selected))"
   ]
  },
  {
   "cell_type": "code",
   "execution_count": null,
   "metadata": {
    "collapsed": true
   },
   "outputs": [],
   "source": [
    "# Since the above steps take quite a while, save the cross-matched table \n",
    "# with good matches ... \n",
    "\n",
    "# Check whether the file with cross-matched catalogs exists....\n",
    "fname =  'hlc_nsc_1arcsec_'+str(len(selected))+'_main'\n",
    "import os \n",
    "if fname not in os.listdir() : \n",
    "    print('Saving the cross-matched catalog main columns as ', fname )\n",
    "\n",
    "    # store in this variable all columns of combined HLC-NSC catalog \n",
    "    all_cols = np.ravel(hlc_nsc.colnames)\n",
    "\n",
    "    # explicitly choose which columns to save in the main cross-matched catalog \n",
    "    select_cols = ['LC_NAME', 'IAU_NAME', 'N_GOOD_EPOCHS', 'MEAN_PSFMAG',\n",
    "           'MEAN_PSFMAG_ERR', \n",
    "           'N_GOOD_EPOCHS_PSF_CLIP', \n",
    "       'MEAN_PSFMAG_CLIP', 'MEAN_PSFMAG_ERR_CLIP', \n",
    "       'TIME_SPAN', 'MEAN_OBJECT_TYPE', 'REDDENING',\n",
    "       'RA_MEAN_CLIP_W', 'RA_MEAN_ERR_CLIP', 'RA_PM_CLIP', \n",
    "       'RA_PM_ERR_CLIP', 'DEC_MEAN_CLIP', 'DEC_MEAN_ERR_CLIP',\n",
    "       'DEC_PM_CLIP', 'DEC_PM_ERR_CLIP',\n",
    "     'T0', 'T0_CLIP','N_POS_EPOCHS_CLIP', 'ECL_REDCHISQ_OUT', 'ECL_STAT', 'ECL_EPOCH',\n",
    "       'ra', 'dec',\n",
    "       'pmra', 'pmraerr', 'pmdec', 'pmdecerr', 'mjd', 'deltamjd', 'gmag',\n",
    "       'grms', 'gerr', 'rmag', 'rrms', 'rerr', 'imag', 'irms', 'ierr',\n",
    "       'class_star', 'fwhm', 'ebv', 'nphot', 'raW', 'sep_2d_arcsec']\n",
    "\n",
    "    np.save(fname,selected[select_cols])\n",
    "\n",
    "    # store all other columns in the auxiliary cross-matched catalog \n",
    "    other_cols = all_cols[~np.in1d(all_cols,select_cols)]\n",
    "    fname =  'hlc_nsc_1arcsec_'+str(len(selected))+'_auxiliary'\n",
    "    print('Saving the cross-matched catalog aux columns as ', fname )\n",
    "    np.save(fname,selected[list(other_cols)])\n",
    "\n",
    "    # it can be loaded into AstroPy as  \n",
    "    #test = Table(np.load(fname))"
   ]
  },
  {
   "cell_type": "markdown",
   "metadata": {},
   "source": [
    "## 2) Load the saved NSC-HLC cross-matched catalogs  <a id='step2'></a>"
   ]
  },
  {
   "cell_type": "markdown",
   "metadata": {},
   "source": [
    "[Go to top](#toc)"
   ]
  },
  {
   "cell_type": "code",
   "execution_count": null,
   "metadata": {
    "collapsed": true
   },
   "outputs": [],
   "source": [
    "fname =  test_for_catalogs[0] # 'hlc_nsc_1arcsec_2765649_main'\n",
    "selected = Table(np.load(fname))"
   ]
  },
  {
   "cell_type": "code",
   "execution_count": null,
   "metadata": {
    "collapsed": true
   },
   "outputs": [],
   "source": [
    "# extract the magnitudes\n",
    "def FormatMagnitude(table):\n",
    "    mean_psfmag = Table(table['MEAN_PSFMAG'], names=('u', 'g', 'r', 'i','z'))\n",
    "    mean_psfmag_err = Table(table['MEAN_PSFMAG_ERR'], names=('u', 'g', 'r', 'i','z'))\n",
    "    SN = {} #a dictionary\n",
    "    for f in mean_psfmag.colnames : \n",
    "        SN[f] = mean_psfmag[f] / mean_psfmag_err[f]\n",
    "    return mean_psfmag, mean_psfmag_err, SN\n",
    "\n",
    "mean_psfmag, mean_psfmag_err, SN = FormatMagnitude(selected)\n",
    "\n",
    "# select only high signal to noise :\n",
    "mSN = (SN['g'] > 5) * ( SN['r'] > 5) * ( SN['i'] > 5 )\n",
    "m_r = mean_psfmag['r'].data > 10.0\n",
    "\n",
    "dra = 3600*(selected['RA_MEAN_CLIP_W'] - selected['raW']) \n",
    "ddec = 3600*(selected['DEC_MEAN_CLIP'] - selected['dec'])"
   ]
  },
  {
   "cell_type": "markdown",
   "metadata": {},
   "source": [
    "We plot the raw difference in RA, DEC,  that clearly shows that the two catalogs measure different positions of stars. The following plots show that indeed there is a discrepancy..."
   ]
  },
  {
   "cell_type": "code",
   "execution_count": null,
   "metadata": {
    "collapsed": true
   },
   "outputs": [],
   "source": [
    "%matplotlib inline \n",
    "import seaborn as sns \n",
    "from astroML.plotting import setup_text_plots\n",
    "setup_text_plots(fontsize=15, usetex=True)\n",
    "\n",
    "fig = plt.figure(figsize=(10, 7.5))\n",
    "\n",
    "# First axis : the hexbin plot ... \n",
    "ax = fig.add_axes([0.35, 0.35, 0.45, 0.6], xticks=[], yticks=[])\n",
    "im1 = ax.hexbin(dra, ddec, bins='log', cmap=plt.cm.viridis,\n",
    "               mincnt=1, extent=(-0.5, 0.5, -0.5,0.5))\n",
    "ax.set_xlim(-0.5,0.5)\n",
    "ax.set_ylim(-0.5,0.5)\n",
    "ax.plot([-0.5,0.5], [0.0, 0.0], '-k', c='red')\n",
    "ax.plot([0,0], [-0.5, 0.5], '-k', c='red')\n",
    "\n",
    "# Add colorbar \n",
    "cax = plt.axes([0.82, 0.35, 0.02, 0.6])\n",
    "cb = plt.colorbar(im1, cax=cax)\n",
    "cb.set_label(r'$\\log (N)$')\n",
    "#plt.clim(-7, 0)\n",
    "\n",
    "\n",
    "# Bottom axis : histogram of RA \n",
    "ax1 = fig.add_axes([0.35, 0.1, 0.45, 0.23], yticks=[])\n",
    "ax1.hist(dra.data.data, bins=50, histtype='stepfilled', ec='k', fc='#AAAAAA')\n",
    "ax1.set_xlabel(r'$\\Delta RA$')\n",
    "ax1.set_ylabel('N(r, r+dr)')\n",
    "ax1.set_xlim(-0.5,0.5)\n",
    "\n",
    "# Left axis : histogram of DEC \n",
    "# #https://matplotlib.org/examples/pylab_examples/scatter_hist.html\n",
    "ax2 = fig.add_axes([0.15, 0.35, 0.18, 0.6], xticks=[])\n",
    "ax2.hist(ddec.data.data,orientation='horizontal',bins=50, \n",
    "         histtype='stepfilled', ec='k', fc='#AAAAAA',\n",
    "         range=(-0.5,0.5))\n",
    "ax2.set_xlabel('N(r, r+dr)')\n",
    "ax2.set_ylabel(r'$\\Delta DEC$')\n",
    "ax2.set_ylim(-0.5,0.5)\n",
    "ax2.set_xlim(ax2.get_xlim()[::-1])  # reverse x axis\n",
    "\n",
    "plt.savefig('hw2_4_hlc-nsc_RA_DEC_offset.png', bbox_inches='tight')\n",
    "plt.show()\n"
   ]
  },
  {
   "cell_type": "markdown",
   "metadata": {},
   "source": [
    "Now plot the difference of magnitudes : we do not expect that they would be identical, but this helps gauge the magnitude of the offset ... "
   ]
  },
  {
   "cell_type": "code",
   "execution_count": null,
   "metadata": {
    "collapsed": true
   },
   "outputs": [],
   "source": [
    "from scipy.stats import binned_statistic as bs \n",
    "import seaborn as sns\n",
    "# plot mgnitude comparison ....\n",
    "\n",
    "# select stars\n",
    "m_star = selected['class_star'] > 0.5 \n",
    "m = mSN * m_r * m_star\n",
    "\n",
    "%matplotlib inline\n",
    "fig,ax = plt.subplots(3,1, figsize=(7,12))\n",
    "i = 0 \n",
    "bins  =  np.arange(13,22, 0.5)\n",
    "for c in 'igr' : \n",
    "    mag1 = mean_psfmag[c][m]\n",
    "    mag2 = selected[c+'mag'][m] \n",
    "    dmag  = mag1 - mag2\n",
    "    m1 = np.abs(dmag) < 0.5  # select matches within 0.5 mag \n",
    "    m2 = mag1>10 # and remove all points which do not have the proper mag info \n",
    "    mask = m1*m2 \n",
    "    \n",
    "    x,y = mag1[mask] , dmag[mask]\n",
    "    \n",
    "    stats = bs(x,y,statistic='median', bins=bins)\n",
    "    \n",
    "    ax[i].scatter(x,y, s=0.0001 )\n",
    "    \n",
    "    # add contours subsampled by a \n",
    "    # factor of 50 ... \n",
    "    sns.kdeplot(x[::50],y[::50], ax=ax[i])\n",
    "    \n",
    "    ax[i].set_xlabel('HLC '+c+' mag')\n",
    "    ax[i].set_ylabel('HLC - NSC '+c+ ' mag')\n",
    "    ax[i].scatter(bins[1:], stats.statistic)\n",
    "    ax[i].set_xlim(13,23)\n",
    "    ax[i].axhline(0,lw=2,ls='--', c='red')\n",
    "    i += 1 \n",
    "fig.subplots_adjust(hspace=0.3)\n",
    "fig.suptitle('HLC-NSC , RA -50 to  +50, stars',y=0.91)\n",
    "plt.savefig('hw2_4-hlc_nsc_mags_stars.png', bbox_inches='tight')"
   ]
  },
  {
   "cell_type": "markdown",
   "metadata": {},
   "source": [
    "### Using time difference between catalog epochs to correct RA,DEC accounting for PM "
   ]
  },
  {
   "cell_type": "markdown",
   "metadata": {},
   "source": [
    "Here we want to test which PM are more accurate. This test is based on the fact that measurements in  HLC and NSC  catalogs were taken at different times. We can thus correct the RA,DEC positions of stars from one catalog to the other using the proper motion information. "
   ]
  },
  {
   "cell_type": "markdown",
   "metadata": {},
   "source": [
    "First we plot the color-color diagrams to make color selection . We use the HLC magnitudes in this case - the above plot shows that using NSC magnitudes would not make too much difference, but we need to use one or the other for the color cut. We want to see how the proper motion correction deopends on color (eg. g-i ), and magnitude (eg. bright vs faint). "
   ]
  },
  {
   "cell_type": "code",
   "execution_count": null,
   "metadata": {
    "collapsed": true
   },
   "outputs": [],
   "source": [
    "# Select stars, and signal to noise > 5 \n",
    "m_star = selected['class_star'] > 0.5 \n",
    "m_sn = (mean_psfmag['g'] / mean_psfmag_err['g'])> 5\n",
    "m = m_sn * m_star\n",
    "\n",
    "# plot g-i vs r-i  plot for selection ...\n",
    "\n",
    "col0 = mean_psfmag['g'][m] - mean_psfmag['i'][m]\n",
    "col1 = mean_psfmag['r'][m] - mean_psfmag['i'][m]\n",
    "\n",
    "# 2D-histogram of objects in the g-r vs r-i color diagram \n",
    "fig, ax1 = plt.subplots(1, 1, figsize=(9, 8))\n",
    "im1 = ax1.hexbin(col0, col1, bins='log', cmap=plt.cm.viridis,\n",
    "               mincnt=1, extent=(-1.0, 3.5, -1,2.5))\n",
    "#ax1.axis([-0.2, 2.0, 23.5, 14])\n",
    "ax1.set_xlabel('g-i',fontsize=20)\n",
    "ax1.set_ylabel('r-i',fontsize=20)\n",
    "\n",
    "#color bar\n",
    "cb = plt.colorbar(im1,label='log(N)')\n",
    "plt.savefig('hw2_4_hlc_nsc_gi_vs_ri.png', bbox_inches='tight')"
   ]
  },
  {
   "cell_type": "code",
   "execution_count": null,
   "metadata": {
    "collapsed": true
   },
   "outputs": [],
   "source": [
    "# plot g-r vs r-i  plot for selection ...\n",
    "\n",
    "col0 = mean_psfmag['g'][m] - mean_psfmag['r'][m]\n",
    "col1 = mean_psfmag['r'][m] - mean_psfmag['i'][m]\n",
    "\n",
    "xmin,xmax = -0.6, 1.8\n",
    "ymin,ymax = -0.5, 2.1\n",
    "# 2D-histogram of objects in the g-r vs r-i color diagram \n",
    "fig, ax1 = plt.subplots(1, 1, figsize=(9, 8))\n",
    "im1 = ax1.hexbin(col0, col1, bins='log', cmap=plt.cm.viridis,\n",
    "               mincnt=1, extent=(xmin,xmax,ymin,ymax))\n",
    "#ax1.axis([-0.2, 2.0, 23.5, 14])\n",
    "ax1.set_xlabel('g-r',fontsize=20)\n",
    "ax1.set_ylabel('r-i',fontsize=20)\n",
    "\n",
    "sns.kdeplot(col0[::30],col1[::30], ax=ax1, clip = ((xmin,xmax),(ymin,ymax) ))\n",
    "\n",
    "#color bar\n",
    "cb = plt.colorbar(im1,label='log(N)')\n",
    "plt.savefig('hw2_4_hlc_nsc_gr_vs_ri.png', bbox_inches='tight')"
   ]
  },
  {
   "cell_type": "markdown",
   "metadata": {},
   "source": [
    "The two catalogs observe the same sources at different times. Thus the ra,dec positions in two catalogs are recording positions of stars at two epochs.  Plot the histogram of time differences between the two epochs : "
   ]
  },
  {
   "cell_type": "code",
   "execution_count": null,
   "metadata": {
    "collapsed": true
   },
   "outputs": [],
   "source": [
    "from itertools import product \n",
    "from astropy.time import Time\n",
    "from astroML.stats import sigmaG\n",
    "# plot the distribution of time differences\n",
    "\n",
    "m_star = selected['class_star'] > 0.5 \n",
    "m_sn = (mean_psfmag['g'] / mean_psfmag_err['g'])> 5\n",
    "m = m_sn * m_star\n",
    "\n",
    "t1 = selected['mjd'][m]  # this is in MJD \n",
    "\n",
    "# starts with degrees , convert to miliarcseconds \n",
    "degrees_to_miliarcsec =  3600 * 1000\n",
    "ra1 = selected['raW'][m]  * degrees_to_miliarcsec \n",
    "dec1 = selected['dec'][m] * degrees_to_miliarcsec \n",
    "\n",
    "# starts with miliarcsec / year \n",
    "pmra1 = selected['pmra'][m]\n",
    "pmdec1 = selected['pmdec'][m]\n",
    "\n",
    "# Use the  middle of the HLC light curve\n",
    "t2  = selected['T0_CLIP'][m]+selected['TIME_SPAN'][m]/2.0  # this is in JD !  \n",
    "\n",
    "# start with degrees , convert to miliarcsec\n",
    "ra2 = selected['RA_MEAN_CLIP_W'][m] * degrees_to_miliarcsec \n",
    "dec2 = selected['DEC_MEAN_CLIP'][m] * degrees_to_miliarcsec \n",
    "\n",
    "# start with arcsec / year \n",
    "pmra2 = 1000*selected['RA_PM_CLIP'][m] # convert to miliarcsec from arcsec... \n",
    "pmdec2= 1000*selected['DEC_PM_CLIP'][m]\n",
    "\n",
    "# calculate the time difference as an AstroPy object \n",
    "t1_ =  Time(t1, format='mjd')\n",
    "t2_ =  Time(t2, format='jd')\n",
    "\n",
    "# t1 > t2,  because NSC has later dates than HLC. \n",
    "# thus the difference is > 0 \n",
    "dt = t1_ - t2_  \n",
    "\n",
    "# convert the difference from days to years \n",
    "dt_years = (t1_.mjd - t2_.mjd) / 365\n",
    "    \n",
    "plt.hist(dt_years,  lw=2, histtype='step', bins=45, range=[5,12])\n",
    "plt.xlabel('t(NSC) - t(HLC) [years]',)\n",
    "plt.ylabel('count')\n",
    "plt.savefig('hw2_4_dt_between_NSC_HLC.png', bbox_inches='tight')"
   ]
  },
  {
   "cell_type": "markdown",
   "metadata": {},
   "source": [
    "Encouraged by that, I split the NSC-HLC sample into bright/faint , blue/red,  and consider how using either proper motion can be used to account for the ra,dec offset : "
   ]
  },
  {
   "cell_type": "code",
   "execution_count": null,
   "metadata": {
    "collapsed": true
   },
   "outputs": [],
   "source": [
    "import seaborn as sns\n",
    "\n",
    "# A function to calculate the ra,dec correction\n",
    "# based on proper motions, \n",
    "# and investigate color and magnitude dependence \n",
    "\n",
    "def plot_dra_ddec(selected, m, fig_name):\n",
    "    # call  '1'  NSC ,   '2' :  HLC \n",
    "    t1 = selected['mjd'][m]  # this is in MJD \n",
    "\n",
    "    # starts with degrees , convert to miliarcseconds \n",
    "    degrees_to_miliarcsec =  3600 * 1000\n",
    "    ra1 = selected['raW'][m]  * degrees_to_miliarcsec \n",
    "    dec1 = selected['dec'][m] * degrees_to_miliarcsec \n",
    "\n",
    "    # starts with miliarcsec / year \n",
    "    pmra1 = selected['pmra'][m]\n",
    "    pmdec1 = selected['pmdec'][m]\n",
    "\n",
    "    # since we are using clipped values,  let's use T0_CLIP : \n",
    "    # this is the beginning of the HLC light curve.  \n",
    "    # Now, TIME_SPAN is the length of the light curve,\n",
    "    # so probably the best would be to use \n",
    "    # the middle of the light curve : \n",
    "    t2  = selected['T0_CLIP'][m]+selected['TIME_SPAN'][m]/2.0  # this is in JD !  \n",
    "\n",
    "    # start with degrees , convert to miliarcsec\n",
    "    ra2 = selected['RA_MEAN_CLIP_W'][m] * degrees_to_miliarcsec \n",
    "    dec2 = selected['DEC_MEAN_CLIP'][m] * degrees_to_miliarcsec \n",
    "\n",
    "    # start with arcsec / year \n",
    "    pmra2 = 1000*selected['RA_PM_CLIP'][m] # convert to miliarcsec from arcsec... \n",
    "    pmdec2= 1000*selected['DEC_PM_CLIP'][m]\n",
    "    \n",
    "    # calculate the time difference as an AstroPy object \n",
    "    t1_ =  Time(t1, format='mjd')\n",
    "    t2_ =  Time(t2, format='jd')\n",
    "\n",
    "    # t1 > t2,  because NSC has later dates than HLC. \n",
    "    # thus the difference is > 0 \n",
    "    dt = t1_ - t2_  \n",
    "    \n",
    "    # convert the difference from days to years \n",
    "    dt_years = (t1_.mjd - t2_.mjd) / 365\n",
    "    \n",
    "    # plot uncorrected dra vs ddec \n",
    "    dra = ra2 - ra1\n",
    "    ddec = dec2 - dec1\n",
    "\n",
    "    # thus corrected ra,dec would be in miliarcsec : \n",
    "    dracorr1 = pmra1 * dt_years\n",
    "    ddeccorr1 = pmdec1 * dt_years\n",
    "\n",
    "    dracorr2 = pmra2 * dt_years\n",
    "    ddeccorr2 = pmdec2 * dt_years\n",
    "    \n",
    "    # plotting  : initialize the figure \n",
    "    fig,ax = plt.subplots(1,3, figsize=(13.8,4))\n",
    "    \n",
    "    # same setup for all subplots \n",
    "    dotsize= 0.0001\n",
    "    ramax = 200 # miliarcsec\n",
    "    xmin,xmax = -ramax, ramax\n",
    "    ymin,ymax = -ramax, ramax \n",
    "    for x,y,title,i in zip([dra,dracorr1,dracorr2],\n",
    "                          [ddec, ddeccorr1, ddeccorr2],\n",
    "                          ['uncorrected', 'using NSC PM',\n",
    "                          'using HLC PM'],\n",
    "                          [0,1,2]\n",
    "                          ) :\n",
    "        # first, plot uncorrected dra = ra2 - ra1 ... \n",
    "        ax[i].set_title(title)\n",
    "        ax[i].scatter(x,y, s=dotsize)\n",
    "        # overplot the contours ...\n",
    "        #sns.kdeplot(x[::30], y[::30], ax=ax[i], \n",
    "        #            clip = ((xmin,xmax),(ymin,ymax) ))\n",
    "        \n",
    "        ax[i].set_xlim(xmin,xmax)\n",
    "        ax[i].set_ylim(ymin,ymax)\n",
    "        ax[i].set_xlabel('dRA [miliarcsec]')\n",
    "        ax[i].set_ylabel('dDec [miliarcsec]')\n",
    "        ax[i].axhline(0, c='red')\n",
    "        ax[i].axvline(0, c='red')\n",
    "        x0 = -150\n",
    "        ax[i].text(x0,-100,'med(x)='+str(np.median(x))[:5])\n",
    "        ax[i].text(x0,-125,'med(y)='+str(np.median(y))[:5])\n",
    "        ax[i].text(x0,-150, r'$\\sigma_{G}(x)=$'+str(sigmaG(x))[:5])\n",
    "        ax[i].text(x0,-175, r'$\\sigma_{G}(y)=$'+str(sigmaG(y))[:5])\n",
    "        \n",
    "        #ax[i].text('median(y)'+str(np.median(x)))\n",
    "        #\n",
    "        #ax[i].text(r'$\\sigma_{G}(y)=$'+str(sigmaG(y)))\n",
    "    # then, plot corrected dra  using NSC PM (pmra1 , pmdec1 )\n",
    "    # ra2 = ra1 + dt * pmra1\n",
    "    # ra1ra2 - ra1 = dt * pmra1\n",
    "\n",
    "    #ax[1].set_title('using NSC PM')\n",
    "    #ax[1].scatter(dracorr1 , ddeccorr1, s=dotsize)\n",
    "    #sns.kdeplot(dracorr1,ddeccorr1, ax=ax[1])\n",
    "    \n",
    "    # then, plot corrected dra  using HLC PM (pmra2 , pmdec2 )\n",
    "    #ax[2].set_title('using HLC PM')\n",
    "    #ax[2].scatter(dracorr2 , ddeccorr2, s=dotsize)\n",
    "    #sns.kdeplot(dracorr2,ddeccorr2, ax=ax[2])\n",
    "\n",
    "    fig.subplots_adjust(wspace=0.3)\n",
    "    fig.suptitle(fig_name)\n",
    "    plt.savefig('hw2_4_NSC_HLC_dra_ddec_'+fig_name+'.png', bbox_inches='tight')\n",
    "    "
   ]
  },
  {
   "cell_type": "code",
   "execution_count": null,
   "metadata": {
    "collapsed": true
   },
   "outputs": [],
   "source": [
    "# Select by g-i : \n",
    " \n",
    "# blue   -1 <  g-i < 1  \n",
    "# red    1  < g-i < 3\n",
    "\n",
    "# select by magnitude :\n",
    "# bright   r < 20 \n",
    "# faint   r >20 \n",
    "\n",
    "gi_color_cuts = {'blue': [-1,1], 'red':[1,3]}\n",
    "magnitude_cuts = ['bright', 'faint']\n",
    "for gi_cut, mag_cut in product(gi_color_cuts.keys(), magnitude_cuts):\n",
    "    print(gi_cut, mag_cut)\n",
    "    gi_min, gi_max = gi_color_cuts[gi_cut]\n",
    "    m_star = selected['class_star'] > 0.5 \n",
    "    m_sn = (mean_psfmag['g'] / mean_psfmag_err['g'])> 5\n",
    "    \n",
    "    gi = mean_psfmag['g'] - mean_psfmag['i']\n",
    "    m_color = (gi_min < gi)*(gi < gi_max)\n",
    "\n",
    "    if mag_cut is 'faint':\n",
    "        m_mag = mean_psfmag['r'] > 20 \n",
    "    if mag_cut is 'bright':\n",
    "        m_mag = mean_psfmag['r'] < 20 \n",
    "        \n",
    "    m = m_sn * m_star * m_color * m_mag \n",
    "    print(np.sum(m))\n",
    "    \n",
    "    fig_name = mag_cut+'_'+gi_cut\n",
    "    plot_dra_ddec(selected, m, fig_name)"
   ]
  },
  {
   "cell_type": "markdown",
   "metadata": {},
   "source": [
    "It looks like the main difference between bright/faint is the spread of the distribution.  This is not too surprising given that fainter objects have presumably less precise astrometry and proper motions. There is not much difference between blue  / red samples , although given the same magnitude bin, there is less scatter in the blue sample.  Using NSC proper motions seems better than HLC, considering that the median RA,DEC offset becomes much closer to 0 for NSC. The smallest offset (median) is in bright blue / red samples . "
   ]
  },
  {
   "cell_type": "markdown",
   "metadata": {},
   "source": [
    "Next steps:  \n",
    "    \n",
    "   * use GAIA DR1  RA,DEC : they are so accurate that could be treated as 'truth' - use them and the timestamps to repeat the above experiment , splitting into  GAIA-NSC,  and GAIA -HLC\n",
    "   * "
   ]
  },
  {
   "cell_type": "markdown",
   "metadata": {
    "collapsed": true
   },
   "source": [
    "## 3) Try downloading GAIA data  and using their RA, DEC information <a id='step3'></a>"
   ]
  },
  {
   "cell_type": "markdown",
   "metadata": {
    "collapsed": true
   },
   "source": [
    "[ Go to top ](#toc)"
   ]
  },
  {
   "cell_type": "markdown",
   "metadata": {},
   "source": [
    "According to Scott Daniel, \"There is a `gaia_2016` table on fatboy that contains about 1.1 billion rows.  I vaguely remember creating that table, but cannot vouch for its contents.  If you want to connect with it and play around, you can use the `lsst_sims` stack, connecting via \n",
    "\n",
    "    from lsst.sims.catalogs.db import DBObject\n",
    "    gaia_db = DBObject(database='LSSTCATSIM', host='fatboy.phys.washington.edu', port=1433, driver='mssql+pymssql')\n",
    "\n",
    "This will connect you to the LSSTCATSIM database.  There are methods for exploring tables, such as\n",
    "\n",
    "    get_column_names(tableName='gaia_2016')\n",
    "    \n",
    "Most of the methods have pretty good docstrings, which should help you learn how to work with the database\n",
    "\""
   ]
  },
  {
   "cell_type": "code",
   "execution_count": null,
   "metadata": {},
   "outputs": [],
   "source": [
    "# Try the above ... \n",
    "from lsst.sims.catalogs.db import DBObject"
   ]
  },
  {
   "cell_type": "code",
   "execution_count": null,
   "metadata": {
    "collapsed": true
   },
   "outputs": [],
   "source": [
    "DBObject?"
   ]
  },
  {
   "cell_type": "code",
   "execution_count": null,
   "metadata": {},
   "outputs": [],
   "source": [
    "gaia_db = DBObject(database='LSSTCATSIM', host='fatboy.phys.washington.edu', \n",
    "                   port=1433, driver='mssql+pymssql')"
   ]
  },
  {
   "cell_type": "code",
   "execution_count": null,
   "metadata": {
    "collapsed": true
   },
   "outputs": [],
   "source": []
  }
 ],
 "metadata": {
  "kernelspec": {
   "display_name": "Python 3",
   "language": "python",
   "name": "python3"
  },
  "language_info": {
   "codemirror_mode": {
    "name": "ipython",
    "version": 3
   },
   "file_extension": ".py",
   "mimetype": "text/x-python",
   "name": "python",
   "nbconvert_exporter": "python",
   "pygments_lexer": "ipython3",
   "version": "3.6.2"
  }
 },
 "nbformat": 4,
 "nbformat_minor": 2
}
