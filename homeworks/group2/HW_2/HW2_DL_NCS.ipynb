{
 "cells": [
  {
   "cell_type": "markdown",
   "metadata": {},
   "source": [
    "# Notebook to get the NLC data... "
   ]
  },
  {
   "cell_type": "code",
   "execution_count": 3,
   "metadata": {},
   "outputs": [
    {
     "name": "stdout",
     "output_type": "stream",
     "text": [
      "Enter user name: suberlak\n",
      "Enter password: ········\n"
     ]
    }
   ],
   "source": [
    "# first, let's login to Data Lab server: \n",
    "from dl import authClient as ac, queryClient as qc, storeClient as sc\n",
    "from getpass import getpass\n",
    "# Get token for an authenticated user if you wish to use virtual storage or myDB\n",
    "token = ac.login(input(\"Enter user name: \"),getpass(\"Enter password: \"))"
   ]
  },
  {
   "cell_type": "code",
   "execution_count": 4,
   "metadata": {},
   "outputs": [
    {
     "name": "stdout",
     "output_type": "stream",
     "text": [
      "Done importing\n"
     ]
    }
   ],
   "source": [
    "# Import packages including some Data Lab (dl) specific ones.\n",
    "import numpy as np\n",
    "import matplotlib\n",
    "import matplotlib.pyplot as plt\n",
    "from matplotlib.ticker import NullFormatter\n",
    "from astropy.utils.data import download_file  #import file from URL\n",
    "from scipy.stats import binned_statistic_2d\n",
    "from astropy.table import Table\n",
    "from dl import authClient as ac, queryClient as qc\n",
    "from dl import helpers\n",
    "%matplotlib inline\n",
    "# from cStringIO import StringIO  # C script to handle string format, Python 2\n",
    "from io import StringIO   # Python 3 version\n",
    "print('Done importing')"
   ]
  },
  {
   "cell_type": "markdown",
   "metadata": {},
   "source": [
    "## Test queries from GettingStarted..."
   ]
  },
  {
   "cell_type": "code",
   "execution_count": null,
   "metadata": {},
   "outputs": [],
   "source": [
    "# Try the example query from GettingStartedWithDataLab : \n",
    "\n",
    "query=\"SELECT * FROM tbl_stat WHERE schema='smash_dr1' and tbl_name='object'\" "
   ]
  },
  {
   "cell_type": "code",
   "execution_count": null,
   "metadata": {},
   "outputs": [],
   "source": [
    "%%time\n",
    "try:\n",
    "    info = qc.query(token,sql=query) # by default the result is a CSV formatted string\n",
    "except Exception as e:\n",
    "    print(e.message)"
   ]
  },
  {
   "cell_type": "code",
   "execution_count": null,
   "metadata": {},
   "outputs": [],
   "source": [
    "print(info)"
   ]
  },
  {
   "cell_type": "code",
   "execution_count": null,
   "metadata": {},
   "outputs": [],
   "source": [
    "%%time\n",
    "query=\"SELECT * FROM smash_dr1.object LIMIT 10\"\n",
    "try:\n",
    "    result = qc.query(token,sql=query) # by default the result is a CSV formatted string\n",
    "except Exception as e:\n",
    "    print(e.message)"
   ]
  },
  {
   "cell_type": "code",
   "execution_count": null,
   "metadata": {},
   "outputs": [],
   "source": [
    "print(type(result))\n",
    "print(result[0:99])\n",
    "df = helpers.convert(result,'pandas')\n",
    "print(df)"
   ]
  },
  {
   "cell_type": "markdown",
   "metadata": {},
   "source": [
    "## Query  the NSC"
   ]
  },
  {
   "cell_type": "code",
   "execution_count": null,
   "metadata": {},
   "outputs": [],
   "source": [
    "# what tables do we have in NSC Data Release 1?  \n",
    "print(qc.schema('nsc_dr1',format='json',profile='default'))\n",
    "print(qc.schema('nsc_dr1.object',format='json',profile='default'))"
   ]
  },
  {
   "cell_type": "markdown",
   "metadata": {},
   "source": [
    "\n",
    "\n",
    "Execute a simple query to get basic astrometry and photometry for NSC sources from the SDSS Stripe 82 region.\n",
    "SDSS Stripe 82 region: about 2.5 deg wide equatorial strip from RA=20h to RA=4h.\n",
    "For the entire Stripe 82 region, the query below should have \"dec > -1.3 and dec < 1.3\" instead of \"dec > -0.3 and dec < 0.3\""
   ]
  },
  {
   "cell_type": "code",
   "execution_count": null,
   "metadata": {},
   "outputs": [
    {
     "name": "stdout",
     "output_type": "stream",
     "text": [
      "Done with query\n"
     ]
    },
    {
     "name": "stderr",
     "output_type": "stream",
     "text": [
      "/data0/sw/anaconda3/lib/python3.6/site-packages/IPython/core/interactiveshell.py:2802: DtypeWarning: Columns (3) have mixed types. Specify dtype option on import or set low_memory=False.\n",
      "  if self.run_code(code, result):\n"
     ]
    },
    {
     "name": "stdout",
     "output_type": "stream",
     "text": [
      "Returning Pandas dataframe\n",
      "3716545\n",
      "Saving as \n"
     ]
    }
   ],
   "source": [
    "decTitles = ['positive', 'negative']\n",
    "decLimsList = [[-1.3, 0], [0, 1.3]]\n",
    "\n",
    "for decTitle, decLims in zip(decTitles, decLimsList) : \n",
    "\n",
    "    decMin, decMax = decLims\n",
    "    # Write query statement (adql) to retrieve data from ls_dr5.tractor_primary table\n",
    "    query = \"\"\"\n",
    "            SELECT ra, dec, pmra, pmraerr, pmdec, pmdecerr, mjd, deltamjd, \n",
    "                   gmag, grms, gerr, rmag, rrms, rerr, imag, irms, ierr,\n",
    "                   class_star, fwhm, ebv, nphot \n",
    "            FROM nsc_dr1.object \n",
    "            WHERE (((ra > 315 or ra<45)) and dec > \"\"\" +str(decMin)+\\\n",
    "            \" and dec < \" +str(decMax)+\\\n",
    "            \"\"\" and rmag > 13 and rmag < 23.0 and rerr < 0.3)\n",
    "            LIMIT 8000000\"\"\"\n",
    "    response = qc.query(token, sql=query, fmt='csv')\n",
    "\n",
    "    print('Done with query')\n",
    "\n",
    "    # convert to Pandas \n",
    "    df = helpers.convert(response,'pandas')\n",
    "\n",
    "    # Check the length to ensure we have all rows ...\n",
    "    print(len(df))\n",
    "\n",
    "    # Save as csv ...\n",
    "    fname = 'NSC_stripe82_Dec_'+decTitle+'.csv'\n",
    "    print('Saving as ', )\n",
    "    df.to_csv(fname,index=False)         # 1,793,566"
   ]
  },
  {
   "cell_type": "code",
   "execution_count": 41,
   "metadata": {},
   "outputs": [
    {
     "data": {
      "text/plain": [
       "5037663"
      ]
     },
     "execution_count": 41,
     "metadata": {},
     "output_type": "execute_result"
    }
   ],
   "source": [
    "# Check the length to ensure we have all rows ...\n",
    "len(df)\n",
    "# should be 3,692,781 + 3,716,545 = 7,409,326"
   ]
  },
  {
   "cell_type": "code",
   "execution_count": null,
   "metadata": {},
   "outputs": [],
   "source": [
    "# It's only 5,037,663 ... \n"
   ]
  },
  {
   "cell_type": "code",
   "execution_count": null,
   "metadata": {},
   "outputs": [],
   "source": [
    "# Save the full one as csv ...\n",
    "# if in the query above had   dec > -1.3 and dec < 1.3  ... \n",
    "#df.to_csv('NSC_stripe82_DecNarrow.csv',index=False)         # 1,793,566"
   ]
  },
  {
   "cell_type": "code",
   "execution_count": 37,
   "metadata": {},
   "outputs": [],
   "source": [
    "# Save the narrow one as csv ...\n",
    "# if in the query above had   dec > -0.3 and dec < 0.3  ... \n",
    "#df.to_csv('NSC_stripe82_DecNarrow.csv',index=False)         # 1,793,566"
   ]
  },
  {
   "cell_type": "markdown",
   "metadata": {},
   "source": [
    "## Make the quality plots :"
   ]
  },
  {
   "cell_type": "code",
   "execution_count": 42,
   "metadata": {},
   "outputs": [],
   "source": [
    "result = df\n",
    "\n",
    "ra = result['ra']\n",
    "dec = result['dec'] \n",
    "rmag = result['rmag'] \n",
    "rmagerr = result['rerr'] \n",
    "rmagrms = result['rrms'] \n",
    "rr = rmagrms/rmagerr \n",
    "pmra = result['pmra'] \n",
    "pmdec = result['pmdec'] \n",
    "pmraerr = result['pmraerr'] \n",
    "pmdecerr = result['pmdecerr'] \n",
    "SG = result['class_star']\n",
    "nphot = result['nphot']\n",
    "deltamjd = result['deltamjd']"
   ]
  },
  {
   "cell_type": "code",
   "execution_count": 43,
   "metadata": {},
   "outputs": [
    {
     "data": {
      "text/plain": [
       "1169412"
      ]
     },
     "execution_count": 43,
     "metadata": {},
     "output_type": "execute_result"
    }
   ],
   "source": [
    "ra = result['ra']\n",
    "dec = result['dec'] \n",
    "raW = np.where(ra>180, ra-360, ra)\n",
    "snr = 1.0/rmagerr\n",
    "SNRcutBright = 20.0\n",
    "SNRcutFaint = 10.0\n",
    "raS = ra[(snr<SNRcutBright)&(snr>SNRcutFaint)]\n",
    "raWS = raW[(snr<SNRcutBright)&(snr>SNRcutFaint)]\n",
    "decS = dec[(snr<SNRcutBright)&(snr>SNRcutFaint)]\n",
    "np.size(raS)\n"
   ]
  },
  {
   "cell_type": "code",
   "execution_count": 44,
   "metadata": {},
   "outputs": [
    {
     "data": {
      "image/png": "[encoded data removed]",
      "text/plain": [
       "<matplotlib.figure.Figure at 0x7f08455ca390>"
      ]
     },
     "metadata": {},
     "output_type": "display_data"
    }
   ],
   "source": [
    "# plot data\n",
    "fig = plt.figure(figsize=(12, 12))\n",
    "ax = fig.add_axes([0.5, 0.7, 0.45, 0.25])\n",
    "ax.plot(raWS, decS, color='k', linestyle='none', marker=',')\n",
    "ax.set_xlim(60, -60.0)\n",
    "ax.set_ylim(-1.3, 1.3)\n",
    "ax.set_xlabel('R.A.')\n",
    "ax.set_ylabel('Dec')\n",
    "plt.show()"
   ]
  },
  {
   "cell_type": "markdown",
   "metadata": {},
   "source": [
    "It looks almost like it did not retrieve all dec asked for .... \n",
    "\n",
    "Perhaps better to split into two parts:  north and south ! "
   ]
  },
  {
   "cell_type": "code",
   "execution_count": null,
   "metadata": {},
   "outputs": [],
   "source": []
  }
 ],
 "metadata": {
  "kernelspec": {
   "display_name": "Python 3",
   "language": "python",
   "name": "python3"
  },
  "language_info": {
   "codemirror_mode": {
    "name": "ipython",
    "version": 3
   },
   "file_extension": ".py",
   "mimetype": "text/x-python",
   "name": "python",
   "nbconvert_exporter": "python",
   "pygments_lexer": "ipython3",
   "version": "3.6.2"
  }
 },
 "nbformat": 4,
 "nbformat_minor": 2
}
