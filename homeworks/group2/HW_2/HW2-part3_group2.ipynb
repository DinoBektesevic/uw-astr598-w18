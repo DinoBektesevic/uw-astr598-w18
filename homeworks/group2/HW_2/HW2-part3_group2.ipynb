{
 "cells": [
  {
   "cell_type": "markdown",
   "metadata": {},
   "source": [
    "# ASTR 598 Astrostatistics\n",
    "## HW2 Part 3\n",
    "## Hayden Smotherman, Chris Suberlack, Winnie Wang\n",
    "## To run this Notebook:\n",
    "\n",
    "The Galfast data must be extracted from the projects/ directory as a .txt file and this notebook must be run in the  homeworks/group2/HW_2/ directory."
   ]
  },
  {
   "cell_type": "code",
   "execution_count": null,
   "metadata": {
    "collapsed": true
   },
   "outputs": [],
   "source": [
    "# Imports \n",
    "%matplotlib inline\n",
    "from astropy.table import Table\n",
    "from astropy.coordinates import SkyCoord\n",
    "from astropy import units as u\n",
    "from astropy.table import hstack\n",
    "from astropy.table import vstack\n",
    "import matplotlib.pyplot as plt\n",
    "import matplotlib.pyplot as plt\n",
    "from matplotlib.patches import Circle\n",
    "import os\n",
    "import numpy as np\n",
    "from astropy.io import fits\n",
    "import pandas as pd\n",
    "from scipy.stats import binned_statistic_2d as bs2d \n",
    "from scipy.stats import binned_statistic as bs1d\n",
    "import seaborn as sns"
   ]
  },
  {
   "cell_type": "code",
   "execution_count": null,
   "metadata": {},
   "outputs": [],
   "source": [
    "GalFastData = np.loadtxt('Galfast-Stripe82.txt',usecols=(0,1,4,5,12,13,14))\n",
    "GalFastTable = Table(rows=GalFastData, names=('ra','dec','pmra','pmdec','gmag','rmag','imag'))"
   ]
  },
  {
   "cell_type": "code",
   "execution_count": null,
   "metadata": {},
   "outputs": [],
   "source": [
    "# Generate the magnitude mask used in the Hess diagram data analysis\n",
    "def Hess_r_v_gminusi(aptable,total_mask):\n",
    "    constant = 3 # This is a fudge parameter in determining number of bins\n",
    "    nObjects = np.sum(total_mask)\n",
    "    num_bins = int(constant * nObjects ** (1.0 / 4.0))\n",
    "\n",
    "    # Now calculate the binned proper motions\n",
    "    proper_motion = np.sqrt(aptable['pmra']**2+aptable['pmdec']**2)\n",
    "    total_mask = proper_motion<100*total_mask\n",
    "    Binned_PM = bs2d(aptable['ra'][total_mask],aptable['rmag'][total_mask],proper_motion[total_mask], bins = num_bins)\n",
    "\n",
    "\n",
    "    #cmin = min(np.log10(Binned_PM.statistic.T[Binned_PM.statistic.T >  0]))\n",
    "    #cmax = max(np.log10(Binned_PM.statistic.T[Binned_PM.statistic.T >  0]))\n",
    "\n",
    "    # Define custom colormaps: Set pixels with no sources to white\n",
    "    cmap = plt.cm.viridis\n",
    "    cmap.set_bad('w', 1.)\n",
    "\n",
    "    plt.figure(figsize=[8,8])\n",
    "    plt.imshow(Binned_PM.statistic.T, origin='lower',\n",
    "                   extent=[Binned_PM.x_edge[0], Binned_PM.x_edge[-1], Binned_PM.y_edge[0], Binned_PM.y_edge[-1]],\n",
    "                   aspect='auto', interpolation='nearest', cmap=cmap)\n",
    "\n",
    "    cb = plt.colorbar(orientation='horizontal')\n",
    "    cb.set_label(r'Proper Motion [mas/yr]',fontsize=16)\n",
    "    #plt.clim(0, 30) # This was set by hand to draw out as much detail as possible\n",
    "\n",
    "    plt.xlabel(r'RA [degree]',fontsize=16)\n",
    "    plt.ylabel(r'r',fontsize=16)\n",
    "    plt.gca().invert_yaxis()\n",
    "    plt.gca().invert_xaxis()\n",
    "\n",
    "# Make the color masks\n",
    "r_mask = (GalFastTable['rmag']>20.5) & (GalFastTable['rmag']<21)\n",
    "gminusi_mask = ((GalFastTable['gmag']-GalFastTable['imag']) > 0.3) & ((GalFastTable['gmag']-GalFastTable['imag']) < 0.4)\n",
    "mag_mask = r_mask * gminusi_mask\n",
    "\n",
    "# Make the RA Masks\n",
    "RA_mask_25to40 = (GalFastTable['ra'] > 25) & (GalFastTable['ra'] < 40)\n",
    "RA_mask_0to15 = (GalFastTable['ra'] > 0) & (GalFastTable['ra'] < 15)\n",
    "\n",
    "# Make the net masks\n",
    "mask_25to40 = mag_mask * RA_mask_25to40\n",
    "mask_0to15 = mag_mask * RA_mask_0to15\n",
    "\n",
    "# Make the Hess diagram for 25 < RA < 40\n",
    "Hess_r_v_gminusi(GalFastTable,mask_25to40)\n",
    "plt.title(r'Proper Motion for $25^\\circ < \\mathrm{RA} < 40^\\circ$',fontsize=20)\n",
    "plt.savefig('hw2_3_GalFast_pm_Hess_Diagram_RA25to40') # Save the figure\n",
    "\n",
    "# Make the Hess diagram for 0 < RA < 15\n",
    "Hess_r_v_gminusi(GalFastTable,mask_0to15)\n",
    "plt.title(r'Proper Motion for $0^\\circ < \\mathrm{RA} < 15^\\circ$',fontsize=20)\n",
    "plt.savefig('hw2_3_GalFast_pm_Hess_Diagram_RA0to15') # Save the figure\n"
   ]
  },
  {
   "cell_type": "markdown",
   "metadata": {},
   "source": [
    "The Galfast data is consistent with the NSC data in the stripe 82 region. The Galfast data shows a strong proper motion bimoodaility for stars in $25^\\circ < \\mathrm{RA} < 40^\\circ$ while it shows little to no bimodality for stars in $0^\\circ < \\mathrm{RA} < 15^\\circ$. Note that the color bar scale is different for each image. This mirrors what we saw in the NSC data in the same region, although the NSC dataset is too sparse to fully flesh-out the diagram."
   ]
  },
  {
   "cell_type": "code",
   "execution_count": null,
   "metadata": {},
   "outputs": [],
   "source": [
    "def ProperMotionHist(aptable,mask_noRAcuts,xmin=0,xmax=30,normed='True'):\n",
    "    # This function makes a histogram of RA Proper motions for two different RA cuts\n",
    "    \n",
    "    # Calculate the total Proper Motion\n",
    "    proper_motion = np.sqrt(aptable['pmra']**2+aptable['pmdec']**2)\n",
    "    mask_noRAcuts = proper_motion<100*mask_noRAcuts\n",
    "    \n",
    "    # Make two masks that have the RA cuts included\n",
    "    RA_mask_0to15 = (aptable['ra'] > 0) & (aptable['ra'] < 15)\n",
    "    RA_mask_25to40 = (aptable['ra'] > 25) & (aptable['ra'] < 40)\n",
    "    \n",
    "    # Mask things outside the range of the histogram\n",
    "    mask_pm = (xmin < proper_motion)*(proper_motion < xmax)\n",
    "    \n",
    "    # Combine masks \n",
    "    mask_0to15 = mask_noRAcuts * RA_mask_0to15 * mask_pm\n",
    "    mask_25to40 = mask_noRAcuts * RA_mask_25to40 * mask_pm\n",
    "    \n",
    "    #Plot the two distributions with different RA cuts\n",
    "    plt.figure(figsize=[12,8])\n",
    "    plt.hist(proper_motion[mask_0to15],alpha=0.5,bins=40,\n",
    "             normed=normed,linewidth=3,color='r')\n",
    "    plt.hist(proper_motion[mask_25to40],alpha=0.5,bins=40,\n",
    "             normed=normed,linewidth=3,color='b')\n",
    "\n",
    "    plt.legend([r'$0^\\circ < \\mathrm{RA} < 15^\\circ$',\n",
    "                r'$25^\\circ < \\mathrm{RA} < 40^\\circ$'],fontsize=16)\n",
    "    plt.title('Distribution of Proper Motions for different RA cuts',fontsize=20)\n",
    "    plt.xlabel('Proper Motion Number [mas/yr]',fontsize=16)\n",
    "    plt.ylabel('Normed number density',fontsize=16)\n",
    "    plt.xlim([xmin,xmax])\n",
    "    #plt.ylim([1,200])\n",
    "    plt.savefig('hw2_3_pm_hist_ra.png', bbox_inches='tight')\n",
    "    \n",
    "# Make some universal cuts\n",
    "r_mask = (GalFastTable['rmag']>20.5) & (GalFastTable['rmag']<21)\n",
    "gminusi_mask = ((GalFastTable['gmag']-GalFastTable['imag']) > 0.3) &\\\n",
    "               ((GalFastTable['gmag']-GalFastTable['imag']) < 0.4)\n",
    "mag_mask = r_mask * gminusi_mask\n",
    "\n",
    "ProperMotionHist(GalFastTable,mag_mask, 0,7)"
   ]
  },
  {
   "cell_type": "markdown",
   "metadata": {},
   "source": [
    "Here, we see a that according ot GALFAST simulation there is no difference in proper motions between the $25^\\circ < \\mathrm{RA} < 40^\\circ$ region and $0^\\circ < \\mathrm{RA} < 15^\\circ$ region. This is *NOT* mirrored in the NSC data, nor are the proper motion values consistent. NSC data has most stars with proper motions of $0 \\ \\mathrm{[mas/yr]} < \\mathrm{PM} < 30 \\ \\mathrm{ [mas/yr]}$."
   ]
  },
  {
   "cell_type": "code",
   "execution_count": null,
   "metadata": {
    "collapsed": true
   },
   "outputs": [],
   "source": []
  }
 ],
 "metadata": {
  "kernelspec": {
   "display_name": "Python 3",
   "language": "python",
   "name": "python3"
  },
  "language_info": {
   "codemirror_mode": {
    "name": "ipython",
    "version": 3
   },
   "file_extension": ".py",
   "mimetype": "text/x-python",
   "name": "python",
   "nbconvert_exporter": "python",
   "pygments_lexer": "ipython3",
   "version": "3.6.2"
  }
 },
 "nbformat": 4,
 "nbformat_minor": 2
}
