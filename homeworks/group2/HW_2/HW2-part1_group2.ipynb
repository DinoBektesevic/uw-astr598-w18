{
 "cells": [
  {
   "cell_type": "markdown",
   "metadata": {},
   "source": [
    "# ASTR 598 Astrostatistics\n",
    "## HW2 Part 1\n",
    "## Hayden Smotherman, Chris Suberlack, Winnie Wang\n",
    "## To run this Notebook:\n",
    "\n",
    "Run the file to calculate distances for part A and B.\n",
    "Still working on parts C and D"
   ]
  },
  {
   "cell_type": "code",
   "execution_count": 1,
   "metadata": {},
   "outputs": [],
   "source": [
    "# Imports \n",
    "%matplotlib inline\n",
    "from astropy.table import Table\n",
    "import astropy.coordinates as coord\n",
    "from astropy.coordinates import SkyCoord\n",
    "from astropy.coordinates import Galactocentric\n",
    "from astropy.coordinates import HeliocentricTrueEcliptic\n",
    "from astropy.coordinates import CartesianDifferential\n",
    "from astropy import units as u\n",
    "from astropy.table import hstack\n",
    "from astropy.table import vstack\n",
    "\n",
    "import matplotlib.pyplot as plt\n",
    "import matplotlib.pyplot as plt\n",
    "from matplotlib.patches import Circle\n",
    "\n",
    "import os\n",
    "import numpy as np\n",
    "import math\n",
    "from astropy.io import fits\n",
    "import pandas as pd\n",
    "from scipy.stats import binned_statistic_2d as bs2d \n",
    "from scipy.stats import binned_statistic as bs1d"
   ]
  },
  {
   "cell_type": "code",
   "execution_count": 2,
   "metadata": {
    "collapsed": true
   },
   "outputs": [],
   "source": [
    "# change given apparent and absolute magnitude into distance modulus: \n",
    "# m - M = 5*log(d) - 5\n",
    "m = 21\n",
    "M = 5\n",
    "ra_deg = 0\n",
    "dec_deg = 0"
   ]
  },
  {
   "cell_type": "markdown",
   "metadata": {},
   "source": [
    "### Part A:"
   ]
  },
  {
   "cell_type": "markdown",
   "metadata": {},
   "source": [
    "The heliocentric distance is simply obtained from changing the distance modulus into distance through the formula:\n",
    "$(m - M) = 5*log(d) - 5$:"
   ]
  },
  {
   "cell_type": "code",
   "execution_count": 3,
   "metadata": {},
   "outputs": [
    {
     "name": "stdout",
     "output_type": "stream",
     "text": [
      "Heliocentric distance: 15.84893192461114 kpc for m = 21, Mr = 5\n"
     ]
    }
   ],
   "source": [
    "d = 10 ** ((m - M + 5) / 5) #in parsecs\n",
    "d_helio = (d/1000) * u.kpc\n",
    "\n",
    "#print(d)\n",
    "print(\"Heliocentric distance: \"+ str(d_helio) + \" for m = 21, Mr = 5\")"
   ]
  },
  {
   "cell_type": "markdown",
   "metadata": {},
   "source": [
    "### Part B:"
   ]
  },
  {
   "cell_type": "markdown",
   "metadata": {},
   "source": [
    "To obtain the galactocentric distance to the halo stars that we are observing, we need to transform the heliocentric distance obtained from part A into galactocentric coordinate system, which we can use to change to distance."
   ]
  },
  {
   "cell_type": "code",
   "execution_count": 4,
   "metadata": {},
   "outputs": [
    {
     "name": "stdout",
     "output_type": "stream",
     "text": [
      "<Galactocentric Coordinate (galcen_coord=<ICRS Coordinate: (ra, dec) in deg\n",
      "    ( 266.4051, -28.936175)>, galcen_distance=8.1 kpc, galcen_v_sun=( 11.1,  232.24,  7.25) km / s, z_sun=27.0 pc, roll=0.0 deg): (x, y, z) in kpc\n",
      "    [(-9.01548234,  7.83112784, -13.72159591)]>\n",
      "[-9.01548234] kpc\n",
      "Galactocentric distance: [ 18.19031829] kpc for m=21, Mr=5\n"
     ]
    }
   ],
   "source": [
    "# Galactocentric coordinates:\n",
    "# X = R − D cos(l) cos(b)\n",
    "# Y = −D sin(l) cos(b)\n",
    "# Z = D sin(b)\n",
    "# where D = distance to the sun (heliocentric distance)\n",
    "# distance = sqrt(X^2 + Y^2 + Z^2)\n",
    "\n",
    "c = coord.ICRS(ra=[ra_deg] * u.degree, dec=[dec_deg] * u.degree, distance=[d_helio])\n",
    "\n",
    "# need to change the speed of Sun based on Schronich et al. (2010) ---> astropy already corrected for that\n",
    "# galcen_v_sun_bond=CartesianDifferential(11.1 * (u.km / u.s), 12.24 * (u.km / u.s), 7.25 * (u.km / u.s))\n",
    "c2 = c.transform_to(coord.Galactocentric(galcen_distance=8.1*u.kpc)) #gives x,y,z\n",
    "\n",
    "print(c2)\n",
    "print(c2.x)\n",
    "\n",
    "d_galacto = np.sqrt((c2.x)**2 + (c2.y)**2 + (c2.z)**2)\n",
    "print(\"Galactocentric distance: \"+ str(d_galacto) + \" for m=21, Mr=5\")"
   ]
  },
  {
   "cell_type": "markdown",
   "metadata": {},
   "source": [
    "### Part C:"
   ]
  },
  {
   "cell_type": "markdown",
   "metadata": {},
   "source": [
    "To generate the radial velocity, the distributions were based on Bond et al. (2010) in section 5.1:"
   ]
  },
  {
   "cell_type": "code",
   "execution_count": 5,
   "metadata": {},
   "outputs": [
    {
     "name": "stdout",
     "output_type": "stream",
     "text": [
      "( 2.49624616,  0.7615477, -0.72100193) km / s\n",
      "2.7075899882173173 km / s\n",
      "0.721001925488445 km / s\n"
     ]
    }
   ],
   "source": [
    "# part C; make distribution\n",
    "# not done yet\n",
    "from astropy.coordinates import CylindricalRepresentation\n",
    "\n",
    "def mean_velocity (seed, mean, sig, size):\n",
    "    np.random.seed(seed) #resets seed\n",
    "    mu = mean\n",
    "    sigma = sig\n",
    "    dist = np.random.normal(mu, sigma, size)\n",
    "    dist_mean = np.mean(dist)\n",
    "    \n",
    "    for i in range(len(dist)):\n",
    "        sum_squares = (dist[i] ** 2)\n",
    "    \n",
    "    dist_rms = (sum_squares) / len(dist)\n",
    "    \n",
    "    return dist_mean, dist_rms #returns mean and RMS of value\n",
    "\n",
    "radial_mean, radial_rms = (mean_velocity(42, 0, 135, 1000)) * (u.km / u.s) #mean and RMS radial velocity\n",
    "phi_mean, phi_rms = (mean_velocity(43, 0 ,85, 1000)) * u.rad\n",
    "vertical_mean, vertical_rms = (mean_velocity(44, 0, 85, 1000)) * (u.km / u.s)\n",
    "\n",
    "cartesian_velocity = CylindricalRepresentation(radial_mean, \n",
    "                                               phi_mean, vertical_mean).to_cartesian()\n",
    "cartesian_vel = cartesian_velocity.norm()\n",
    "print(cartesian_velocity)\n",
    "print(cartesian_vel) # magnitude of velocity\n",
    "\n",
    "# tangential velocity\n",
    "tan_vel = np.sqrt((cartesian_vel ** 2) - (radial_mean ** 2))\n",
    "print(tan_vel)\n",
    "\n",
    "# v_tan = 4.74 * mu * d, where d-> distance\n",
    "proper_motion = (tan_vel / (4.74 * d_galacto)) #also comment that this is slide 6 from lecture 8, Astr 511 Zeljko\n",
    "\n",
    "# median -> mean\n",
    "# rms -> mean * sqrt(2)\n",
    "\n",
    "# basically:\n",
    "# 1. obtain v_x, v_y, v_z; change into v_l and v_b\n",
    "# 2. change ra=0, dec=0 into (l,b)\n",
    "# coord = SkyCoord(ra=0*u.degree, dec=0*u.degree, frame='icrs')\n",
    "# coord.galactic ---> gives me (l,b)\n",
    "# then change "
   ]
  },
  {
   "cell_type": "markdown",
   "metadata": {},
   "source": [
    "### Part D:"
   ]
  },
  {
   "cell_type": "markdown",
   "metadata": {},
   "source": [
    "Median radial velocity:"
   ]
  },
  {
   "cell_type": "code",
   "execution_count": 6,
   "metadata": {},
   "outputs": [
    {
     "data": {
      "text/latex": [
       "$2.6098275 \\; \\mathrm{\\frac{km}{s}}$"
      ],
      "text/plain": [
       "<Quantity 2.6098275360139427 km / s>"
      ]
     },
     "execution_count": 6,
     "metadata": {},
     "output_type": "execute_result"
    }
   ],
   "source": [
    "# median radial velocity is radial_mean\n",
    "radial_mean"
   ]
  },
  {
   "cell_type": "markdown",
   "metadata": {},
   "source": [
    "RMS radial velocity:"
   ]
  },
  {
   "cell_type": "code",
   "execution_count": 7,
   "metadata": {},
   "outputs": [
    {
     "data": {
      "text/latex": [
       "$5.9750852 \\; \\mathrm{\\frac{km}{s}}$"
      ],
      "text/plain": [
       "<Quantity 5.975085231438731 km / s>"
      ]
     },
     "execution_count": 7,
     "metadata": {},
     "output_type": "execute_result"
    }
   ],
   "source": [
    "# RMS radial velocity is radial_rms\n",
    "radial_rms"
   ]
  },
  {
   "cell_type": "code",
   "execution_count": 8,
   "metadata": {},
   "outputs": [
    {
     "name": "stdout",
     "output_type": "stream",
     "text": [
      "<Galactocentric Coordinate (galcen_coord=<ICRS Coordinate: (ra, dec) in deg\n",
      "    ( 266.4051, -28.936175)>, galcen_distance=8.1 kpc, galcen_v_sun=( 11.1,  232.24,  7.25) km / s, z_sun=27.0 pc, roll=0.0 deg): (x, y, z) in kpc\n",
      "    [(-923.62729018,  7831.12784131, -13748.56891313)]>\n",
      "\n",
      "<HeliocentricTrueEcliptic Coordinate (equinox=J2000.000): (lon, lat, distance) in (deg, deg, kpc)\n",
      "    [( 359.99613191,  -5.73998824e-06,  15848.93192461)]>\n"
     ]
    }
   ],
   "source": [
    "#-----other-----#\n",
    "#helio_distance = (1 * u.AU).to(u.pc)\n",
    "#galac_distance = (8.1* 1000) * u.pc\n",
    "\n",
    "c = coord.ICRS(ra=[0] * u.degree, \n",
    "                dec=[0] * u.degree,\n",
    "                distance=[d] * u.kpc)\n",
    "\n",
    "c2 = c.transform_to(coord.Galactocentric(galcen_distance=8.1*u.kpc)) #gives x,y,z\n",
    "c3 = c.transform_to(coord.HeliocentricTrueEcliptic) \n",
    "\n",
    "#print(d_pc)\n",
    "#print(helio_distance)\n",
    "#print(galac_distance)\n",
    "print(c2) #galacto\n",
    "print()\n",
    "print(c3)\n",
    "#-----other-----#"
   ]
  },
  {
   "cell_type": "code",
   "execution_count": null,
   "metadata": {
    "collapsed": true
   },
   "outputs": [],
   "source": []
  }
 ],
 "metadata": {
  "kernelspec": {
   "display_name": "Python 3",
   "language": "python",
   "name": "python3"
  },
  "language_info": {
   "codemirror_mode": {
    "name": "ipython",
    "version": 3
   },
   "file_extension": ".py",
   "mimetype": "text/x-python",
   "name": "python",
   "nbconvert_exporter": "python",
   "pygments_lexer": "ipython3",
   "version": "3.6.1"
  }
 },
 "nbformat": 4,
 "nbformat_minor": 2
}
