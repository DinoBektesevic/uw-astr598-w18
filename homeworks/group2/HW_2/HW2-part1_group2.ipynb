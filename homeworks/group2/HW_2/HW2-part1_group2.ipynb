{
 "cells": [
  {
   "cell_type": "markdown",
   "metadata": {},
   "source": [
    "# ASTR 598 Astrostatistics\n",
    "## HW2 Part 1\n",
    "## Hayden Smotherman, Chris Suberlack, Winnie Wang\n",
    "## To run this Notebook:\n",
    "\n",
    "Run the file to calculate distances for part A and B. Part C is computed by both hand (manually) and with Astropy packages. However, due to the special handling of Astropy package, the computed number is slightly different with the  numerical computed value. Part D is obtained with respect to velocity dispersion."
   ]
  },
  {
   "cell_type": "code",
   "execution_count": 1,
   "metadata": {
    "collapsed": true
   },
   "outputs": [],
   "source": [
    "# Imports \n",
    "%matplotlib inline\n",
    "from astropy.table import Table\n",
    "import astropy.coordinates as coord\n",
    "from astropy.coordinates import SkyCoord\n",
    "from astropy.coordinates import Galactocentric\n",
    "from astropy.coordinates import HeliocentricTrueEcliptic\n",
    "from astropy.coordinates import CartesianDifferential\n",
    "from astropy.coordinates import *\n",
    "from astropy import units as u\n",
    "from astropy.table import hstack\n",
    "from astropy.table import vstack\n",
    "\n",
    "import matplotlib.pyplot as plt\n",
    "import matplotlib.pyplot as plt\n",
    "from matplotlib.patches import Circle\n",
    "\n",
    "import os\n",
    "import numpy as np\n",
    "import math\n",
    "from astropy.io import fits\n",
    "import pandas as pd\n",
    "from scipy.stats import binned_statistic_2d as bs2d \n",
    "from scipy.stats import binned_statistic as bs1d"
   ]
  },
  {
   "cell_type": "code",
   "execution_count": 2,
   "metadata": {
    "collapsed": true
   },
   "outputs": [],
   "source": [
    "# change given apparent and absolute magnitude into distance modulus: \n",
    "# m - M = 5*log(d) - 5\n",
    "m = 21\n",
    "M = 5\n",
    "ra_deg = 0\n",
    "dec_deg = 0"
   ]
  },
  {
   "cell_type": "markdown",
   "metadata": {},
   "source": [
    "### Part A:"
   ]
  },
  {
   "cell_type": "markdown",
   "metadata": {},
   "source": [
    "The heliocentric distance is simply obtained from changing the distance modulus into distance through the formula:\n",
    "$(m - M) = 5*log(d) - 5$:"
   ]
  },
  {
   "cell_type": "code",
   "execution_count": 3,
   "metadata": {},
   "outputs": [
    {
     "name": "stdout",
     "output_type": "stream",
     "text": [
      "Heliocentric distance: 15.84893192461114 kpc for m = 21, Mr = 5\n"
     ]
    }
   ],
   "source": [
    "d = 10 ** ((m - M + 5) / 5) #in parsecs\n",
    "d_helio = (d/1000) * u.kpc\n",
    "\n",
    "#print(d)\n",
    "print(\"Heliocentric distance: \"+ str(d_helio) + \" for m = 21, Mr = 5\")"
   ]
  },
  {
   "cell_type": "markdown",
   "metadata": {},
   "source": [
    "### Part B:"
   ]
  },
  {
   "cell_type": "markdown",
   "metadata": {},
   "source": [
    "To obtain the galactocentric distance to the halo stars that we are observing, we need to transform the heliocentric distance obtained from part A into galactocentric coordinate system, which we can use to change to distance."
   ]
  },
  {
   "cell_type": "code",
   "execution_count": 4,
   "metadata": {
    "collapsed": true
   },
   "outputs": [],
   "source": [
    "# Galactocentric coordinates:\n",
    "# X = R − D cos(l) cos(b)\n",
    "# Y = −D sin(l) cos(b)\n",
    "# Z = D sin(b)\n",
    "# where D = distance to the sun (heliocentric distance)\n",
    "# distance = sqrt(X^2 + Y^2 + Z^2)\n",
    "\n",
    "c = coord.ICRS(ra=[ra_deg] * u.degree, dec=[dec_deg] * u.degree, distance=[d_helio])\n",
    "c2 = c.transform_to(coord.Galactocentric(galcen_distance=8.1*u.kpc)) #gives x,y,z\n",
    "\n",
    "d_galacto = np.sqrt((c2.x)**2 + (c2.y)**2 + (c2.z)**2)"
   ]
  },
  {
   "cell_type": "code",
   "execution_count": 5,
   "metadata": {},
   "outputs": [
    {
     "data": {
      "text/latex": [
       "$[18.190318] \\; \\mathrm{kpc}$"
      ],
      "text/plain": [
       "<Quantity [ 18.19031829] kpc>"
      ]
     },
     "execution_count": 5,
     "metadata": {},
     "output_type": "execute_result"
    }
   ],
   "source": [
    "d_galacto"
   ]
  },
  {
   "cell_type": "markdown",
   "metadata": {},
   "source": [
    "### Part C:"
   ]
  },
  {
   "cell_type": "markdown",
   "metadata": {},
   "source": [
    "To generate the radial velocity, the distributions were based on Bond et al. (2010) in section 5.1:"
   ]
  },
  {
   "cell_type": "markdown",
   "metadata": {},
   "source": [
    "Setting up the velocity distributions:"
   ]
  },
  {
   "cell_type": "code",
   "execution_count": 6,
   "metadata": {
    "collapsed": true
   },
   "outputs": [],
   "source": [
    "from astropy.coordinates import CylindricalRepresentation\n",
    "\n",
    "def mean_velocity (seed, mean, sig, size):\n",
    "    np.random.seed(seed) #resets seed\n",
    "    mu = mean\n",
    "    sigma = sig\n",
    "    dist = np.random.normal(mu, sigma, size)\n",
    "    dist_mean = np.mean(dist)\n",
    "    \n",
    "    for i in range(len(dist)):\n",
    "        sum_squares = (dist[i] ** 2)\n",
    "    \n",
    "    dist_rms = np.sqrt((sum_squares) / len(dist))\n",
    "    \n",
    "    return dist_mean, dist_rms #returns mean and RMS of value\n",
    "\n",
    "# mean and RMS radial velocity\n",
    "radial_mean, radial_rms = (mean_velocity(42, 0, 135, 1000)) * (u.km / u.s) # mean is 0, std. dev is 135\n",
    "\n",
    "# mean and RMS azimuthal velocity \n",
    "phi_mean, phi_rms = (mean_velocity(43, 0 ,85, 1000)) * (u.km / u.s) # mean is 0, std. dev is 85\n",
    "\n",
    "# mean and RMS vertical velocity\n",
    "vertical_mean, vertical_rms = (mean_velocity(44, 0, 85, 1000)) * (u.km / u.s) # mean is 0, std. dev is 85"
   ]
  },
  {
   "cell_type": "markdown",
   "metadata": {},
   "source": [
    "Changing coordinates manually:"
   ]
  },
  {
   "cell_type": "code",
   "execution_count": 7,
   "metadata": {},
   "outputs": [
    {
     "data": {
      "text/plain": [
       "<LSR Coordinate (v_bary=( 11.1,  12.24,  7.25) km / s): (ra, dec, distance) in (deg, deg, pc)\n",
       "    ( 139.02140544, -48.96730781,  18190.31828712)\n",
       " (pm_ra_cosdec, pm_dec, radial_velocity) in (mas / yr, mas / yr, km / s)\n",
       "    ( 0.14203074, -0.06287837, -13.14652875)>"
      ]
     },
     "execution_count": 7,
     "metadata": {},
     "output_type": "execute_result"
    }
   ],
   "source": [
    "coord = SkyCoord(ra=0*u.degree, dec=0*u.degree, frame='icrs') # coordinate of thing we are observing\n",
    "galac_center = SkyCoord(\"17h45m37.2s -28d56m10.23s\") # galactic center\n",
    "\n",
    "# the following changes ra and dec to degrees\n",
    "# reference: https://physics.stackexchange.com/questions/224950/how-can-i-convert-right-ascension-and-declination-to-distances\n",
    "def change_to_theta(alpha, alpha_g, delta, delta_g):\n",
    "    cos = (np.sin(delta))*(np.sin(delta_g)) + (np.cos(delta))*(np.cos(delta_g))*(np.sin(alpha - alpha_g))\n",
    "    return np.arccos(cos)\n",
    "\n",
    "theta = change_to_theta(coord.ra, galac_center.ra, \n",
    "                coord.dec, galac_center.dec) # angle between center of the galaxy and the thing I'm observing\n",
    "\n",
    "# transform v_r, v_phi, v_z to v_x, v_y, v_z:\n",
    "v_xx = (radial_mean) * np.cos(theta) + (phi_mean) * np.sin(theta)\n",
    "v_yy = (radial_mean) * (-np.sin(theta)) + (phi_mean) * np.cos(theta)\n",
    "v_zz = vertical_mean\n",
    "\n",
    "# change (x,y,z) to (l,b)\n",
    "coord2_2 = ICRS(x=-9.01548234*1000*u.pc, \n",
    "              y=7.83112784*1000*u.pc, \n",
    "              z=-13.72159591*1000*u.pc,\n",
    "              v_x=v_xx, \n",
    "              v_y=v_yy, \n",
    "              v_z=v_zz,\n",
    "              representation=CartesianRepresentation,\n",
    "              differential_cls=CartesianDifferential) \n",
    "\n",
    "coord2_2.transform_to(LSR)"
   ]
  },
  {
   "cell_type": "code",
   "execution_count": 8,
   "metadata": {},
   "outputs": [
    {
     "data": {
      "text/latex": [
       "$0.14203074 \\; \\mathrm{\\frac{mas}{yr}}$"
      ],
      "text/plain": [
       "<Quantity 0.14203073686412448 mas / yr>"
      ]
     },
     "execution_count": 8,
     "metadata": {},
     "output_type": "execute_result"
    }
   ],
   "source": [
    "coord2_2.transform_to(LSR).pm_ra_cosdec"
   ]
  },
  {
   "cell_type": "code",
   "execution_count": 9,
   "metadata": {},
   "outputs": [
    {
     "data": {
      "text/latex": [
       "$-0.062878369 \\; \\mathrm{\\frac{mas}{yr}}$"
      ],
      "text/plain": [
       "<Quantity -0.06287836876577521 mas / yr>"
      ]
     },
     "execution_count": 9,
     "metadata": {},
     "output_type": "execute_result"
    }
   ],
   "source": [
    "coord2_2.transform_to(LSR).pm_dec"
   ]
  },
  {
   "cell_type": "markdown",
   "metadata": {},
   "source": [
    "Using Astropy packages (however the Astropy package is used incorrectly):"
   ]
  },
  {
   "cell_type": "code",
   "execution_count": 10,
   "metadata": {},
   "outputs": [
    {
     "data": {
      "text/plain": [
       "<LSR Coordinate (v_bary=( 11.1,  12.24,  7.25) km / s): (ra, dec, distance) in (deg, deg, pc)\n",
       "    ( 139.02140544, -48.96730781,  18190.31828712)\n",
       " (pm_ra_cosdec, pm_dec, radial_velocity) in (mas / yr, mas / yr, km / s)\n",
       "    ( 0.13175352, -0.05830098, -12.80301559)>"
      ]
     },
     "execution_count": 10,
     "metadata": {},
     "output_type": "execute_result"
    }
   ],
   "source": [
    "# mean and RMS azimuthal velocity; units must be in radians for Astropy package to work\n",
    "\n",
    "# mean and RMS azimuthal velocity \n",
    "phi_mean, phi_rms = (mean_velocity(43, 0 ,85, 1000)) * (u.km / u.s) # mean is 0, std. dev is 85\n",
    "\n",
    "d_galacto_km = d_galacto.to(u.km)\n",
    "one_km = 1 * u.km\n",
    "\n",
    "angle = np.linalg.norm(one_km / d_galacto_km) * (u.rad / u.km) #radians / km\n",
    "\n",
    "phi_mean_rad = (phi_mean * angle) * u.s \n",
    "\n",
    "cartesian_velocity = CylindricalRepresentation(radial_mean, \n",
    "                                               phi_mean_rad, vertical_mean).to_cartesian()\n",
    "cartesian_vel = cartesian_velocity.norm()\n",
    "\n",
    "coord2 = ICRS(x=-9.01548234*1000*u.pc, \n",
    "              y=7.83112784*1000*u.pc, \n",
    "              z=-13.72159591*1000*u.pc,\n",
    "              v_x=cartesian_velocity.x, \n",
    "              v_y=cartesian_velocity.y, \n",
    "              v_z=cartesian_velocity.z,\n",
    "              representation=CartesianRepresentation,\n",
    "              differential_cls=CartesianDifferential)  \n",
    "\n",
    "#coord2.transform_to(Galactic)\n",
    "\n",
    "# change (l,b) to RA, Dec\n",
    "coord2.transform_to(LSR)"
   ]
  },
  {
   "cell_type": "code",
   "execution_count": 11,
   "metadata": {},
   "outputs": [
    {
     "data": {
      "text/latex": [
       "$0.13175352 \\; \\mathrm{\\frac{mas}{yr}}$"
      ],
      "text/plain": [
       "<Quantity 0.13175351818480577 mas / yr>"
      ]
     },
     "execution_count": 11,
     "metadata": {},
     "output_type": "execute_result"
    }
   ],
   "source": [
    "coord2.transform_to(LSR).pm_ra_cosdec"
   ]
  },
  {
   "cell_type": "code",
   "execution_count": 12,
   "metadata": {},
   "outputs": [
    {
     "data": {
      "text/latex": [
       "$-0.058300976 \\; \\mathrm{\\frac{mas}{yr}}$"
      ],
      "text/plain": [
       "<Quantity -0.058300976375417216 mas / yr>"
      ]
     },
     "execution_count": 12,
     "metadata": {},
     "output_type": "execute_result"
    }
   ],
   "source": [
    "coord2.transform_to(LSR).pm_dec"
   ]
  },
  {
   "cell_type": "markdown",
   "metadata": {},
   "source": [
    "### Part D:"
   ]
  },
  {
   "cell_type": "markdown",
   "metadata": {},
   "source": [
    "Median radial velocity:"
   ]
  },
  {
   "cell_type": "code",
   "execution_count": 13,
   "metadata": {},
   "outputs": [
    {
     "data": {
      "text/latex": [
       "$2.6098275 \\; \\mathrm{\\frac{km}{s}}$"
      ],
      "text/plain": [
       "<Quantity 2.6098275360139427 km / s>"
      ]
     },
     "execution_count": 13,
     "metadata": {},
     "output_type": "execute_result"
    }
   ],
   "source": [
    "# median radial velocity is radial_mean\n",
    "radial_mean"
   ]
  },
  {
   "cell_type": "markdown",
   "metadata": {},
   "source": [
    "RMS radial velocity:"
   ]
  },
  {
   "cell_type": "code",
   "execution_count": 14,
   "metadata": {},
   "outputs": [
    {
     "data": {
      "text/latex": [
       "$2.4443987 \\; \\mathrm{\\frac{km}{s}}$"
      ],
      "text/plain": [
       "<Quantity 2.4443987464075354 km / s>"
      ]
     },
     "execution_count": 14,
     "metadata": {},
     "output_type": "execute_result"
    }
   ],
   "source": [
    "# RMS radial velocity is radial_rms\n",
    "radial_rms"
   ]
  },
  {
   "cell_type": "code",
   "execution_count": null,
   "metadata": {
    "collapsed": true
   },
   "outputs": [],
   "source": []
  }
 ],
 "metadata": {
  "kernelspec": {
   "display_name": "Python 3",
   "language": "python",
   "name": "python3"
  },
  "language_info": {
   "codemirror_mode": {
    "name": "ipython",
    "version": 3
   },
   "file_extension": ".py",
   "mimetype": "text/x-python",
   "name": "python",
   "nbconvert_exporter": "python",
   "pygments_lexer": "ipython3",
   "version": "3.6.1"
  }
 },
 "nbformat": 4,
 "nbformat_minor": 2
}
