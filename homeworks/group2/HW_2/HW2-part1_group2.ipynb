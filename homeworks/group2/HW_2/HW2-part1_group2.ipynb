{
 "cells": [
  {
   "cell_type": "markdown",
   "metadata": {},
   "source": [
    "# ASTR 598 Astrostatistics\n",
    "## HW2 Part 2\n",
    "## Hayden Smotherman, Chris Suberlack, Winnie Wang\n",
    "## To run this Notebook:\n",
    "\n",
    "Run the file to calculate distances for part A and B (all in kpcs).\n",
    "Still working on parts C and D"
   ]
  },
  {
   "cell_type": "code",
   "execution_count": 78,
   "metadata": {
    "collapsed": true
   },
   "outputs": [],
   "source": [
    "# Imports \n",
    "%matplotlib inline\n",
    "from astropy.table import Table\n",
    "import astropy.coordinates as coord\n",
    "from astropy.coordinates import SkyCoord\n",
    "from astropy.coordinates import Galactocentric\n",
    "from astropy.coordinates import HeliocentricTrueEcliptic\n",
    "from astropy.coordinates import CartesianDifferential\n",
    "from astropy import units as u\n",
    "from astropy.table import hstack\n",
    "from astropy.table import vstack\n",
    "\n",
    "import matplotlib.pyplot as plt\n",
    "import matplotlib.pyplot as plt\n",
    "from matplotlib.patches import Circle\n",
    "\n",
    "import os\n",
    "import numpy as np\n",
    "import math\n",
    "from astropy.io import fits\n",
    "import pandas as pd\n",
    "from scipy.stats import binned_statistic_2d as bs2d \n",
    "from scipy.stats import binned_statistic as bs1d"
   ]
  },
  {
   "cell_type": "code",
   "execution_count": 98,
   "metadata": {},
   "outputs": [],
   "source": [
    "# change given apparent and absolute magnitude into distance modulus: \n",
    "# m - M = 5*log(d) - 5\n",
    "m = 21\n",
    "M = 5\n",
    "d = 10 ** ((m - M + 5) / 5) #in parsecs\n",
    "d_helio = (d/1000) * u.kpc\n",
    "ra_deg = 0\n",
    "dec_deg = 0"
   ]
  },
  {
   "cell_type": "code",
   "execution_count": 99,
   "metadata": {},
   "outputs": [
    {
     "name": "stdout",
     "output_type": "stream",
     "text": [
      "Heliocentric distance: 15.84893192461114 kpc for m=21, Mr = 5\n"
     ]
    }
   ],
   "source": [
    "# part A:\n",
    "print(\"Heliocentric distance: \"+ str(d_helio) + \" for m=21, Mr = 5\")"
   ]
  },
  {
   "cell_type": "code",
   "execution_count": 103,
   "metadata": {},
   "outputs": [
    {
     "name": "stdout",
     "output_type": "stream",
     "text": [
      "( 11.1,  12.24,  7.25) km / s\n",
      "<Galactocentric Coordinate (galcen_coord=<ICRS Coordinate: (ra, dec) in deg\n",
      "    ( 266.4051, -28.936175)>, galcen_distance=8.1 kpc, galcen_v_sun=( 11.1,  12.24,  7.25) km / s, z_sun=27.0 pc, roll=0.0 deg): (x, y, z) in kpc\n",
      "    [(-9.01548234,  7.83112784, -13.72159591)]>\n",
      "Galactocentric distance: 8100.07887674071 pc for m=21, Mr=5\n"
     ]
    }
   ],
   "source": [
    "# part B:\n",
    "\n",
    "# Galactocentric coordinates:\n",
    "# X = R − D cos(l) cos(b)\n",
    "# Y = −D sin(l) cos(b)\n",
    "# Z = D sin(b)\n",
    "# where D = distance to the sun (heliocentric distance)\n",
    "# distance = sqrt(X^2 + Y^2 + Z^2)\n",
    "\n",
    "c = coord.ICRS(ra=[ra_deg] * u.degree, dec=[dec_deg] * u.degree, distance=[d_helio] * u.kpc)\n",
    "\n",
    "# need to change the speed of Sun based on Schronich et al. (2010):\n",
    "galcen_v_sun_bond=CartesianDifferential(11.1 * (u.km / u.s), 12.24 * (u.km / u.s), 7.25 * (u.km / u.s))\n",
    "\n",
    "c2 = c.transform_to(coord.Galactocentric(galcen_v_sun=galcen_v_sun_bond, galcen_distance=8.1*u.kpc)) #gives x,y,z\n",
    "c3 = c.transform_to(coord.HeliocentricTrueEcliptic) \n",
    "\n",
    "print(galcen_v_sun_bond)\n",
    "print(c2) #galacto\n",
    "\n",
    "d_galacto = (np.sqrt((-8.1000379)**2 + (0.00070909)**2 + (0.0257551)**2)) * 1000 * u.pc\n",
    "print(\"Galactocentric distance: \"+ str(d_galacto) + \" for m=21, Mr=5\")"
   ]
  },
  {
   "cell_type": "code",
   "execution_count": null,
   "metadata": {
    "collapsed": true
   },
   "outputs": [],
   "source": [
    "# part C:\n"
   ]
  },
  {
   "cell_type": "code",
   "execution_count": null,
   "metadata": {
    "collapsed": true
   },
   "outputs": [],
   "source": [
    "# part D:\n"
   ]
  },
  {
   "cell_type": "code",
   "execution_count": 53,
   "metadata": {},
   "outputs": [
    {
     "name": "stdout",
     "output_type": "stream",
     "text": [
      "<Galactocentric Coordinate (galcen_coord=<ICRS Coordinate: (ra, dec) in deg\n",
      "    ( 266.4051, -28.936175)>, galcen_distance=8.1 kpc, galcen_v_sun=( 11.1,  232.24,  7.25) km / s, z_sun=27.0 pc, roll=0.0 deg): (x, y, z) in kpc\n",
      "    [(-8.18285391,  0.70909071, -1.2179039)]>\n",
      "\n",
      "<HeliocentricTrueEcliptic Coordinate (equinox=J2000.000): (lon, lat, distance) in (deg, deg, kpc)\n",
      "    [( 359.99613191,  -5.73994834e-06,  1.43508453)]>\n"
     ]
    }
   ],
   "source": [
    "#-----other-----#\n",
    "#helio_distance = (1 * u.AU).to(u.pc)\n",
    "#galac_distance = (8.1* 1000) * u.pc\n",
    "\n",
    "c = coord.ICRS(ra=[0] * u.degree, \n",
    "                dec=[0] * u.degree,\n",
    "                distance=[d] * u.kpc)\n",
    "\n",
    "c2 = c.transform_to(coord.Galactocentric(galcen_distance=8.1*u.kpc)) #gives x,y,z\n",
    "c3 = c.transform_to(coord.HeliocentricTrueEcliptic) \n",
    "\n",
    "#print(d_pc)\n",
    "#print(helio_distance)\n",
    "#print(galac_distance)\n",
    "print(c2) #galacto\n",
    "print()\n",
    "print(c3)\n",
    "#-----other-----#"
   ]
  },
  {
   "cell_type": "code",
   "execution_count": null,
   "metadata": {
    "collapsed": true
   },
   "outputs": [],
   "source": []
  }
 ],
 "metadata": {
  "kernelspec": {
   "display_name": "Python 3",
   "language": "python",
   "name": "python3"
  },
  "language_info": {
   "codemirror_mode": {
    "name": "ipython",
    "version": 3
   },
   "file_extension": ".py",
   "mimetype": "text/x-python",
   "name": "python",
   "nbconvert_exporter": "python",
   "pygments_lexer": "ipython3",
   "version": "3.6.3"
  }
 },
 "nbformat": 4,
 "nbformat_minor": 2
}
