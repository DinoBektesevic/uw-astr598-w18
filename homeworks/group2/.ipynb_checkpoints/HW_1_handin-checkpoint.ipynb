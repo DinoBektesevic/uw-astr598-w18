{
 "cells": [
  {
   "cell_type": "markdown",
   "metadata": {},
   "source": [
    "# ASTR 598 HW1\n",
    "# Hayden Smotherman, Chris Suberlak, Bryce Bolin, Winnie Wang"
   ]
  },
  {
   "cell_type": "code",
   "execution_count": 1,
   "metadata": {
    "collapsed": true
   },
   "outputs": [],
   "source": [
    "%matplotlib inline\n",
    "import astropy.visualization as vis\n",
    "import matplotlib.pyplot as plt\n",
    "from matplotlib.patches import Circle\n",
    "import os\n",
    "import numpy as np\n",
    "import urllib.request\n",
    "from astropy.io import fits\n",
    "from astropy.stats import sigma_clipped_stats\n",
    "from astropy.visualization import SqrtStretch\n",
    "from astropy.visualization import (MinMaxInterval, ManualInterval, SqrtStretch,\n",
    "                                   ImageNormalize)\n",
    "\n",
    "from astropy.coordinates import SkyCoord\n",
    "from astropy import units as u\n",
    "from astropy.table import Table\n",
    "from astropy.table import hstack\n",
    "from astropy.table import vstack\n",
    "from astropy import wcs\n",
    "from itertools import product\n",
    "from scipy.stats import binned_statistic as bs\n",
    "from scipy.stats import binned_statistic_2d as bs2d \n",
    "from astroML.plotting import setup_text_plots\n",
    "from astroML import stats as astroMLstats "
   ]
  },
  {
   "cell_type": "markdown",
   "metadata": {},
   "source": [
    "Workflow : \n",
    "    \n",
    "  1) from  http://das.sdss.org/va/stripe_82_variability/SDSS_82_public/\n",
    "download eight HLC*fits.gz files\n",
    "  \n",
    "  2) For each HLC file, and separately for stars and galaxies (use MEAN_OBJECT_TYPE > 5 to classify stars), make a 3-panel plot with one panel showing the Hess (counts) r vs. g-i diagram and another two using isoplets for counts and color scheme to show the median RA and Dec proper motions.\n",
    "\n",
    "  3) Make a few other interesting and judiciously chosen plots!\n"
   ]
  },
  {
   "cell_type": "code",
   "execution_count": 2,
   "metadata": {
    "collapsed": true
   },
   "outputs": [],
   "source": [
    "# https://github.com/astroML/astroML/blob/master/astroML/datasets/sdss_sspp.py\n",
    "# fetch_sdds_ssp() is there \n",
    "\n",
    "catalogs = ['HLC.RA_20_to_21.fits.gz',\n",
    "'HLC.RA_21_to_22.fits.gz',\n",
    "'HLC.RA_22_to_23.fits.gz',\n",
    "'HLC.RA_23_to_24.fits.gz',\n",
    "'HLC.RA_00_to_01.fits.gz',\n",
    "'HLC.RA_01_to_02.fits.gz',\n",
    "'HLC.RA_02_to_03.fits.gz',\n",
    "'HLC.RA_03_to_04.fits.gz']\n",
    "for cat_name in catalogs : \n",
    "    if cat_name not in os.listdir():\n",
    "        print('Downloading ...', cat_name)# if not, download it ...\n",
    "        url = 'http://das.sdss.org/va/stripe_82_variability/SDSS_82_public/' + cat_name\n",
    "        urllib.request.urlretrieve(url, cat_name)"
   ]
  },
  {
   "cell_type": "markdown",
   "metadata": {},
   "source": [
    "From http://das.sdss.org/va/stripe_82_variability/SDSS_82_public/ : \n",
    "\"The Light-Motion-Curve Catalogue (LMCC) covers Stripe 82 from RA = 20.7h to 3.3h and from Dec. = -1.26 deg to 1.26 deg, which equates to ~249 square degrees. This Stripe has been repeatedly monitored in the u, g, r, i and z bands over a seven-year baseline. The resulting catalogue contains almost 4 million light-motion curves of stellar objects and galaxies. Along with the LMCC, we supply a number of IDL plotting tools to aid in the visualisation of the light-motion-curves (see below).\n",
    "\n",
    "We also provide what we refer to as the Higher-Level Catalogue (HLC) in 8 separate gzipped binary fits files. This catalogue supplies 235 derived quantities for each light-motion-curve, aimed at describing mean magnitudes, photometric variability and astrometric motion.\n",
    "A detailed description of both the LMCC and HLC is available in the paper of Bramich et al. (2008).\""
   ]
  },
  {
   "cell_type": "code",
   "execution_count": 3,
   "metadata": {
    "collapsed": true
   },
   "outputs": [],
   "source": [
    "def ReadTable(name):\n",
    "    hlc_fits = fits.open(name)\n",
    "    hlc_table = Table(hlc_fits[1].data)\n",
    "    return hlc_table\n",
    "\n",
    "# so the table 'squashed' all five filters into 5 measurements per row... Unpack these:\n",
    "# We assume these are standard u,g,r,i,z \n",
    "def FormatMagnitude(table):\n",
    "    mean_psfmag = Table(table['MEAN_PSFMAG'], names=('u', 'g', 'r', 'i','z'))\n",
    "    mean_psfmag_err = Table(table['MEAN_PSFMAG_ERR'], names=('u', 'g', 'r', 'i','z'))\n",
    "    SN = {} #a dictionary\n",
    "    for f in mean_psfmag.colnames : \n",
    "        SN[f] = mean_psfmag[f] / mean_psfmag_err[f]\n",
    "    return mean_psfmag, mean_psfmag_err, SN\n",
    "\n",
    "def PlotProperMotion(table):\n",
    "    ra_pm = table['RA_PM_CLIP']\n",
    "    dec_pm = table['DEC_PM_CLIP']\n",
    "    plt.figure(figsize=(8,12))\n",
    "    for quantity in [ra_pm, dec_pm]:\n",
    "        mask = (0<np.abs(quantity)) * (np.abs(quantity)<0.03)\n",
    "        plt.hist(quantity[mask], lw=2, bins=20, histtype='step')"
   ]
  },
  {
   "cell_type": "code",
   "execution_count": 4,
   "metadata": {},
   "outputs": [],
   "source": [
    "def PlotHess(hlc_table,object_type=\"Stars\",name=\"no_name\", verbose=False,\n",
    "            plot_dynamics=False, axis_statistic = 'median'):\n",
    "    mean_psfmag, mean_psfmag_err, SN = FormatMagnitude(hlc_table)\n",
    "    x_label = r'$\\mathrm{g-i}$'\n",
    "    y_label = r'$\\mathrm{r}$'\n",
    "    \n",
    "    # extract the ra range for the HLC file from the catalog name \n",
    "    ramin = catalog_name[len('HLC.RA_'):len('HLC.RA_')+2]\n",
    "    ramax = catalog_name[-2-len('.fits.gz'):-len('.fits.gz')]\n",
    "    ra_title = ramin+r'$<$' +'RA'+ r'$<$' +ramax + '[hr]'\n",
    "    if (object_type==\"Stars\"):\n",
    "        mObject = hlc_table['MEAN_OBJECT_TYPE'].data == 6\n",
    "        x_min, x_max, y_min, y_max = 0,1.5,15,23\n",
    "    elif object_type == \"Galaxies\":\n",
    "        mObject = (hlc_table['MEAN_OBJECT_TYPE'].data == 3)\n",
    "        x_min, x_max, y_min, y_max = 0,3,17,23\n",
    "    else:\n",
    "        print(\"Can only handle stars and galaxies\")\n",
    "        return\n",
    "        \n",
    "    setup_text_plots(fontsize=15, usetex=True)\n",
    "\n",
    "    # select only high signal to noise :\n",
    "    mSN = (SN['g'] > 5) * ( SN['r'] > 5) * ( SN['i'] > 5 )\n",
    "\n",
    "    # select reasonable color range\n",
    "    gi = mean_psfmag['g'] - mean_psfmag['i']\n",
    "    r = mean_psfmag['r']\n",
    "\n",
    "    m_gi =  (x_min<gi) * (gi<x_max)\n",
    "    m_r = (y_min<r) * (r<y_max)\n",
    "\n",
    "    # select the PM range that makes sense\n",
    "    pm_ra = np.abs(hlc_table['RA_PM_CLIP'].data)\n",
    "    pm_dec = np.abs(hlc_table['DEC_PM_CLIP'].data)\n",
    "\n",
    "    lower_cutoff = 1e-4\n",
    "    upper_cutoff = 0.03\n",
    "    m_pm_ra = (lower_cutoff<pm_ra)*(pm_ra < upper_cutoff)\n",
    "    m_pm_dec =  (lower_cutoff<pm_dec)*(pm_dec<upper_cutoff)\n",
    "\n",
    "    # combine the masks\n",
    "    m = mSN * mObject * m_gi * m_r * m_pm_ra * m_pm_dec\n",
    "    nObjects = np.sum(m)\n",
    "    constant = 7 # b/c it's a lucky number ! \n",
    "    num_bins = int(constant * nObjects ** (1.0 / 4.0))\n",
    "    \n",
    "    # plotted quantities  \n",
    "    x = mean_psfmag['g'][m] - mean_psfmag['i'][m]\n",
    "    y = mean_psfmag['r'][m]\n",
    "    ra = np.abs(hlc_table['RA_PM_CLIP'].data[m])\n",
    "    dec =  np.abs(hlc_table['DEC_PM_CLIP'].data[m])\n",
    "    \n",
    "    # just for kicks, try coloring by  the errror on \n",
    "    # proper motion\n",
    "    #ra = np.abs(hlc_table['RA_PM_ERR_CLIP'].data[m])\n",
    "    #dec = np.abs(hlc_table['DEC_PM_ERR_CLIP'].data[m])\n",
    "    \n",
    "    # use binned_statistic2d  ....\n",
    "    N = bs2d(x,y,x, 'count', bins=num_bins)\n",
    "    \n",
    "    # plot rms rather than median...\n",
    "    if axis_statistic is 'median' : \n",
    "        statistic = 'median'\n",
    "        cb_stat = r'\\mathrm{median}'\n",
    "        \n",
    "    elif axis_statistic is 'rms': \n",
    "        rms = lambda x : np.sqrt(np.mean(np.square(x)))\n",
    "        statistic = rms \n",
    "        cb_stat =r'\\mathrm{rms}'\n",
    "        \n",
    "    elif axis_statistic is 'sigmaG' : \n",
    "        statistic = astroMLstats.sigmaG\n",
    "        cb_stat = r'\\sigma_{G}'\n",
    "        \n",
    "    # calculate statistics ... \n",
    "    \n",
    "    RA_med = bs2d(x,y,ra,statistic=statistic, bins=num_bins)\n",
    "    DEC_med = bs2d(x,y,dec,statistic=statistic, bins=num_bins)\n",
    "    \n",
    "    cmin = min(np.log10(N.statistic.T[N.statistic.T >  0]))+ 0.1\n",
    "    cmax = max(np.log10(N.statistic.T[N.statistic.T >  0]))- 0.1\n",
    "    \n",
    "    if (object_type == \"Stars\"):\n",
    "        levels = np.linspace(cmin, cmax, 6)[3:]\n",
    "    elif object_type == \"Galaxies\": \n",
    "        levels = np.linspace(cmin, cmax, 5)[2:]\n",
    "        # 0, np.log10(N.statistic.max())\n",
    "    else:\n",
    "        error(\"Can only handle stars and galaxies\")\n",
    "\n",
    "    # Define custom colormaps: Set pixels with no sources to white\n",
    "    cmap = plt.cm.viridis\n",
    "    cmap.set_bad('w', 1.)\n",
    "\n",
    "    cmap_multicolor = plt.cm.plasma # jet # inferno\n",
    "    cmap_multicolor.set_bad('w', 1.)\n",
    "\n",
    "    # Create figure and subplots\n",
    "    fig = plt.figure(figsize=(15, 6))\n",
    "    fig.subplots_adjust(wspace=0.22, left=0.1, right=0.95,\n",
    "                    bottom=0.12, top=0.95)\n",
    "\n",
    "    # set colorbar padding\n",
    "    cbar_padding = 0.12\n",
    "\n",
    "    #--------------------\n",
    "    # First axes:\n",
    "    ax = plt.subplot(131) \n",
    "    plt.imshow(np.log10(N.statistic.T), origin='lower',\n",
    "               extent=[N.x_edge[0], N.x_edge[-1], N.y_edge[0], N.y_edge[-1]],\n",
    "               aspect='auto', interpolation='nearest', cmap=cmap,\n",
    "              vmax=2.5)\n",
    "    plt.xlim(x_min,x_max)\n",
    "    plt.ylim(y_min,y_max)\n",
    "    # ticks=[0, 1, 2, 3] format=r'$10^{%i}$' \n",
    "    cb = plt.colorbar( pad=cbar_padding , orientation='horizontal')\n",
    "    cb.set_label(r'$\\log_{10}{(\\mathrm{count})}$')\n",
    "    plt.clim(cmin, cmax)\n",
    "    \n",
    "    plt.xlabel(x_label)\n",
    "    plt.ylabel(y_label)\n",
    "    plt.gca().invert_yaxis()\n",
    "\n",
    "    # set limits on colormap for RA, DEC proper motions \n",
    "    pm_min, pm_max = -2.8, -1.7\n",
    "    \n",
    "    # use Squared Stretch normalization ... \n",
    "    # http://docs.astropy.org/en/stable/visualization/normalization.html\n",
    "    \n",
    "    \n",
    "    #--------------------\n",
    "    # Second axes:\n",
    "    ax = plt.subplot(132)\n",
    "\n",
    "    # define tick location given the PM range ...\n",
    "    #pm_ticks = [-0.04,-0.02,0,0.02,0.04]\n",
    "    #pm_ticks = np.log10(np.array([-0.04,-0.02,0,0.02,0.04]))\n",
    "\n",
    "    # color by median RA \n",
    "    image  = np.log10(RA_med.statistic.T)\n",
    "    #norm = ImageNormalize(image, interval=ManualInterval(vmin=pm_min, vmax=pm_max),\n",
    "                          #MinMaxInterval(),\n",
    "    #                      stretch=SqrtStretch())\n",
    "    #norm = ImageNormalize(stretch=SqrtStretch())\n",
    "    plt.imshow(image, origin='lower',\n",
    "               extent=[RA_med.x_edge[0], RA_med.x_edge[-1], \n",
    "                   RA_med.y_edge[0], RA_med.y_edge[-1]],\n",
    "           aspect='auto', interpolation='nearest', \n",
    "           cmap=cmap_multicolor)# , norm=norm)\n",
    "    #ticks=np.arange(-2.5, 1, 1)\n",
    "    cb = plt.colorbar(pad=cbar_padding , orientation='horizontal')\n",
    "    cb_label = r'$\\log_{10}{(%s\\, \\mu_{\\alpha}\\, ) }$'%cb_stat\n",
    "    cb.set_label(cb_label)\n",
    "    plt.clim(pm_min, pm_max)\n",
    "\n",
    "    # plot the contour of color counts \n",
    "    plt.contour(np.log10(N.statistic.T), levels, colors='k',\n",
    "                extent=[N.x_edge[0], N.x_edge[-1], N.y_edge[0], N.y_edge[-1]],\n",
    "               origin='lower')\n",
    "    plt.xlim(x_min,x_max)\n",
    "    plt.ylim(y_min,y_max)\n",
    "    plt.xlabel(x_label)\n",
    "    plt.ylabel(y_label)\n",
    "    plt.gca().invert_yaxis()\n",
    "\n",
    "    #--------------------\n",
    "    # Third axes:\n",
    "    ax = plt.subplot(133)\n",
    "\n",
    "    # color by median DEC\n",
    "    image  = np.log10(DEC_med.statistic.T)\n",
    "    #norm = ImageNormalize(image,interval=ManualInterval(vmin=pm_min, vmax=pm_max),\n",
    "    #                      #MinMaxInterval(),\n",
    "    #                       stretch=SqrtStretch())\n",
    "    plt.imshow(image, origin='lower',\n",
    "               extent=[DEC_med.x_edge[0], DEC_med.x_edge[-1], \n",
    "                       DEC_med.y_edge[0], DEC_med.y_edge[-1]],\n",
    "               aspect='auto', interpolation='nearest', \n",
    "               cmap=cmap_multicolor)#,norm=norm )\n",
    "    \n",
    "    #ticks=np.arange(-2.5, 1, 1)\n",
    "    cb = plt.colorbar(  pad=cbar_padding , orientation='horizontal')\n",
    "    cb_label = r'$\\log_{10}{(%s\\, \\mu_{\\delta}\\, ) }$'%cb_stat\n",
    "    cb.set_label(cb_label)\n",
    "    plt.clim(pm_min,pm_max)\n",
    "\n",
    "    # plot the contour of color counts \n",
    "    plt.contour(np.log10(N.statistic.T), levels, colors='k',\n",
    "                extent=[N.x_edge[0], N.x_edge[-1], \n",
    "                        N.y_edge[0], N.y_edge[-1]],\n",
    "                origin='lower')\n",
    "\n",
    "    plt.xlim(x_min,x_max)\n",
    "    plt.ylim(y_min,y_max)\n",
    "    plt.xlabel(x_label)\n",
    "    plt.ylabel(y_label)\n",
    "    plt.gca().invert_yaxis()\n",
    "    # add title above the three panels\n",
    "    fig.suptitle(str(nObjects)+' '+object_type + ' '+ra_title, y=0.99, fontsize=18)\n",
    "    \n",
    "    # save the plots \n",
    "    plt.savefig(name+'_'+object_type+'_'+axis_statistic+'.png', bbox_inches='tight')\n",
    "    \n",
    "    # plot the histogram of proper motions \n",
    "    # add vertical lines at the locations of \n",
    "    # limits of raPM, decPM \n",
    "    if plot_dynamics :\n",
    "        fig,ax = plt.subplots(1,1,figsize=(6,4))\n",
    "        for q,l in zip([RA_med, DEC_med], [r'$\\alpha$', r'$\\delta$']) :\n",
    "            x = np.ravel(q.statistic.T)    \n",
    "            ax.hist(np.log10(x[x>0]), histtype='step',lw=2, label=l, bins=20)\n",
    "        ax.axvline(pm_min,lw=2,ls='--', c='blue')\n",
    "        ax.axvline(pm_max, lw=2, ls='--', c='blue')\n",
    "        ax.set_title('Full range of proper motion')\n",
    "        ax.set_ylabel('counts')\n",
    "        ax.set_xlabel(r'$\\log_{10}{(\\mu [\\mathrm{arcsec \\,\\,yr}^{-1}])}$')\n",
    "        plt.legend(loc='upper left')\n",
    "        plt.savefig(name+'_'+object_type+'_'+'_PM.png', bbox_inches='tight')\n",
    "            \n",
    "    if verbose : \n",
    "        return N, RA_med, DEC_med\n",
    "    else:\n",
    "        return"
   ]
  },
  {
   "cell_type": "markdown",
   "metadata": {},
   "source": [
    "# loop over HLC files and object types,\n",
    "# for each plotting the r vs g-i colored by counts  and \n",
    "# two other panels , colored by median proper motion in RA, and DEC\n"
   ]
  },
  {
   "cell_type": "markdown",
   "metadata": {},
   "source": []
  },
  {
   "cell_type": "code",
   "execution_count": null,
   "metadata": {},
   "outputs": [
    {
     "name": "stdout",
     "output_type": "stream",
     "text": [
      "plotting Hess diagrams for  Stars\n"
     ]
    },
    {
     "name": "stderr",
     "output_type": "stream",
     "text": [
      "/home/hayden/.anaconda3/lib/python3.6/site-packages/ipykernel_launcher.py:13: RuntimeWarning: invalid value encountered in true_divide\n",
      "  del sys.path[0]\n",
      "/home/hayden/.anaconda3/lib/python3.6/site-packages/ipykernel_launcher.py:24: RuntimeWarning: invalid value encountered in greater\n",
      "/home/hayden/.anaconda3/lib/python3.6/site-packages/ipykernel_launcher.py:110: RuntimeWarning: divide by zero encountered in log10\n",
      "/home/hayden/.anaconda3/lib/python3.6/site-packages/ipykernel_launcher.py:158: RuntimeWarning: divide by zero encountered in log10\n",
      "/home/hayden/.anaconda3/lib/python3.6/site-packages/ipykernel_launcher.py:189: RuntimeWarning: divide by zero encountered in log10\n",
      "/home/hayden/.anaconda3/lib/python3.6/site-packages/ipykernel_launcher.py:212: RuntimeWarning: invalid value encountered in greater\n",
      "/home/hayden/.anaconda3/lib/python3.6/site-packages/ipykernel_launcher.py:13: RuntimeWarning: invalid value encountered in true_divide\n",
      "  del sys.path[0]\n",
      "/home/hayden/.anaconda3/lib/python3.6/site-packages/ipykernel_launcher.py:24: RuntimeWarning: invalid value encountered in greater\n"
     ]
    },
    {
     "name": "stdout",
     "output_type": "stream",
     "text": [
      "plotting Hess diagrams for  Galaxies\n"
     ]
    },
    {
     "name": "stderr",
     "output_type": "stream",
     "text": [
      "/home/hayden/.anaconda3/lib/python3.6/site-packages/ipykernel_launcher.py:110: RuntimeWarning: divide by zero encountered in log10\n",
      "/home/hayden/.anaconda3/lib/python3.6/site-packages/ipykernel_launcher.py:158: RuntimeWarning: divide by zero encountered in log10\n",
      "/home/hayden/.anaconda3/lib/python3.6/site-packages/ipykernel_launcher.py:189: RuntimeWarning: divide by zero encountered in log10\n"
     ]
    },
    {
     "name": "stdout",
     "output_type": "stream",
     "text": [
      "plotting Hess diagrams for  Stars\n"
     ]
    },
    {
     "name": "stderr",
     "output_type": "stream",
     "text": [
      "/home/hayden/.anaconda3/lib/python3.6/site-packages/ipykernel_launcher.py:110: RuntimeWarning: divide by zero encountered in log10\n",
      "/home/hayden/.anaconda3/lib/python3.6/site-packages/ipykernel_launcher.py:158: RuntimeWarning: divide by zero encountered in log10\n",
      "/home/hayden/.anaconda3/lib/python3.6/site-packages/ipykernel_launcher.py:189: RuntimeWarning: divide by zero encountered in log10\n",
      "/home/hayden/.anaconda3/lib/python3.6/site-packages/ipykernel_launcher.py:212: RuntimeWarning: invalid value encountered in greater\n",
      "/home/hayden/.anaconda3/lib/python3.6/site-packages/ipykernel_launcher.py:13: RuntimeWarning: invalid value encountered in true_divide\n",
      "  del sys.path[0]\n",
      "/home/hayden/.anaconda3/lib/python3.6/site-packages/ipykernel_launcher.py:24: RuntimeWarning: invalid value encountered in greater\n"
     ]
    },
    {
     "name": "stdout",
     "output_type": "stream",
     "text": [
      "plotting Hess diagrams for  Galaxies\n"
     ]
    },
    {
     "name": "stderr",
     "output_type": "stream",
     "text": [
      "/home/hayden/.anaconda3/lib/python3.6/site-packages/ipykernel_launcher.py:110: RuntimeWarning: divide by zero encountered in log10\n",
      "/home/hayden/.anaconda3/lib/python3.6/site-packages/ipykernel_launcher.py:158: RuntimeWarning: divide by zero encountered in log10\n",
      "/home/hayden/.anaconda3/lib/python3.6/site-packages/ipykernel_launcher.py:189: RuntimeWarning: divide by zero encountered in log10\n",
      "/home/hayden/.anaconda3/lib/python3.6/site-packages/ipykernel_launcher.py:212: RuntimeWarning: invalid value encountered in greater\n",
      "/home/hayden/.anaconda3/lib/python3.6/site-packages/ipykernel_launcher.py:13: RuntimeWarning: invalid value encountered in true_divide\n",
      "  del sys.path[0]\n",
      "/home/hayden/.anaconda3/lib/python3.6/site-packages/ipykernel_launcher.py:24: RuntimeWarning: invalid value encountered in greater\n"
     ]
    },
    {
     "name": "stdout",
     "output_type": "stream",
     "text": [
      "plotting Hess diagrams for  Stars\n"
     ]
    },
    {
     "name": "stderr",
     "output_type": "stream",
     "text": [
      "/home/hayden/.anaconda3/lib/python3.6/site-packages/ipykernel_launcher.py:110: RuntimeWarning: divide by zero encountered in log10\n",
      "/home/hayden/.anaconda3/lib/python3.6/site-packages/ipykernel_launcher.py:141: RuntimeWarning: divide by zero encountered in log10\n",
      "/home/hayden/.anaconda3/lib/python3.6/site-packages/ipykernel_launcher.py:158: RuntimeWarning: divide by zero encountered in log10\n",
      "/home/hayden/.anaconda3/lib/python3.6/site-packages/ipykernel_launcher.py:172: RuntimeWarning: divide by zero encountered in log10\n",
      "/home/hayden/.anaconda3/lib/python3.6/site-packages/ipykernel_launcher.py:189: RuntimeWarning: divide by zero encountered in log10\n",
      "/home/hayden/.anaconda3/lib/python3.6/site-packages/ipykernel_launcher.py:212: RuntimeWarning: invalid value encountered in greater\n",
      "/home/hayden/.anaconda3/lib/python3.6/site-packages/ipykernel_launcher.py:13: RuntimeWarning: invalid value encountered in true_divide\n",
      "  del sys.path[0]\n",
      "/home/hayden/.anaconda3/lib/python3.6/site-packages/ipykernel_launcher.py:24: RuntimeWarning: invalid value encountered in greater\n"
     ]
    },
    {
     "name": "stdout",
     "output_type": "stream",
     "text": [
      "plotting Hess diagrams for  Galaxies\n"
     ]
    },
    {
     "name": "stderr",
     "output_type": "stream",
     "text": [
      "/home/hayden/.anaconda3/lib/python3.6/site-packages/ipykernel_launcher.py:110: RuntimeWarning: divide by zero encountered in log10\n",
      "/home/hayden/.anaconda3/lib/python3.6/site-packages/ipykernel_launcher.py:141: RuntimeWarning: divide by zero encountered in log10\n",
      "/home/hayden/.anaconda3/lib/python3.6/site-packages/ipykernel_launcher.py:158: RuntimeWarning: divide by zero encountered in log10\n",
      "/home/hayden/.anaconda3/lib/python3.6/site-packages/ipykernel_launcher.py:172: RuntimeWarning: divide by zero encountered in log10\n",
      "/home/hayden/.anaconda3/lib/python3.6/site-packages/ipykernel_launcher.py:189: RuntimeWarning: divide by zero encountered in log10\n",
      "/home/hayden/.anaconda3/lib/python3.6/site-packages/ipykernel_launcher.py:212: RuntimeWarning: invalid value encountered in greater\n"
     ]
    },
    {
     "name": "stdout",
     "output_type": "stream",
     "text": [
      "Finished catalog HLC.RA_20_to_21.fits.gz\n",
      "plotting Hess diagrams for  Stars\n"
     ]
    },
    {
     "name": "stderr",
     "output_type": "stream",
     "text": [
      "/home/hayden/.anaconda3/lib/python3.6/site-packages/ipykernel_launcher.py:13: RuntimeWarning: invalid value encountered in true_divide\n",
      "  del sys.path[0]\n",
      "/home/hayden/.anaconda3/lib/python3.6/site-packages/ipykernel_launcher.py:24: RuntimeWarning: invalid value encountered in greater\n"
     ]
    },
    {
     "name": "stdout",
     "output_type": "stream",
     "text": [
      "plotting Hess diagrams for  Galaxies\n",
      "plotting Hess diagrams for  Stars\n"
     ]
    }
   ],
   "source": [
    "for catalog_name in catalogs:\n",
    "    hlc_table = ReadTable(catalog_name)\n",
    "    for statistic_type in [\"median\", \"rms\", \"sigmaG\"]:\n",
    "        for object_type in [\"Stars\", \"Galaxies\"]:\n",
    "            print('plotting Hess diagrams for ', object_type)\n",
    "            PlotHess(hlc_table, object_type=object_type, name=catalog_name, \n",
    "                     plot_dynamics=True,axis_statistic=statistic_type)\n",
    "    print(\"Finished catalog \"+catalog_name)"
   ]
  },
  {
   "cell_type": "code",
   "execution_count": null,
   "metadata": {
    "collapsed": true
   },
   "outputs": [],
   "source": []
  }
 ],
 "metadata": {
  "kernelspec": {
   "display_name": "Python 3",
   "language": "python",
   "name": "python3"
  },
  "language_info": {
   "codemirror_mode": {
    "name": "ipython",
    "version": 3
   },
   "file_extension": ".py",
   "mimetype": "text/x-python",
   "name": "python",
   "nbconvert_exporter": "python",
   "pygments_lexer": "ipython3",
   "version": "3.6.1"
  }
 },
 "nbformat": 4,
 "nbformat_minor": 2
}
