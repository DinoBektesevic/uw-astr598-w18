{
 "cells": [
  {
   "cell_type": "code",
   "execution_count": 19,
   "metadata": {
    "collapsed": true
   },
   "outputs": [],
   "source": [
    "from __future__ import print_function\n",
    "\n",
    "import astropy as apy\n",
    "\n",
    "from astropy.coordinates import SkyCoord\n",
    "from astropy import units as u\n",
    "import numpy as np\n",
    "import pylab as plt\n",
    "from astropy.table import Table\n",
    "from astropy.io import fits\n",
    "import csv"
   ]
  },
  {
   "cell_type": "code",
   "execution_count": 10,
   "metadata": {
    "collapsed": true
   },
   "outputs": [],
   "source": [
    "def filter_stars(table):\n",
    "    star_type_mask = table['MEAN_OBJECT_TYPE'] > 5\n",
    "    return table[star_type_mask]\n",
    "    \n",
    "def filter_galaxies(table):\n",
    "    star_type_mask = table['MEAN_OBJECT_TYPE'] == 3\n",
    "    return table[star_type_mask]\n",
    "\n",
    "def filter_pm(table):\n",
    "    dec_pm_min = np.abs(table[\"DEC_PM_CLIP\"]) < 0.04\n",
    "    dec_pm_max = np.abs(table[\"DEC_PM_CLIP\"]) >= 0\n",
    "    ra_pm_min = np.abs(table[\"RA_PM_CLIP\"]) < 0.04\n",
    "    ra_pm_max = np.abs(table[\"RA_PM_CLIP\"]) >= 0\n",
    "    return table[dec_pm_min & dec_pm_max & ra_pm_max & ra_pm_max]\n",
    "    \n",
    "\n",
    "def read_hlc_file(filename = \"HLC.RA_02_to_03.fits\", objfilter=\"stars\", extra=False, absval=True):\n",
    "    f = fits.open(filename)\n",
    "    table = Table(f[1].data)\n",
    "    \n",
    "    if objfilter == \"stars\":\n",
    "        table = filter_stars(table)\n",
    "        #table = filter_pm(table)\n",
    "    elif objfilter == \"galaxies\":\n",
    "        table = filter_galaxies(table)\n",
    "    elif objfilter == \"off\" or objfilter is None:\n",
    "        pass\n",
    "    else:\n",
    "        raise ValueError(\"Unknown option for objfilter: {0}\".format(objfilter))\n",
    "\n",
    "    #get interesting values\n",
    "    mags = Table(table['MEAN_PSFMAG_CLIP'], names=('u', 'g', 'r', 'i','z')) \n",
    "    if absval:\n",
    "        rapm = np.abs(table['RA_PM_CLIP'].data)\n",
    "        decpm = np.abs(table['DEC_PM_CLIP'].data)\n",
    "    else:\n",
    "        rapm = table['RA_PM_CLIP'].data\n",
    "        decpm = table['DEC_PM_CLIP'].data\n",
    "    if extra:\n",
    "        ra = table[\"RA_MEAN_CLIP\"].data\n",
    "        dec = table[\"RA_MEAN_CLIP\"].data\n",
    "        expmags = Table(table['MEAN_EXPMAG_CLIP'], names=('u', 'g', 'r', 'i','z')) \n",
    "        return mags, rapm, decpm, ra, dec, expmags\n",
    "    \n",
    "    return mags, rapm, decpm    "
   ]
  },
  {
   "cell_type": "code",
   "execution_count": 11,
   "metadata": {
    "collapsed": true
   },
   "outputs": [],
   "source": [
    "def _arrayify(a):\n",
    "\n",
    "    \"\"\"Turn seq into a 1-d numpy array.\"\"\"\n",
    "\n",
    "    try:\n",
    "        arr = np.array(a)\n",
    "    except:\n",
    "        raise\n",
    "\n",
    "    return arr\n",
    "\n",
    "\n",
    "def xmatch(ra1,dec1,ra2,dec2,maxdist=None,units='deg',method='astropy',**kwargs):\n",
    "\n",
    "    \"\"\"Cross-match two sets of ra & dec coordinates locally (i.e. all coordinates are in RAM).\n",
    "\n",
    "    The function will search for counterparts of ra1/dec1 coordinates\n",
    "    in the in ra2/dec2 coordinate set, i.e. one can consider ra2/dec2\n",
    "    to be the catalog that will be searched.\n",
    "\n",
    "    Parameters\n",
    "    ----------\n",
    "    ra1, dec1: 1-d array-like sequences\n",
    "        RA and declination of first coordinate set, in units of `units`\n",
    "\n",
    "    ra2, dec2: 1-d array-like sequences\n",
    "        RA and declination of second coordinate set, in units of `units`\n",
    "\n",
    "    maxdist : float or None\n",
    "        If not `None`, then it is the maximum angular distance (in\n",
    "        units of `units`) to be considered. All distances greater than\n",
    "        that will be considered non-matches. If `None`, then all\n",
    "        ra1/dec1 will have matches in ra2/dec2.\n",
    "\n",
    "    units : str\n",
    "        Units of `ra1`, `dec1`, `ra2`, `dec2`. Default: 'deg' (decimal degrees).\n",
    "\n",
    "    method : str\n",
    "        Currently only astropy's :func:`match_to_catalog_sky()` method\n",
    "        is supported, i.e. the default 'astropy'.\n",
    "\n",
    "    Other Parameters\n",
    "    ----------------\n",
    "    nthneighbor : int, optional\n",
    "        If ``method='astropy'``. Which closest neighbor to search for.\n",
    "        Typically ``1`` is desired here, as that is correct for\n",
    "        matching one set of coordinates to another. The next likely\n",
    "        use case is ``2``, for matching a coordinate catalog against\n",
    "        *itself* (``1`` is inappropriate because each point will find\n",
    "        itself as the closest match).\n",
    "\n",
    "    Returns\n",
    "    -------\n",
    "    idx : 1-d array\n",
    "        Index values of the ra1/dec1 counterparts found in\n",
    "        ra2/dec2. Thus ra2[idx], dec2[idx] will select from the\n",
    "        ra2/dec2 catalog the matched counterparts of the ra1/dec1\n",
    "        coordinate pairs.\n",
    "\n",
    "        If `maxdist` was not `None` but a number instead, then 'idx'\n",
    "        only contains the objects matched up to the `maxdist` radius.\n",
    "\n",
    "    dist2d : 1-d array\n",
    "        The angular distances of the matches found in the ra2/dec2\n",
    "        catalog. In units of `units`.\n",
    "\n",
    "        If `maxdist` was not `None` but a number instead, then\n",
    "        'dist2d' only contains the objects matched up to the `maxdist`\n",
    "        radius.\n",
    "\n",
    "    \"\"\"\n",
    "\n",
    "    # turn coordinate sequences into 1d arrays\n",
    "    ra1 = _arrayify(ra1)\n",
    "    dec1 = _arrayify(dec1)\n",
    "    ra2 = _arrayify(ra2)\n",
    "    dec2 = _arrayify(dec2)\n",
    "\n",
    "    if method == 'astropy':\n",
    "        unit = getattr(u,units)\n",
    "        c1 = SkyCoord(ra=ra1*unit, dec=dec1*unit)\n",
    "        c2 = SkyCoord(ra=ra2*unit, dec=dec2*unit)\n",
    "        idx, dist2d, dist3d = c1.match_to_catalog_sky(c2,**kwargs)\n",
    "\n",
    "        if maxdist is not None:\n",
    "            sel = (dist2d <= maxdist*unit)\n",
    "            idx = idx[sel]\n",
    "            dist2d = dist2d[sel]\n",
    "\n",
    "    elif method == 'q3cpy':  # serialize Adam's code in Python first\n",
    "        raise NotImplementedError(\"Method '%s' not yet implemented.\" % method)\n",
    "\n",
    "    else:\n",
    "        raise Exception(\"'%s' is not a valid method.\" % method)\n",
    "\n",
    "    return idx, dist2d\n",
    "\n"
   ]
  },
  {
   "cell_type": "code",
   "execution_count": 13,
   "metadata": {},
   "outputs": [],
   "source": [
    "mags, rapm, decpm, ra1, dec1, expmags = read_hlc_file(\"../homeworks/Hw1_DinoBektesevic/HLC.RA_00_to_01.fits\", objfilter=None, extra=True, absval=False)"
   ]
  },
  {
   "cell_type": "code",
   "execution_count": 26,
   "metadata": {},
   "outputs": [
    {
     "data": {
      "text/html": [
       "&lt;Table length=3716545&gt;\n",
       "<table id=\"table140014737762832\" class=\"table-striped table-bordered table-condensed\">\n",
       "<thead><tr><th>ra</th><th>dec</th><th>pmra</th><th>pmraerr</th><th>pmdec</th><th>pmdecerr</th><th>mjd</th><th>deltamjd</th><th>gmag</th><th>grms</th><th>gerr</th><th>rmag</th><th>rrms</th><th>rerr</th><th>imag</th><th>irms</th><th>ierr</th><th>class_star</th><th>fwhm</th><th>ebv</th><th>nphot</th></tr></thead>\n",
       "<thead><tr><th>float64</th><th>float64</th><th>float64</th><th>float64</th><th>float64</th><th>float64</th><th>float64</th><th>float64</th><th>float64</th><th>float64</th><th>float64</th><th>float64</th><th>float64</th><th>float64</th><th>float64</th><th>float64</th><th>float64</th><th>float64</th><th>float64</th><th>float64</th><th>int64</th></tr></thead>\n",
       "<tr><td>315.012148225</td><td>-1.29859422822</td><td>1275.32477859</td><td>1314.59016223</td><td>-91.9294582075</td><td>1398.31935707</td><td>57598.6972853</td><td>10.879461</td><td>99.989998</td><td>999999.0</td><td>9.9899998</td><td>20.612076</td><td>999999.0</td><td>0.027147001</td><td>99.989998</td><td>999999.0</td><td>9.9899998</td><td>0.97888899</td><td>1.380337</td><td>0.087261997</td><td>2</td></tr>\n",
       "<tr><td>315.010753856</td><td>-1.29788009321</td><td>-714.960501254</td><td>3414.340885</td><td>-272.622408939</td><td>3447.44418474</td><td>57598.6972853</td><td>10.879461</td><td>99.989998</td><td>999999.0</td><td>9.9899998</td><td>21.986279</td><td>999999.0</td><td>0.079820998</td><td>99.989998</td><td>999999.0</td><td>9.9899998</td><td>0.899216</td><td>1.522221</td><td>0.087286003</td><td>2</td></tr>\n",
       "<tr><td>315.013867349</td><td>-1.29628741391</td><td>-2339.88941393</td><td>6293.68251465</td><td>-2186.86337026</td><td>6311.70266805</td><td>57598.6972853</td><td>10.879461</td><td>99.989998</td><td>999999.0</td><td>9.9899998</td><td>22.269653</td><td>999999.0</td><td>0.095987</td><td>99.989998</td><td>999999.0</td><td>9.9899998</td><td>0.34095901</td><td>2.4877191</td><td>0.087237</td><td>2</td></tr>\n",
       "<tr><td>315.003075442</td><td>-1.29364556559</td><td>106.992177304</td><td>118.045727223</td><td>18.3782817287</td><td>119.195840746</td><td>57717.185732</td><td>360.90506</td><td>22.649281</td><td>999999.0</td><td>0.092128001</td><td>21.409351</td><td>999999.0</td><td>0.052671</td><td>99.989998</td><td>999999.0</td><td>9.9899998</td><td>0.866193</td><td>1.79105</td><td>0.08743</td><td>3</td></tr>\n",
       "<tr><td>315.003150251</td><td>-1.29117939779</td><td>-1.56484703704</td><td>24.1412972143</td><td>-6.21648569305</td><td>29.3903214509</td><td>57717.185732</td><td>360.90506</td><td>18.699413</td><td>999999.0</td><td>0.0066479999</td><td>18.291037</td><td>999999.0</td><td>0.0064750002</td><td>99.989998</td><td>999999.0</td><td>9.9899998</td><td>0.98412299</td><td>1.3741961</td><td>0.087435998</td><td>3</td></tr>\n",
       "<tr><td>315.006782513</td><td>-1.29351168006</td><td>-29.658981189</td><td>25.0975481946</td><td>-10.1823353055</td><td>30.1658241086</td><td>57717.185732</td><td>360.90506</td><td>19.521944</td><td>999999.0</td><td>0.0093940003</td><td>19.056189</td><td>999999.0</td><td>0.0096169999</td><td>99.989998</td><td>999999.0</td><td>9.9899998</td><td>0.98353201</td><td>1.371506</td><td>0.087362997</td><td>3</td></tr>\n",
       "<tr><td>315.000335946</td><td>-1.28725232795</td><td>74.9851549866</td><td>53.7685288431</td><td>59.4659526729</td><td>56.2419562016</td><td>57717.185732</td><td>360.90506</td><td>21.79801</td><td>999999.0</td><td>0.044064</td><td>20.41136</td><td>999999.0</td><td>0.023931</td><td>99.989998</td><td>999999.0</td><td>9.9899998</td><td>0.97916597</td><td>1.506238</td><td>0.087499999</td><td>3</td></tr>\n",
       "<tr><td>315.005266004</td><td>-1.2860947224</td><td>4.54835673519</td><td>33.2638368645</td><td>-19.4873175145</td><td>33.946344009</td><td>57761.4979698</td><td>360.90506</td><td>21.709343</td><td>999999.0</td><td>0.046</td><td>20.621595</td><td>999999.0</td><td>0.028348999</td><td>99.989998</td><td>999999.0</td><td>9.9899998</td><td>0.974819</td><td>1.406352</td><td>0.087398998</td><td>4</td></tr>\n",
       "<tr><td>315.007057874</td><td>-1.28901810752</td><td>2.84316614519</td><td>50.7506305808</td><td>28.1143447746</td><td>53.3655914347</td><td>57717.185732</td><td>360.90506</td><td>21.587086</td><td>999999.0</td><td>0.037985999</td><td>20.32089</td><td>999999.0</td><td>0.023398999</td><td>99.989998</td><td>999999.0</td><td>9.9899998</td><td>0.98008198</td><td>1.560813</td><td>0.087362997</td><td>3</td></tr>\n",
       "<tr><td>315.007925737</td><td>-1.28757689158</td><td>-78.1404669617</td><td>90.4362443892</td><td>7.91497201604</td><td>91.9340064792</td><td>57717.185732</td><td>360.90506</td><td>22.487505</td><td>999999.0</td><td>0.07384</td><td>21.213781</td><td>999999.0</td><td>0.048655</td><td>99.989998</td><td>999999.0</td><td>9.9899998</td><td>0.93148798</td><td>1.6459039</td><td>0.087346002</td><td>3</td></tr>\n",
       "<tr><td>...</td><td>...</td><td>...</td><td>...</td><td>...</td><td>...</td><td>...</td><td>...</td><td>...</td><td>...</td><td>...</td><td>...</td><td>...</td><td>...</td><td>...</td><td>...</td><td>...</td><td>...</td><td>...</td><td>...</td><td>...</td></tr>\n",
       "<tr><td>44.9890073618</td><td>-0.0174022410813</td><td>-67.6105859086</td><td>168.861994276</td><td>-129.930986356</td><td>169.313025351</td><td>56737.060944</td><td>595.20294</td><td>99.989998</td><td>999999.0</td><td>9.9899998</td><td>21.935555</td><td>999999.0</td><td>0.107864</td><td>21.306305</td><td>0.22041699</td><td>0.085212998</td><td>0.14477199</td><td>2.592217</td><td>0.091126002</td><td>5</td></tr>\n",
       "<tr><td>44.9955226541</td><td>-0.0179206454404</td><td>127.273208932</td><td>89.9437978763</td><td>-52.0084359399</td><td>91.3957543321</td><td>56740.5503567</td><td>595.20294</td><td>22.345573</td><td>0.145862</td><td>0.062771</td><td>22.15448</td><td>999999.0</td><td>0.064755999</td><td>22.088383</td><td>0.145285</td><td>0.077147998</td><td>0.75773901</td><td>1.602486</td><td>0.092060998</td><td>7</td></tr>\n",
       "<tr><td>44.9985625087</td><td>-0.0155656270714</td><td>108.533164203</td><td>431.632748314</td><td>144.628989414</td><td>433.88687108</td><td>56837.5542979</td><td>283.15094</td><td>99.989998</td><td>999999.0</td><td>9.9899998</td><td>22.383713</td><td>999999.0</td><td>0.118633</td><td>21.925758</td><td>999999.0</td><td>0.125359</td><td>0.057980999</td><td>2.492449</td><td>0.092427</td><td>4</td></tr>\n",
       "<tr><td>44.9955001983</td><td>-0.0128446172793</td><td>17.3310508464</td><td>75.2584554585</td><td>-24.7105411531</td><td>77.3569876872</td><td>56740.5503567</td><td>595.20294</td><td>22.081875</td><td>0.052928001</td><td>0.048480999</td><td>21.868423</td><td>999999.0</td><td>0.053422999</td><td>21.608618</td><td>0.037000999</td><td>0.072264999</td><td>0.83592302</td><td>1.501199</td><td>0.091921002</td><td>7</td></tr>\n",
       "<tr><td>44.999783836</td><td>-0.0136186082528</td><td>2.21740792915</td><td>22.4020164212</td><td>-20.6239738353</td><td>24.7255356529</td><td>56740.5503567</td><td>595.20294</td><td>21.22028</td><td>0.045147002</td><td>0.027836001</td><td>19.780563</td><td>999999.0</td><td>0.011717</td><td>18.824818</td><td>0.003143</td><td>0.0066300002</td><td>0.98020297</td><td>1.213524</td><td>0.092546999</td><td>7</td></tr>\n",
       "<tr><td>44.9985499906</td><td>-0.0132667935686</td><td>75.2407880106</td><td>157.748988345</td><td>-40.7975810972</td><td>158.150225596</td><td>56740.5503567</td><td>595.20294</td><td>22.407463</td><td>0.116682</td><td>0.099970996</td><td>21.891928</td><td>999999.0</td><td>0.093284003</td><td>21.481058</td><td>0.014205</td><td>0.080963999</td><td>0.24494299</td><td>2.7602041</td><td>0.092363</td><td>7</td></tr>\n",
       "<tr><td>44.9866180669</td><td>-0.00240300543835</td><td>-1.98087724115</td><td>13.3781417915</td><td>8.32615480342</td><td>14.2140667177</td><td>56656.7227758</td><td>595.21985</td><td>20.980068</td><td>0.031175001</td><td>0.022042001</td><td>19.588064</td><td>999999.0</td><td>0.010463</td><td>18.23333</td><td>0.001321</td><td>0.0039479998</td><td>0.98178899</td><td>1.229804</td><td>0.090383999</td><td>8</td></tr>\n",
       "<tr><td>44.9945237663</td><td>-0.00611873649648</td><td>-146.024863899</td><td>91.120088488</td><td>-54.3596125085</td><td>91.2715774779</td><td>56702.6730845</td><td>595.20294</td><td>22.559755</td><td>0.01222</td><td>0.081174001</td><td>22.465107</td><td>999999.0</td><td>0.106848</td><td>22.234203</td><td>0.13855</td><td>0.098563999</td><td>0.44449401</td><td>1.654659</td><td>0.091601998</td><td>7</td></tr>\n",
       "<tr><td>44.9940777942</td><td>-0.00469499192614</td><td>-1809.1474918</td><td>1523.77053909</td><td>1596.70324833</td><td>1523.10154659</td><td>56909.3511131</td><td>41.878738</td><td>99.989998</td><td>999999.0</td><td>9.9899998</td><td>22.956955</td><td>999999.0</td><td>0.145202</td><td>22.676466</td><td>999999.0</td><td>0.190724</td><td>0.56568402</td><td>1.217847</td><td>0.091502003</td><td>2</td></tr>\n",
       "<tr><td>44.9996242674</td><td>-0.00246205019737</td><td>-26.2884096076</td><td>39.3838183246</td><td>9.36597550373</td><td>39.8427421415</td><td>56656.7227758</td><td>595.21985</td><td>22.733755</td><td>0.014069</td><td>0.111488</td><td>21.504812</td><td>999999.0</td><td>0.044402</td><td>20.801853</td><td>0.020536</td><td>0.030929999</td><td>0.44022501</td><td>1.792998</td><td>0.092225</td><td>8</td></tr>\n",
       "</table>"
      ],
      "text/plain": [
       "<Table length=3716545>\n",
       "      ra             dec             pmra      ...    fwhm       ebv     nphot\n",
       "   float64         float64         float64     ...  float64    float64   int64\n",
       "------------- ----------------- -------------- ... --------- ----------- -----\n",
       "315.012148225    -1.29859422822  1275.32477859 ...  1.380337 0.087261997     2\n",
       "315.010753856    -1.29788009321 -714.960501254 ...  1.522221 0.087286003     2\n",
       "315.013867349    -1.29628741391 -2339.88941393 ... 2.4877191    0.087237     2\n",
       "315.003075442    -1.29364556559  106.992177304 ...   1.79105     0.08743     3\n",
       "315.003150251    -1.29117939779 -1.56484703704 ... 1.3741961 0.087435998     3\n",
       "315.006782513    -1.29351168006  -29.658981189 ...  1.371506 0.087362997     3\n",
       "315.000335946    -1.28725232795  74.9851549866 ...  1.506238 0.087499999     3\n",
       "315.005266004     -1.2860947224  4.54835673519 ...  1.406352 0.087398998     4\n",
       "315.007057874    -1.28901810752  2.84316614519 ...  1.560813 0.087362997     3\n",
       "315.007925737    -1.28757689158 -78.1404669617 ... 1.6459039 0.087346002     3\n",
       "          ...               ...            ... ...       ...         ...   ...\n",
       "44.9890073618  -0.0174022410813 -67.6105859086 ...  2.592217 0.091126002     5\n",
       "44.9955226541  -0.0179206454404  127.273208932 ...  1.602486 0.092060998     7\n",
       "44.9985625087  -0.0155656270714  108.533164203 ...  2.492449    0.092427     4\n",
       "44.9955001983  -0.0128446172793  17.3310508464 ...  1.501199 0.091921002     7\n",
       " 44.999783836  -0.0136186082528  2.21740792915 ...  1.213524 0.092546999     7\n",
       "44.9985499906  -0.0132667935686  75.2407880106 ... 2.7602041    0.092363     7\n",
       "44.9866180669 -0.00240300543835 -1.98087724115 ...  1.229804 0.090383999     8\n",
       "44.9945237663 -0.00611873649648 -146.024863899 ...  1.654659 0.091601998     7\n",
       "44.9940777942 -0.00469499192614  -1809.1474918 ...  1.217847 0.091502003     2\n",
       "44.9996242674 -0.00246205019737 -26.2884096076 ...  1.792998    0.092225     8"
      ]
     },
     "execution_count": 26,
     "metadata": {},
     "output_type": "execute_result"
    }
   ],
   "source": [
    "t = apy.io.ascii.read(\"stripe82_315_ra_45_-1_3_dec_0.txt\")\n",
    "t   "
   ]
  },
  {
   "cell_type": "code",
   "execution_count": 27,
   "metadata": {},
   "outputs": [],
   "source": [
    "ra2 = np.asarray(t[\"ra\"])\n",
    "dec2 = np.asarray(t[\"dec\"])"
   ]
  },
  {
   "cell_type": "code",
   "execution_count": 28,
   "metadata": {},
   "outputs": [],
   "source": [
    "idx, dist2d = xmatch(ra1, dec1, ra2, dec2, maxdist=0.000277778)"
   ]
  },
  {
   "cell_type": "code",
   "execution_count": 30,
   "metadata": {},
   "outputs": [
    {
     "data": {
      "text/plain": [
       "array([], dtype=int64)"
      ]
     },
     "execution_count": 30,
     "metadata": {},
     "output_type": "execute_result"
    }
   ],
   "source": [
    "idx"
   ]
  },
  {
   "cell_type": "code",
   "execution_count": null,
   "metadata": {
    "collapsed": true
   },
   "outputs": [],
   "source": []
  }
 ],
 "metadata": {
  "kernelspec": {
   "display_name": "Python 2",
   "language": "python",
   "name": "python2"
  },
  "language_info": {
   "codemirror_mode": {
    "name": "ipython",
    "version": 2
   },
   "file_extension": ".py",
   "mimetype": "text/x-python",
   "name": "python",
   "nbconvert_exporter": "python",
   "pygments_lexer": "ipython2",
   "version": "2.7.13"
  }
 },
 "nbformat": 4,
 "nbformat_minor": 2
}
